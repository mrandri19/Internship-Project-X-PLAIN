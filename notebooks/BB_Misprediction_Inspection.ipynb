{
 "cells": [
  {
   "cell_type": "code",
   "execution_count": 1,
   "metadata": {
    "slideshow": {
     "slide_type": "skip"
    }
   },
   "outputs": [],
   "source": [
    "import warnings\n",
    "from IPython.display import display, Latex\n",
    "from IPython.display import Markdown as md\n",
    "warnings.filterwarnings(\"ignore\", category=DeprecationWarning) \n",
    "from XPLAIN_class import *\n",
    "from XPLAIN_util import *"
   ]
  },
  {
   "cell_type": "markdown",
   "metadata": {
    "slideshow": {
     "slide_type": "slide"
    }
   },
   "source": [
    "### Analysis of mispredicted instance\n",
    "Investigation of the motivations behind wrongly assignments"
   ]
  },
  {
   "cell_type": "markdown",
   "metadata": {
    "slideshow": {
     "slide_type": "slide"
    }
   },
   "source": [
    "Case 1: adult dataset"
   ]
  },
  {
   "cell_type": "code",
   "execution_count": 2,
   "metadata": {
    "slideshow": {
     "slide_type": "slide"
    }
   },
   "outputs": [
    {
     "data": {
      "text/markdown": [
       "UCI adult dataset - NB classifier"
      ],
      "text/plain": [
       "<IPython.core.display.Markdown object>"
      ]
     },
     "metadata": {},
     "output_type": "display_data"
    },
    {
     "data": {
      "application/vnd.jupyter.widget-view+json": {
       "model_id": "a0bfc0b933054d65bc2119a714b471cd",
       "version_major": 2,
       "version_minor": 0
      },
      "text/plain": [
       "Label(value='Select dataset and classifier:')"
      ]
     },
     "metadata": {},
     "output_type": "display_data"
    },
    {
     "data": {
      "application/vnd.jupyter.widget-view+json": {
       "model_id": "16bb5cb427794c8fa9d03a1ed09c1954",
       "version_major": 2,
       "version_minor": 0
      },
      "text/plain": [
       "VBox(children=(Dropdown(description='Dataset', options=('monks-1', 'zoo', 'adult'), value='monks-1'), Dropdown…"
      ]
     },
     "metadata": {},
     "output_type": "display_data"
    },
    {
     "data": {
      "application/vnd.jupyter.widget-view+json": {
       "model_id": "1342d8dad5034ec7a9f25e16d37188d7",
       "version_major": 2,
       "version_minor": 0
      },
      "text/plain": [
       "Button(description='Select', style=ButtonStyle())"
      ]
     },
     "metadata": {},
     "output_type": "display_data"
    }
   ],
   "source": [
    "x=XPLAIN_util()\n",
    "e=Explanation_w()\n",
    "display(md(\"UCI adult dataset - NB classifier\"))\n",
    "x.interactiveDatasetClassifierSelection()\n",
    "#n_insts=[\"1\", \"0\", \"8\", \"3\",\"10\", \"409\", \"15593\"]"
   ]
  },
  {
   "cell_type": "code",
   "execution_count": 3,
   "metadata": {
    "slideshow": {
     "slide_type": "skip"
    }
   },
   "outputs": [],
   "source": [
    "xPaNB=deepcopy(x.getXPLAIN_obj())\n",
    "#Demo purposes\n",
    "if x.getXPLAIN_obj()==None:\n",
    "    xPaNB=deepcopy(x.def_XPLAIN_o(\"datasets/adult_d.arff\", \"nb\"))\n",
    "else:\n",
    "    xPaNB=deepcopy(x.getXPLAIN_obj())"
   ]
  },
  {
   "cell_type": "markdown",
   "metadata": {
    "slideshow": {
     "slide_type": "slide"
    }
   },
   "source": [
    "Get mispredicted instances"
   ]
  },
  {
   "cell_type": "code",
   "execution_count": 4,
   "metadata": {
    "slideshow": {
     "slide_type": "-"
    }
   },
   "outputs": [
    {
     "data": {
      "application/vnd.jupyter.widget-view+json": {
       "model_id": "eca6191a2b8c4ab4ba8ba8dd492f795a",
       "version_major": 2,
       "version_minor": 0
      },
      "text/plain": [
       "Dropdown(description='Mispredicted classes', options=('All classes', '<=50K', '>50K'), style=DescriptionStyle(…"
      ]
     },
     "metadata": {},
     "output_type": "display_data"
    },
    {
     "data": {
      "application/vnd.jupyter.widget-view+json": {
       "model_id": "fb05aed05d5b452db24de00d9d6064de",
       "version_major": 2,
       "version_minor": 0
      },
      "text/plain": [
       "HBox(children=(Button(description='Get mispredicted', style=ButtonStyle()), Button(description='Clear', style=…"
      ]
     },
     "metadata": {},
     "output_type": "display_data"
    }
   ],
   "source": [
    "xPaNB.interactiveMispredicted()"
   ]
  },
  {
   "cell_type": "markdown",
   "metadata": {
    "slideshow": {
     "slide_type": "slide"
    }
   },
   "source": [
    "Instances mispredicted"
   ]
  },
  {
   "cell_type": "code",
   "execution_count": 5,
   "metadata": {
    "scrolled": true,
    "slideshow": {
     "slide_type": "-"
    }
   },
   "outputs": [
    {
     "data": {
      "text/html": [
       "<div>\n",
       "<style scoped>\n",
       "    .dataframe tbody tr th:only-of-type {\n",
       "        vertical-align: middle;\n",
       "    }\n",
       "\n",
       "    .dataframe tbody tr th {\n",
       "        vertical-align: top;\n",
       "    }\n",
       "\n",
       "    .dataframe thead th {\n",
       "        text-align: right;\n",
       "    }\n",
       "</style>\n",
       "<table border=\"1\" class=\"dataframe\">\n",
       "  <thead>\n",
       "    <tr style=\"text-align: right;\">\n",
       "      <th></th>\n",
       "      <th>sex</th>\n",
       "      <th>workclass</th>\n",
       "      <th>education</th>\n",
       "      <th>race</th>\n",
       "      <th>marital-status</th>\n",
       "      <th>occupation</th>\n",
       "      <th>relationship</th>\n",
       "      <th>capital-gain</th>\n",
       "      <th>capital-loss</th>\n",
       "      <th>hours-per-week</th>\n",
       "      <th>age</th>\n",
       "      <th>class</th>\n",
       "      <th>pred</th>\n",
       "    </tr>\n",
       "    <tr>\n",
       "      <th>id</th>\n",
       "      <th></th>\n",
       "      <th></th>\n",
       "      <th></th>\n",
       "      <th></th>\n",
       "      <th></th>\n",
       "      <th></th>\n",
       "      <th></th>\n",
       "      <th></th>\n",
       "      <th></th>\n",
       "      <th></th>\n",
       "      <th></th>\n",
       "      <th></th>\n",
       "      <th></th>\n",
       "    </tr>\n",
       "  </thead>\n",
       "  <tbody>\n",
       "    <tr>\n",
       "      <th>8</th>\n",
       "      <td>Male</td>\n",
       "      <td>Private</td>\n",
       "      <td>High-School-grad</td>\n",
       "      <td>White</td>\n",
       "      <td>Married</td>\n",
       "      <td>Other</td>\n",
       "      <td>Husband</td>\n",
       "      <td>low</td>\n",
       "      <td>low</td>\n",
       "      <td>39.5-40.5</td>\n",
       "      <td>26-33</td>\n",
       "      <td>&lt;=50K</td>\n",
       "      <td>&gt;50K</td>\n",
       "    </tr>\n",
       "    <tr>\n",
       "      <th>10</th>\n",
       "      <td>Male</td>\n",
       "      <td>Local-gov</td>\n",
       "      <td>High-School-grad</td>\n",
       "      <td>White</td>\n",
       "      <td>Married</td>\n",
       "      <td>Other</td>\n",
       "      <td>Husband</td>\n",
       "      <td>low</td>\n",
       "      <td>low</td>\n",
       "      <td>&gt;=50.5</td>\n",
       "      <td>&gt;=51</td>\n",
       "      <td>&lt;=50K</td>\n",
       "      <td>&gt;50K</td>\n",
       "    </tr>\n",
       "    <tr>\n",
       "      <th>701</th>\n",
       "      <td>Male</td>\n",
       "      <td>Private</td>\n",
       "      <td>High-School-grad</td>\n",
       "      <td>White</td>\n",
       "      <td>Married</td>\n",
       "      <td>Blue-Collar</td>\n",
       "      <td>Husband</td>\n",
       "      <td>low</td>\n",
       "      <td>low</td>\n",
       "      <td>&gt;=50.5</td>\n",
       "      <td>34-41</td>\n",
       "      <td>&lt;=50K</td>\n",
       "      <td>&gt;50K</td>\n",
       "    </tr>\n",
       "    <tr>\n",
       "      <th>739</th>\n",
       "      <td>Female</td>\n",
       "      <td>Private</td>\n",
       "      <td>High-School-grad</td>\n",
       "      <td>Asian-Pac-Islander</td>\n",
       "      <td>Married</td>\n",
       "      <td>Blue-Collar</td>\n",
       "      <td>Wife</td>\n",
       "      <td>low</td>\n",
       "      <td>low</td>\n",
       "      <td>39.5-40.5</td>\n",
       "      <td>&gt;=51</td>\n",
       "      <td>&lt;=50K</td>\n",
       "      <td>&gt;50K</td>\n",
       "    </tr>\n",
       "    <tr>\n",
       "      <th>835</th>\n",
       "      <td>Male</td>\n",
       "      <td>Private</td>\n",
       "      <td>High-School-grad</td>\n",
       "      <td>White</td>\n",
       "      <td>Married</td>\n",
       "      <td>Blue-Collar</td>\n",
       "      <td>Husband</td>\n",
       "      <td>low</td>\n",
       "      <td>low</td>\n",
       "      <td>39.5-40.5</td>\n",
       "      <td>42-50</td>\n",
       "      <td>&lt;=50K</td>\n",
       "      <td>&gt;50K</td>\n",
       "    </tr>\n",
       "  </tbody>\n",
       "</table>\n",
       "</div>"
      ],
      "text/plain": [
       "        sex  workclass         education                race marital-status  \\\n",
       "id                                                                            \n",
       "8      Male    Private  High-School-grad               White        Married   \n",
       "10     Male  Local-gov  High-School-grad               White        Married   \n",
       "701    Male    Private  High-School-grad               White        Married   \n",
       "739  Female    Private  High-School-grad  Asian-Pac-Islander        Married   \n",
       "835    Male    Private  High-School-grad               White        Married   \n",
       "\n",
       "      occupation relationship capital-gain capital-loss hours-per-week    age  \\\n",
       "id                                                                              \n",
       "8          Other      Husband          low          low      39.5-40.5  26-33   \n",
       "10         Other      Husband          low          low         >=50.5   >=51   \n",
       "701  Blue-Collar      Husband          low          low         >=50.5  34-41   \n",
       "739  Blue-Collar         Wife          low          low      39.5-40.5   >=51   \n",
       "835  Blue-Collar      Husband          low          low      39.5-40.5  42-50   \n",
       "\n",
       "     class  pred  \n",
       "id                \n",
       "8    <=50K  >50K  \n",
       "10   <=50K  >50K  \n",
       "701  <=50K  >50K  \n",
       "739  <=50K  >50K  \n",
       "835  <=50K  >50K  "
      ]
     },
     "execution_count": 5,
     "metadata": {},
     "output_type": "execute_result"
    }
   ],
   "source": [
    "xPaNB.showMispredictedTabularForm().head()"
   ]
  },
  {
   "cell_type": "markdown",
   "metadata": {
    "slideshow": {
     "slide_type": "slide"
    }
   },
   "source": [
    "Inspection of a mispredicted instance"
   ]
  },
  {
   "cell_type": "code",
   "execution_count": 6,
   "metadata": {
    "scrolled": true,
    "slideshow": {
     "slide_type": "-"
    }
   },
   "outputs": [
    {
     "data": {
      "application/vnd.jupyter.widget-view+json": {
       "model_id": "41766fea6a97445aa947a81820912661",
       "version_major": 2,
       "version_minor": 0
      },
      "text/plain": [
       "Label(value='Select instance to be explained and target class:')"
      ]
     },
     "metadata": {},
     "output_type": "display_data"
    },
    {
     "data": {
      "application/vnd.jupyter.widget-view+json": {
       "model_id": "db2fb6efe5154eebaccb00d8779a865b",
       "version_major": 2,
       "version_minor": 0
      },
      "text/plain": [
       "VBox(children=(Dropdown(description='ID mispredicted', options=('8', '10', '701', '739', '835', '902', '1228',…"
      ]
     },
     "metadata": {},
     "output_type": "display_data"
    },
    {
     "data": {
      "application/vnd.jupyter.widget-view+json": {
       "model_id": "4b77cbca49fc43a8b4cb554ac3ecab20",
       "version_major": 2,
       "version_minor": 0
      },
      "text/plain": [
       "HBox(children=(Button(description='Compute', style=ButtonStyle()), Button(description='Clear', style=ButtonSty…"
      ]
     },
     "metadata": {},
     "output_type": "display_data"
    }
   ],
   "source": [
    "e.interactiveGetExplanation(xPaNB, mispredicted=True)"
   ]
  },
  {
   "cell_type": "code",
   "execution_count": 7,
   "metadata": {
    "scrolled": true,
    "slideshow": {
     "slide_type": "slide"
    }
   },
   "outputs": [
    {
     "data": {
      "image/png": "[encoded data removed]",
      "text/plain": [
       "<Figure size 748.8x514.8 with 1 Axes>"
      ]
     },
     "metadata": {},
     "output_type": "display_data"
    },
    {
     "name": "stdout",
     "output_type": "stream",
     "text": [
      "\n",
      "Local rules:\n",
      "Rule_1  ->  {sex=Male, education=High-School-grad, race=White, marital-status=Married, relationship=Husband}\n"
     ]
    }
   ],
   "source": [
    "%matplotlib inline\n",
    "#Demo purposes\n",
    "if e.getExpl()==None:\n",
    "    mispExpl=deepcopy(e.def_Explanation(xPaNB, mispredicted=True))\n",
    "else:\n",
    "    mispExpl=deepcopy(e.getExpl())"
   ]
  },
  {
   "cell_type": "code",
   "execution_count": 8,
   "metadata": {
    "scrolled": true,
    "slideshow": {
     "slide_type": "skip"
    }
   },
   "outputs": [
    {
     "name": "stdout",
     "output_type": "stream",
     "text": [
      "\n",
      "Local rules:\n",
      "Rule_1  ->  {sex=Male, education=High-School-grad, race=White, marital-status=Married, relationship=Husband}\n",
      "\n",
      "Local rules:\n",
      "Rule_1  ->  {sex=Male, education=High-School-grad, marital-status=Married, relationship=Husband}\n",
      "Rule_2  ->  {sex=Male, marital-status=Married, occupation=Other, relationship=Husband}\n",
      "Union of rule bodies:\n",
      "Rule_U  ->  {sex=Male, education=High-School-grad, marital-status=Married, occupation=Other, relationship=Husband}\n"
     ]
    },
    {
     "data": {
      "image/png": "[encoded data removed]",
      "text/plain": [
       "<Figure size 1029.6x514.8 with 2 Axes>"
      ]
     },
     "metadata": {},
     "output_type": "display_data"
    }
   ],
   "source": [
    "xPaNB.getMispredictedTrueLabelComparison(str(mispExpl.n_inst))"
   ]
  },
  {
   "cell_type": "markdown",
   "metadata": {
    "slideshow": {
     "slide_type": "slide"
    }
   },
   "source": [
    "Get mispredicted instances"
   ]
  },
  {
   "cell_type": "code",
   "execution_count": 9,
   "metadata": {
    "slideshow": {
     "slide_type": "-"
    }
   },
   "outputs": [
    {
     "data": {
      "text/markdown": [
       "Analysis of class '>50K'"
      ],
      "text/plain": [
       "<IPython.core.display.Markdown object>"
      ]
     },
     "metadata": {},
     "output_type": "display_data"
    },
    {
     "data": {
      "application/vnd.jupyter.widget-view+json": {
       "model_id": "a3ceec045b1d4c90a83eb9e810041179",
       "version_major": 2,
       "version_minor": 0
      },
      "text/plain": [
       "Dropdown(description='Mispredicted classes', options=('All classes', '<=50K', '>50K'), style=DescriptionStyle(…"
      ]
     },
     "metadata": {},
     "output_type": "display_data"
    },
    {
     "data": {
      "application/vnd.jupyter.widget-view+json": {
       "model_id": "3cc423ec837e428eb85dee2b6369ed40",
       "version_major": 2,
       "version_minor": 0
      },
      "text/plain": [
       "HBox(children=(Button(description='Get mispredicted', style=ButtonStyle()), Button(description='Clear', style=…"
      ]
     },
     "metadata": {},
     "output_type": "display_data"
    }
   ],
   "source": [
    "display(md(\"Analysis of class '>50K'\"))\n",
    "xPaNB.interactiveMispredicted()"
   ]
  },
  {
   "cell_type": "markdown",
   "metadata": {
    "slideshow": {
     "slide_type": "slide"
    }
   },
   "source": [
    "Instances mispredicted"
   ]
  },
  {
   "cell_type": "code",
   "execution_count": 10,
   "metadata": {
    "scrolled": true,
    "slideshow": {
     "slide_type": "-"
    }
   },
   "outputs": [
    {
     "data": {
      "text/html": [
       "<div>\n",
       "<style scoped>\n",
       "    .dataframe tbody tr th:only-of-type {\n",
       "        vertical-align: middle;\n",
       "    }\n",
       "\n",
       "    .dataframe tbody tr th {\n",
       "        vertical-align: top;\n",
       "    }\n",
       "\n",
       "    .dataframe thead th {\n",
       "        text-align: right;\n",
       "    }\n",
       "</style>\n",
       "<table border=\"1\" class=\"dataframe\">\n",
       "  <thead>\n",
       "    <tr style=\"text-align: right;\">\n",
       "      <th></th>\n",
       "      <th>sex</th>\n",
       "      <th>workclass</th>\n",
       "      <th>education</th>\n",
       "      <th>race</th>\n",
       "      <th>marital-status</th>\n",
       "      <th>occupation</th>\n",
       "      <th>relationship</th>\n",
       "      <th>capital-gain</th>\n",
       "      <th>capital-loss</th>\n",
       "      <th>hours-per-week</th>\n",
       "      <th>age</th>\n",
       "      <th>class</th>\n",
       "      <th>pred</th>\n",
       "    </tr>\n",
       "    <tr>\n",
       "      <th>id</th>\n",
       "      <th></th>\n",
       "      <th></th>\n",
       "      <th></th>\n",
       "      <th></th>\n",
       "      <th></th>\n",
       "      <th></th>\n",
       "      <th></th>\n",
       "      <th></th>\n",
       "      <th></th>\n",
       "      <th></th>\n",
       "      <th></th>\n",
       "      <th></th>\n",
       "      <th></th>\n",
       "    </tr>\n",
       "  </thead>\n",
       "  <tbody>\n",
       "    <tr>\n",
       "      <th>16147</th>\n",
       "      <td>Male</td>\n",
       "      <td>Private</td>\n",
       "      <td>High-School-grad</td>\n",
       "      <td>White</td>\n",
       "      <td>Separated</td>\n",
       "      <td>White-Collar</td>\n",
       "      <td>Not-in-family</td>\n",
       "      <td>low</td>\n",
       "      <td>low</td>\n",
       "      <td>&gt;=50.5</td>\n",
       "      <td>&gt;=51</td>\n",
       "      <td>&gt;50K</td>\n",
       "      <td>&lt;=50K</td>\n",
       "    </tr>\n",
       "    <tr>\n",
       "      <th>16638</th>\n",
       "      <td>Male</td>\n",
       "      <td>Private</td>\n",
       "      <td>High-School-grad</td>\n",
       "      <td>White</td>\n",
       "      <td>Separated</td>\n",
       "      <td>Blue-Collar</td>\n",
       "      <td>Not-in-family</td>\n",
       "      <td>low</td>\n",
       "      <td>low</td>\n",
       "      <td>&gt;=50.5</td>\n",
       "      <td>34-41</td>\n",
       "      <td>&gt;50K</td>\n",
       "      <td>&lt;=50K</td>\n",
       "    </tr>\n",
       "  </tbody>\n",
       "</table>\n",
       "</div>"
      ],
      "text/plain": [
       "        sex workclass         education   race marital-status    occupation  \\\n",
       "id                                                                            \n",
       "16147  Male   Private  High-School-grad  White      Separated  White-Collar   \n",
       "16638  Male   Private  High-School-grad  White      Separated   Blue-Collar   \n",
       "\n",
       "        relationship capital-gain capital-loss hours-per-week    age class  \\\n",
       "id                                                                           \n",
       "16147  Not-in-family          low          low         >=50.5   >=51  >50K   \n",
       "16638  Not-in-family          low          low         >=50.5  34-41  >50K   \n",
       "\n",
       "        pred  \n",
       "id            \n",
       "16147  <=50K  \n",
       "16638  <=50K  "
      ]
     },
     "execution_count": 10,
     "metadata": {},
     "output_type": "execute_result"
    }
   ],
   "source": [
    "xPaNB.showMispredictedTabularForm(mispred_class=\">50K\").head()"
   ]
  },
  {
   "cell_type": "markdown",
   "metadata": {
    "slideshow": {
     "slide_type": "slide"
    }
   },
   "source": [
    "Inspection of a mispredicted instance"
   ]
  },
  {
   "cell_type": "code",
   "execution_count": 11,
   "metadata": {
    "scrolled": true,
    "slideshow": {
     "slide_type": "-"
    }
   },
   "outputs": [
    {
     "data": {
      "application/vnd.jupyter.widget-view+json": {
       "model_id": "61326fb4afb54491ae216ee96e5006fb",
       "version_major": 2,
       "version_minor": 0
      },
      "text/plain": [
       "Label(value='Select instance to be explained and target class:')"
      ]
     },
     "metadata": {},
     "output_type": "display_data"
    },
    {
     "data": {
      "application/vnd.jupyter.widget-view+json": {
       "model_id": "3cafb5f79b3f4f2ca8625166f37260d2",
       "version_major": 2,
       "version_minor": 0
      },
      "text/plain": [
       "VBox(children=(Dropdown(description='ID mispredicted', options=('16147', '16638'), value='16147'), Dropdown(de…"
      ]
     },
     "metadata": {},
     "output_type": "display_data"
    },
    {
     "data": {
      "application/vnd.jupyter.widget-view+json": {
       "model_id": "a057db40ca5e4b3ca98569b45cd428c6",
       "version_major": 2,
       "version_minor": 0
      },
      "text/plain": [
       "HBox(children=(Button(description='Compute', style=ButtonStyle()), Button(description='Clear', style=ButtonSty…"
      ]
     },
     "metadata": {},
     "output_type": "display_data"
    }
   ],
   "source": [
    "e=Explanation_w()\n",
    "e.interactiveGetExplanation(xPaNB, mispredicted=True)"
   ]
  },
  {
   "cell_type": "code",
   "execution_count": 12,
   "metadata": {
    "scrolled": true,
    "slideshow": {
     "slide_type": "slide"
    }
   },
   "outputs": [
    {
     "data": {
      "image/png": "[encoded data removed]",
      "text/plain": [
       "<Figure size 748.8x514.8 with 1 Axes>"
      ]
     },
     "metadata": {},
     "output_type": "display_data"
    },
    {
     "name": "stdout",
     "output_type": "stream",
     "text": [
      "\n",
      "Local rules:\n",
      "Rule_1  ->  {workclass=Private, education=High-School-grad, relationship=Not-in-family, capital-gain=low, capital-loss=low}\n"
     ]
    }
   ],
   "source": [
    "%matplotlib inline\n",
    "#Demo purposes\n",
    "if e.getExpl()==None:\n",
    "    mispExpl=deepcopy(e.def_Explanation(xPaNB, mispredicted=True, mispred_class=\">50K\"))\n",
    "else:\n",
    "    mispExpl=deepcopy(e.getExpl())"
   ]
  },
  {
   "cell_type": "code",
   "execution_count": 13,
   "metadata": {
    "slideshow": {
     "slide_type": "slide"
    }
   },
   "outputs": [
    {
     "data": {
      "text/markdown": [
       "UCI adult dataset - RF classifier"
      ],
      "text/plain": [
       "<IPython.core.display.Markdown object>"
      ]
     },
     "metadata": {},
     "output_type": "display_data"
    },
    {
     "data": {
      "application/vnd.jupyter.widget-view+json": {
       "model_id": "201ecb837a614bc19b8382f50c137795",
       "version_major": 2,
       "version_minor": 0
      },
      "text/plain": [
       "Label(value='Select dataset and classifier:')"
      ]
     },
     "metadata": {},
     "output_type": "display_data"
    },
    {
     "data": {
      "application/vnd.jupyter.widget-view+json": {
       "model_id": "aa681e13249349f5b7926e50113e1359",
       "version_major": 2,
       "version_minor": 0
      },
      "text/plain": [
       "VBox(children=(Dropdown(description='Dataset', options=('monks-1', 'zoo', 'adult'), value='monks-1'), Dropdown…"
      ]
     },
     "metadata": {},
     "output_type": "display_data"
    },
    {
     "data": {
      "application/vnd.jupyter.widget-view+json": {
       "model_id": "9fb8741766cf4a7bab759568c30e1d50",
       "version_major": 2,
       "version_minor": 0
      },
      "text/plain": [
       "Button(description='Select', style=ButtonStyle())"
      ]
     },
     "metadata": {},
     "output_type": "display_data"
    }
   ],
   "source": [
    "x=XPLAIN_util()\n",
    "e=Explanation_w()\n",
    "display(md(\"UCI adult dataset - RF classifier\"))\n",
    "x.interactiveDatasetClassifierSelection()"
   ]
  },
  {
   "cell_type": "code",
   "execution_count": 14,
   "metadata": {
    "slideshow": {
     "slide_type": "skip"
    }
   },
   "outputs": [],
   "source": [
    "#Demo purposes\n",
    "if x.getXPLAIN_obj()==None:\n",
    "    xPaRF=deepcopy(x.def_XPLAIN_o(\"datasets/adult_d.arff\", \"rf\"))\n",
    "else:\n",
    "    xPaRF=deepcopy(x.getXPLAIN_obj())"
   ]
  },
  {
   "cell_type": "markdown",
   "metadata": {
    "slideshow": {
     "slide_type": "slide"
    }
   },
   "source": [
    "Get mispredicted instances"
   ]
  },
  {
   "cell_type": "code",
   "execution_count": 15,
   "metadata": {
    "slideshow": {
     "slide_type": "-"
    }
   },
   "outputs": [
    {
     "data": {
      "application/vnd.jupyter.widget-view+json": {
       "model_id": "46b5138660db4ada81642debaf79e72c",
       "version_major": 2,
       "version_minor": 0
      },
      "text/plain": [
       "Dropdown(description='Mispredicted classes', options=('All classes', '<=50K', '>50K'), style=DescriptionStyle(…"
      ]
     },
     "metadata": {},
     "output_type": "display_data"
    },
    {
     "data": {
      "application/vnd.jupyter.widget-view+json": {
       "model_id": "66a85187ad31489089acecc0a95057c7",
       "version_major": 2,
       "version_minor": 0
      },
      "text/plain": [
       "HBox(children=(Button(description='Get mispredicted', style=ButtonStyle()), Button(description='Clear', style=…"
      ]
     },
     "metadata": {},
     "output_type": "display_data"
    }
   ],
   "source": [
    "xPaRF.interactiveMispredicted()"
   ]
  },
  {
   "cell_type": "markdown",
   "metadata": {
    "slideshow": {
     "slide_type": "slide"
    }
   },
   "source": [
    "Instances mispredicted"
   ]
  },
  {
   "cell_type": "code",
   "execution_count": 16,
   "metadata": {
    "scrolled": true,
    "slideshow": {
     "slide_type": "-"
    }
   },
   "outputs": [
    {
     "data": {
      "text/html": [
       "<div>\n",
       "<style scoped>\n",
       "    .dataframe tbody tr th:only-of-type {\n",
       "        vertical-align: middle;\n",
       "    }\n",
       "\n",
       "    .dataframe tbody tr th {\n",
       "        vertical-align: top;\n",
       "    }\n",
       "\n",
       "    .dataframe thead th {\n",
       "        text-align: right;\n",
       "    }\n",
       "</style>\n",
       "<table border=\"1\" class=\"dataframe\">\n",
       "  <thead>\n",
       "    <tr style=\"text-align: right;\">\n",
       "      <th></th>\n",
       "      <th>sex</th>\n",
       "      <th>workclass</th>\n",
       "      <th>education</th>\n",
       "      <th>race</th>\n",
       "      <th>marital-status</th>\n",
       "      <th>occupation</th>\n",
       "      <th>relationship</th>\n",
       "      <th>capital-gain</th>\n",
       "      <th>capital-loss</th>\n",
       "      <th>hours-per-week</th>\n",
       "      <th>age</th>\n",
       "      <th>class</th>\n",
       "      <th>pred</th>\n",
       "    </tr>\n",
       "    <tr>\n",
       "      <th>id</th>\n",
       "      <th></th>\n",
       "      <th></th>\n",
       "      <th></th>\n",
       "      <th></th>\n",
       "      <th></th>\n",
       "      <th></th>\n",
       "      <th></th>\n",
       "      <th></th>\n",
       "      <th></th>\n",
       "      <th></th>\n",
       "      <th></th>\n",
       "      <th></th>\n",
       "      <th></th>\n",
       "    </tr>\n",
       "  </thead>\n",
       "  <tbody>\n",
       "    <tr>\n",
       "      <th>10</th>\n",
       "      <td>Male</td>\n",
       "      <td>Local-gov</td>\n",
       "      <td>High-School-grad</td>\n",
       "      <td>White</td>\n",
       "      <td>Married</td>\n",
       "      <td>Other</td>\n",
       "      <td>Husband</td>\n",
       "      <td>low</td>\n",
       "      <td>low</td>\n",
       "      <td>&gt;=50.5</td>\n",
       "      <td>&gt;=51</td>\n",
       "      <td>&lt;=50K</td>\n",
       "      <td>&gt;50K</td>\n",
       "    </tr>\n",
       "    <tr>\n",
       "      <th>701</th>\n",
       "      <td>Male</td>\n",
       "      <td>Private</td>\n",
       "      <td>High-School-grad</td>\n",
       "      <td>White</td>\n",
       "      <td>Married</td>\n",
       "      <td>Blue-Collar</td>\n",
       "      <td>Husband</td>\n",
       "      <td>low</td>\n",
       "      <td>low</td>\n",
       "      <td>&gt;=50.5</td>\n",
       "      <td>34-41</td>\n",
       "      <td>&lt;=50K</td>\n",
       "      <td>&gt;50K</td>\n",
       "    </tr>\n",
       "    <tr>\n",
       "      <th>835</th>\n",
       "      <td>Male</td>\n",
       "      <td>Private</td>\n",
       "      <td>High-School-grad</td>\n",
       "      <td>White</td>\n",
       "      <td>Married</td>\n",
       "      <td>Blue-Collar</td>\n",
       "      <td>Husband</td>\n",
       "      <td>low</td>\n",
       "      <td>low</td>\n",
       "      <td>39.5-40.5</td>\n",
       "      <td>42-50</td>\n",
       "      <td>&lt;=50K</td>\n",
       "      <td>&gt;50K</td>\n",
       "    </tr>\n",
       "    <tr>\n",
       "      <th>902</th>\n",
       "      <td>Male</td>\n",
       "      <td>Self-emp-inc</td>\n",
       "      <td>Bachelors</td>\n",
       "      <td>White</td>\n",
       "      <td>Married</td>\n",
       "      <td>White-Collar</td>\n",
       "      <td>Husband</td>\n",
       "      <td>low</td>\n",
       "      <td>low</td>\n",
       "      <td>40.5-50.5</td>\n",
       "      <td>34-41</td>\n",
       "      <td>&lt;=50K</td>\n",
       "      <td>&gt;50K</td>\n",
       "    </tr>\n",
       "    <tr>\n",
       "      <th>1284</th>\n",
       "      <td>Male</td>\n",
       "      <td>Private</td>\n",
       "      <td>High-School-grad</td>\n",
       "      <td>White</td>\n",
       "      <td>Married</td>\n",
       "      <td>Blue-Collar</td>\n",
       "      <td>Husband</td>\n",
       "      <td>low</td>\n",
       "      <td>low</td>\n",
       "      <td>39.5-40.5</td>\n",
       "      <td>&gt;=51</td>\n",
       "      <td>&lt;=50K</td>\n",
       "      <td>&gt;50K</td>\n",
       "    </tr>\n",
       "  </tbody>\n",
       "</table>\n",
       "</div>"
      ],
      "text/plain": [
       "       sex     workclass         education   race marital-status  \\\n",
       "id                                                                 \n",
       "10    Male     Local-gov  High-School-grad  White        Married   \n",
       "701   Male       Private  High-School-grad  White        Married   \n",
       "835   Male       Private  High-School-grad  White        Married   \n",
       "902   Male  Self-emp-inc         Bachelors  White        Married   \n",
       "1284  Male       Private  High-School-grad  White        Married   \n",
       "\n",
       "        occupation relationship capital-gain capital-loss hours-per-week  \\\n",
       "id                                                                         \n",
       "10           Other      Husband          low          low         >=50.5   \n",
       "701    Blue-Collar      Husband          low          low         >=50.5   \n",
       "835    Blue-Collar      Husband          low          low      39.5-40.5   \n",
       "902   White-Collar      Husband          low          low      40.5-50.5   \n",
       "1284   Blue-Collar      Husband          low          low      39.5-40.5   \n",
       "\n",
       "        age  class  pred  \n",
       "id                        \n",
       "10     >=51  <=50K  >50K  \n",
       "701   34-41  <=50K  >50K  \n",
       "835   42-50  <=50K  >50K  \n",
       "902   34-41  <=50K  >50K  \n",
       "1284   >=51  <=50K  >50K  "
      ]
     },
     "execution_count": 16,
     "metadata": {},
     "output_type": "execute_result"
    }
   ],
   "source": [
    "xPaRF.showMispredictedTabularForm().head()"
   ]
  },
  {
   "cell_type": "markdown",
   "metadata": {
    "slideshow": {
     "slide_type": "slide"
    }
   },
   "source": [
    "Inspection of a mispredicted instance"
   ]
  },
  {
   "cell_type": "code",
   "execution_count": 17,
   "metadata": {
    "scrolled": true,
    "slideshow": {
     "slide_type": "-"
    }
   },
   "outputs": [
    {
     "data": {
      "application/vnd.jupyter.widget-view+json": {
       "model_id": "f7624b11e64744ccaecb802e8f19b860",
       "version_major": 2,
       "version_minor": 0
      },
      "text/plain": [
       "Label(value='Select instance to be explained and target class:')"
      ]
     },
     "metadata": {},
     "output_type": "display_data"
    },
    {
     "data": {
      "application/vnd.jupyter.widget-view+json": {
       "model_id": "bdc34567acaf48538104fd2bfed9717e",
       "version_major": 2,
       "version_minor": 0
      },
      "text/plain": [
       "VBox(children=(Dropdown(description='ID mispredicted', options=('10', '701', '835', '902', '1284', '1769', '19…"
      ]
     },
     "metadata": {},
     "output_type": "display_data"
    },
    {
     "data": {
      "application/vnd.jupyter.widget-view+json": {
       "model_id": "53be95616aa14627bfb3b3088751a12e",
       "version_major": 2,
       "version_minor": 0
      },
      "text/plain": [
       "HBox(children=(Button(description='Compute', style=ButtonStyle()), Button(description='Clear', style=ButtonSty…"
      ]
     },
     "metadata": {},
     "output_type": "display_data"
    }
   ],
   "source": [
    "e.interactiveGetExplanation(xPaRF, mispredicted=True)"
   ]
  },
  {
   "cell_type": "code",
   "execution_count": 18,
   "metadata": {
    "scrolled": true,
    "slideshow": {
     "slide_type": "slide"
    }
   },
   "outputs": [
    {
     "data": {
      "image/png": "[encoded data removed]",
      "text/plain": [
       "<Figure size 748.8x514.8 with 1 Axes>"
      ]
     },
     "metadata": {},
     "output_type": "display_data"
    }
   ],
   "source": [
    "%matplotlib inline\n",
    "#Demo purposes\n",
    "if e.getExpl()==None:\n",
    "    mispExpl=deepcopy(e.def_Explanation(xPaRF, mispredicted=True))\n",
    "else:\n",
    "    mispExpl=deepcopy(e.getExpl())"
   ]
  },
  {
   "cell_type": "markdown",
   "metadata": {
    "slideshow": {
     "slide_type": "slide"
    }
   },
   "source": [
    "Get mispredicted instances"
   ]
  },
  {
   "cell_type": "code",
   "execution_count": 19,
   "metadata": {
    "slideshow": {
     "slide_type": "-"
    }
   },
   "outputs": [
    {
     "data": {
      "text/markdown": [
       "Analysis of class '>50K'"
      ],
      "text/plain": [
       "<IPython.core.display.Markdown object>"
      ]
     },
     "metadata": {},
     "output_type": "display_data"
    },
    {
     "data": {
      "application/vnd.jupyter.widget-view+json": {
       "model_id": "d86f0025efbd4d71a9974ecdfe203c9a",
       "version_major": 2,
       "version_minor": 0
      },
      "text/plain": [
       "Dropdown(description='Mispredicted classes', options=('All classes', '<=50K', '>50K'), style=DescriptionStyle(…"
      ]
     },
     "metadata": {},
     "output_type": "display_data"
    },
    {
     "data": {
      "application/vnd.jupyter.widget-view+json": {
       "model_id": "22743d15dc084134aa44ca1187492794",
       "version_major": 2,
       "version_minor": 0
      },
      "text/plain": [
       "HBox(children=(Button(description='Get mispredicted', style=ButtonStyle()), Button(description='Clear', style=…"
      ]
     },
     "metadata": {},
     "output_type": "display_data"
    }
   ],
   "source": [
    "display(md(\"Analysis of class '>50K'\"))\n",
    "xPaRF.interactiveMispredicted()"
   ]
  },
  {
   "cell_type": "markdown",
   "metadata": {
    "slideshow": {
     "slide_type": "slide"
    }
   },
   "source": [
    "Instances mispredicted"
   ]
  },
  {
   "cell_type": "code",
   "execution_count": 20,
   "metadata": {
    "scrolled": true,
    "slideshow": {
     "slide_type": "-"
    }
   },
   "outputs": [
    {
     "data": {
      "text/html": [
       "<div>\n",
       "<style scoped>\n",
       "    .dataframe tbody tr th:only-of-type {\n",
       "        vertical-align: middle;\n",
       "    }\n",
       "\n",
       "    .dataframe tbody tr th {\n",
       "        vertical-align: top;\n",
       "    }\n",
       "\n",
       "    .dataframe thead th {\n",
       "        text-align: right;\n",
       "    }\n",
       "</style>\n",
       "<table border=\"1\" class=\"dataframe\">\n",
       "  <thead>\n",
       "    <tr style=\"text-align: right;\">\n",
       "      <th></th>\n",
       "      <th>sex</th>\n",
       "      <th>workclass</th>\n",
       "      <th>education</th>\n",
       "      <th>race</th>\n",
       "      <th>marital-status</th>\n",
       "      <th>occupation</th>\n",
       "      <th>relationship</th>\n",
       "      <th>capital-gain</th>\n",
       "      <th>capital-loss</th>\n",
       "      <th>hours-per-week</th>\n",
       "      <th>age</th>\n",
       "      <th>class</th>\n",
       "      <th>pred</th>\n",
       "    </tr>\n",
       "    <tr>\n",
       "      <th>id</th>\n",
       "      <th></th>\n",
       "      <th></th>\n",
       "      <th></th>\n",
       "      <th></th>\n",
       "      <th></th>\n",
       "      <th></th>\n",
       "      <th></th>\n",
       "      <th></th>\n",
       "      <th></th>\n",
       "      <th></th>\n",
       "      <th></th>\n",
       "      <th></th>\n",
       "      <th></th>\n",
       "    </tr>\n",
       "  </thead>\n",
       "  <tbody>\n",
       "    <tr>\n",
       "      <th>14215</th>\n",
       "      <td>Male</td>\n",
       "      <td>State-gov</td>\n",
       "      <td>High-School-grad</td>\n",
       "      <td>Black</td>\n",
       "      <td>Married</td>\n",
       "      <td>Admin</td>\n",
       "      <td>Husband</td>\n",
       "      <td>low</td>\n",
       "      <td>low</td>\n",
       "      <td>39.5-40.5</td>\n",
       "      <td>&gt;=51</td>\n",
       "      <td>&gt;50K</td>\n",
       "      <td>&lt;=50K</td>\n",
       "    </tr>\n",
       "    <tr>\n",
       "      <th>16147</th>\n",
       "      <td>Male</td>\n",
       "      <td>Private</td>\n",
       "      <td>High-School-grad</td>\n",
       "      <td>White</td>\n",
       "      <td>Separated</td>\n",
       "      <td>White-Collar</td>\n",
       "      <td>Not-in-family</td>\n",
       "      <td>low</td>\n",
       "      <td>low</td>\n",
       "      <td>&gt;=50.5</td>\n",
       "      <td>&gt;=51</td>\n",
       "      <td>&gt;50K</td>\n",
       "      <td>&lt;=50K</td>\n",
       "    </tr>\n",
       "    <tr>\n",
       "      <th>16638</th>\n",
       "      <td>Male</td>\n",
       "      <td>Private</td>\n",
       "      <td>High-School-grad</td>\n",
       "      <td>White</td>\n",
       "      <td>Separated</td>\n",
       "      <td>Blue-Collar</td>\n",
       "      <td>Not-in-family</td>\n",
       "      <td>low</td>\n",
       "      <td>low</td>\n",
       "      <td>&gt;=50.5</td>\n",
       "      <td>34-41</td>\n",
       "      <td>&gt;50K</td>\n",
       "      <td>&lt;=50K</td>\n",
       "    </tr>\n",
       "  </tbody>\n",
       "</table>\n",
       "</div>"
      ],
      "text/plain": [
       "        sex  workclass         education   race marital-status    occupation  \\\n",
       "id                                                                             \n",
       "14215  Male  State-gov  High-School-grad  Black        Married         Admin   \n",
       "16147  Male    Private  High-School-grad  White      Separated  White-Collar   \n",
       "16638  Male    Private  High-School-grad  White      Separated   Blue-Collar   \n",
       "\n",
       "        relationship capital-gain capital-loss hours-per-week    age class  \\\n",
       "id                                                                           \n",
       "14215        Husband          low          low      39.5-40.5   >=51  >50K   \n",
       "16147  Not-in-family          low          low         >=50.5   >=51  >50K   \n",
       "16638  Not-in-family          low          low         >=50.5  34-41  >50K   \n",
       "\n",
       "        pred  \n",
       "id            \n",
       "14215  <=50K  \n",
       "16147  <=50K  \n",
       "16638  <=50K  "
      ]
     },
     "execution_count": 20,
     "metadata": {},
     "output_type": "execute_result"
    }
   ],
   "source": [
    "xPaRF.showMispredictedTabularForm(mispred_class=\">50K\").head()"
   ]
  },
  {
   "cell_type": "markdown",
   "metadata": {
    "slideshow": {
     "slide_type": "slide"
    }
   },
   "source": [
    "Inspection of a mispredicted instance"
   ]
  },
  {
   "cell_type": "code",
   "execution_count": 21,
   "metadata": {
    "scrolled": true,
    "slideshow": {
     "slide_type": "-"
    }
   },
   "outputs": [
    {
     "data": {
      "application/vnd.jupyter.widget-view+json": {
       "model_id": "14a5b3eac564433daee4bcb696abdb0e",
       "version_major": 2,
       "version_minor": 0
      },
      "text/plain": [
       "Label(value='Select instance to be explained and target class:')"
      ]
     },
     "metadata": {},
     "output_type": "display_data"
    },
    {
     "data": {
      "application/vnd.jupyter.widget-view+json": {
       "model_id": "67636e36cafd406db2701b5cfddf6796",
       "version_major": 2,
       "version_minor": 0
      },
      "text/plain": [
       "VBox(children=(Dropdown(description='ID mispredicted', options=('14215', '16147', '16638'), value='14215'), Dr…"
      ]
     },
     "metadata": {},
     "output_type": "display_data"
    },
    {
     "data": {
      "application/vnd.jupyter.widget-view+json": {
       "model_id": "b4bc9f0874fe49d486052e498ee2760a",
       "version_major": 2,
       "version_minor": 0
      },
      "text/plain": [
       "HBox(children=(Button(description='Compute', style=ButtonStyle()), Button(description='Clear', style=ButtonSty…"
      ]
     },
     "metadata": {},
     "output_type": "display_data"
    }
   ],
   "source": [
    "e=Explanation_w()\n",
    "e.interactiveGetExplanation(xPaRF, mispredicted=True)"
   ]
  },
  {
   "cell_type": "code",
   "execution_count": 22,
   "metadata": {
    "scrolled": true,
    "slideshow": {
     "slide_type": "slide"
    }
   },
   "outputs": [
    {
     "data": {
      "image/png": "[encoded data removed]",
      "text/plain": [
       "<Figure size 748.8x514.8 with 1 Axes>"
      ]
     },
     "metadata": {},
     "output_type": "display_data"
    },
    {
     "name": "stdout",
     "output_type": "stream",
     "text": [
      "\n",
      "Local rules:\n",
      "Rule_1  ->  {sex=Male, education=High-School-grad, marital-status=Married, relationship=Husband, hours-per-week=39.5-40.5}\n",
      "Rule_2  ->  {sex=Male, education=High-School-grad, marital-status=Married, relationship=Husband, hours-per-week=39.5-40.5, age=>=51}\n"
     ]
    }
   ],
   "source": [
    "%matplotlib inline\n",
    "#Demo purposes\n",
    "if e.getExpl()==None:\n",
    "    mispExpl=deepcopy(e.def_Explanation(xPaRF, mispredicted=True, mispred_class=\">50K\"))\n",
    "else:\n",
    "    mispExpl=deepcopy(e.getExpl())"
   ]
  },
  {
   "cell_type": "code",
   "execution_count": 23,
   "metadata": {
    "scrolled": true,
    "slideshow": {
     "slide_type": "skip"
    }
   },
   "outputs": [],
   "source": [
    "#xPaRF.getMispredictedTrueLabelComparison(str(mispExpl.n_inst))"
   ]
  },
  {
   "cell_type": "markdown",
   "metadata": {
    "slideshow": {
     "slide_type": "slide"
    }
   },
   "source": [
    "Case 2: monks-1 dataset"
   ]
  },
  {
   "cell_type": "code",
   "execution_count": 24,
   "metadata": {
    "slideshow": {
     "slide_type": "slide"
    }
   },
   "outputs": [
    {
     "data": {
      "text/markdown": [
       "Monks-1 dataset - NB classifier"
      ],
      "text/plain": [
       "<IPython.core.display.Markdown object>"
      ]
     },
     "metadata": {},
     "output_type": "display_data"
    },
    {
     "data": {
      "application/vnd.jupyter.widget-view+json": {
       "model_id": "6f1645fa38d645fe9fc4cd73eb6914a0",
       "version_major": 2,
       "version_minor": 0
      },
      "text/plain": [
       "Label(value='Select dataset and classifier:')"
      ]
     },
     "metadata": {},
     "output_type": "display_data"
    },
    {
     "data": {
      "application/vnd.jupyter.widget-view+json": {
       "model_id": "b0529ac5cb554a77a58c9afea685deb2",
       "version_major": 2,
       "version_minor": 0
      },
      "text/plain": [
       "VBox(children=(Dropdown(description='Dataset', options=('monks-1', 'zoo', 'adult'), value='monks-1'), Dropdown…"
      ]
     },
     "metadata": {},
     "output_type": "display_data"
    },
    {
     "data": {
      "application/vnd.jupyter.widget-view+json": {
       "model_id": "51e678193a3843ab98e29a538613aefc",
       "version_major": 2,
       "version_minor": 0
      },
      "text/plain": [
       "Button(description='Select', style=ButtonStyle())"
      ]
     },
     "metadata": {},
     "output_type": "display_data"
    }
   ],
   "source": [
    "x=XPLAIN_util()\n",
    "e=Explanation_w()\n",
    "display(md(\"Monks-1 dataset - NB classifier\"))\n",
    "x.interactiveDatasetClassifierSelection()"
   ]
  },
  {
   "cell_type": "code",
   "execution_count": 25,
   "metadata": {
    "slideshow": {
     "slide_type": "skip"
    }
   },
   "outputs": [],
   "source": [
    "#Demo purposes\n",
    "if x.getXPLAIN_obj()==None:\n",
    "    xPmNB=deepcopy(x.def_XPLAIN_o(\"monks-1\", \"nb\"))\n",
    "else:\n",
    "    xPmNB=deepcopy(x.getXPLAIN_obj())"
   ]
  },
  {
   "cell_type": "markdown",
   "metadata": {
    "slideshow": {
     "slide_type": "skip"
    }
   },
   "source": [
    "Instance of the monks-1 dataset in the explain dataset"
   ]
  },
  {
   "cell_type": "code",
   "execution_count": 26,
   "metadata": {
    "slideshow": {
     "slide_type": "skip"
    }
   },
   "outputs": [
    {
     "data": {
      "text/html": [
       "<div>\n",
       "<style scoped>\n",
       "    .dataframe tbody tr th:only-of-type {\n",
       "        vertical-align: middle;\n",
       "    }\n",
       "\n",
       "    .dataframe tbody tr th {\n",
       "        vertical-align: top;\n",
       "    }\n",
       "\n",
       "    .dataframe thead th {\n",
       "        text-align: right;\n",
       "    }\n",
       "</style>\n",
       "<table border=\"1\" class=\"dataframe\">\n",
       "  <thead>\n",
       "    <tr style=\"text-align: right;\">\n",
       "      <th></th>\n",
       "      <th>a</th>\n",
       "      <th>b</th>\n",
       "      <th>c</th>\n",
       "      <th>d</th>\n",
       "      <th>e</th>\n",
       "      <th>f</th>\n",
       "      <th>y</th>\n",
       "    </tr>\n",
       "    <tr>\n",
       "      <th>id</th>\n",
       "      <th></th>\n",
       "      <th></th>\n",
       "      <th></th>\n",
       "      <th></th>\n",
       "      <th></th>\n",
       "      <th></th>\n",
       "      <th></th>\n",
       "    </tr>\n",
       "  </thead>\n",
       "  <tbody>\n",
       "    <tr>\n",
       "      <th>0</th>\n",
       "      <td>1</td>\n",
       "      <td>1</td>\n",
       "      <td>1</td>\n",
       "      <td>1</td>\n",
       "      <td>3</td>\n",
       "      <td>1</td>\n",
       "      <td>1</td>\n",
       "    </tr>\n",
       "    <tr>\n",
       "      <th>1</th>\n",
       "      <td>1</td>\n",
       "      <td>1</td>\n",
       "      <td>1</td>\n",
       "      <td>1</td>\n",
       "      <td>3</td>\n",
       "      <td>2</td>\n",
       "      <td>1</td>\n",
       "    </tr>\n",
       "    <tr>\n",
       "      <th>2</th>\n",
       "      <td>1</td>\n",
       "      <td>1</td>\n",
       "      <td>1</td>\n",
       "      <td>3</td>\n",
       "      <td>2</td>\n",
       "      <td>1</td>\n",
       "      <td>1</td>\n",
       "    </tr>\n",
       "    <tr>\n",
       "      <th>8</th>\n",
       "      <td>1</td>\n",
       "      <td>1</td>\n",
       "      <td>2</td>\n",
       "      <td>3</td>\n",
       "      <td>1</td>\n",
       "      <td>2</td>\n",
       "      <td>1</td>\n",
       "    </tr>\n",
       "    <tr>\n",
       "      <th>9</th>\n",
       "      <td>1</td>\n",
       "      <td>2</td>\n",
       "      <td>1</td>\n",
       "      <td>1</td>\n",
       "      <td>1</td>\n",
       "      <td>2</td>\n",
       "      <td>1</td>\n",
       "    </tr>\n",
       "  </tbody>\n",
       "</table>\n",
       "</div>"
      ],
      "text/plain": [
       "    a  b  c  d  e  f  y\n",
       "id                     \n",
       "0   1  1  1  1  3  1  1\n",
       "1   1  1  1  1  3  2  1\n",
       "2   1  1  1  3  2  1  1\n",
       "8   1  1  2  3  1  2  1\n",
       "9   1  2  1  1  1  2  1"
      ]
     },
     "execution_count": 26,
     "metadata": {},
     "output_type": "execute_result"
    }
   ],
   "source": [
    "xPmNB.showExplainDatasetTabularForm().head()"
   ]
  },
  {
   "cell_type": "markdown",
   "metadata": {
    "slideshow": {
     "slide_type": "slide"
    }
   },
   "source": [
    "Get mispredicted instances"
   ]
  },
  {
   "cell_type": "code",
   "execution_count": 27,
   "metadata": {
    "slideshow": {
     "slide_type": "-"
    }
   },
   "outputs": [
    {
     "data": {
      "application/vnd.jupyter.widget-view+json": {
       "model_id": "13b45cb2237847c4a0b25ef9aa821f65",
       "version_major": 2,
       "version_minor": 0
      },
      "text/plain": [
       "Dropdown(description='Mispredicted classes', options=('All classes', '0', '1'), style=DescriptionStyle(descrip…"
      ]
     },
     "metadata": {},
     "output_type": "display_data"
    },
    {
     "data": {
      "application/vnd.jupyter.widget-view+json": {
       "model_id": "6820f99289b8433e8936e7a4a3ebf626",
       "version_major": 2,
       "version_minor": 0
      },
      "text/plain": [
       "HBox(children=(Button(description='Get mispredicted', style=ButtonStyle()), Button(description='Clear', style=…"
      ]
     },
     "metadata": {},
     "output_type": "display_data"
    }
   ],
   "source": [
    "xPmNB.interactiveMispredicted()"
   ]
  },
  {
   "cell_type": "markdown",
   "metadata": {
    "slideshow": {
     "slide_type": "slide"
    }
   },
   "source": [
    "Instances mispredicted"
   ]
  },
  {
   "cell_type": "code",
   "execution_count": 28,
   "metadata": {
    "slideshow": {
     "slide_type": "-"
    }
   },
   "outputs": [
    {
     "data": {
      "text/html": [
       "<div>\n",
       "<style scoped>\n",
       "    .dataframe tbody tr th:only-of-type {\n",
       "        vertical-align: middle;\n",
       "    }\n",
       "\n",
       "    .dataframe tbody tr th {\n",
       "        vertical-align: top;\n",
       "    }\n",
       "\n",
       "    .dataframe thead th {\n",
       "        text-align: right;\n",
       "    }\n",
       "</style>\n",
       "<table border=\"1\" class=\"dataframe\">\n",
       "  <thead>\n",
       "    <tr style=\"text-align: right;\">\n",
       "      <th></th>\n",
       "      <th>a</th>\n",
       "      <th>b</th>\n",
       "      <th>c</th>\n",
       "      <th>d</th>\n",
       "      <th>e</th>\n",
       "      <th>f</th>\n",
       "      <th>y</th>\n",
       "      <th>pred</th>\n",
       "    </tr>\n",
       "    <tr>\n",
       "      <th>id</th>\n",
       "      <th></th>\n",
       "      <th></th>\n",
       "      <th></th>\n",
       "      <th></th>\n",
       "      <th></th>\n",
       "      <th></th>\n",
       "      <th></th>\n",
       "      <th></th>\n",
       "    </tr>\n",
       "  </thead>\n",
       "  <tbody>\n",
       "    <tr>\n",
       "      <th>0</th>\n",
       "      <td>1</td>\n",
       "      <td>1</td>\n",
       "      <td>1</td>\n",
       "      <td>1</td>\n",
       "      <td>3</td>\n",
       "      <td>1</td>\n",
       "      <td>1</td>\n",
       "      <td>0</td>\n",
       "    </tr>\n",
       "    <tr>\n",
       "      <th>1</th>\n",
       "      <td>1</td>\n",
       "      <td>1</td>\n",
       "      <td>1</td>\n",
       "      <td>1</td>\n",
       "      <td>3</td>\n",
       "      <td>2</td>\n",
       "      <td>1</td>\n",
       "      <td>0</td>\n",
       "    </tr>\n",
       "    <tr>\n",
       "      <th>2</th>\n",
       "      <td>1</td>\n",
       "      <td>1</td>\n",
       "      <td>1</td>\n",
       "      <td>3</td>\n",
       "      <td>2</td>\n",
       "      <td>1</td>\n",
       "      <td>1</td>\n",
       "      <td>0</td>\n",
       "    </tr>\n",
       "    <tr>\n",
       "      <th>64</th>\n",
       "      <td>2</td>\n",
       "      <td>2</td>\n",
       "      <td>1</td>\n",
       "      <td>2</td>\n",
       "      <td>3</td>\n",
       "      <td>2</td>\n",
       "      <td>1</td>\n",
       "      <td>0</td>\n",
       "    </tr>\n",
       "    <tr>\n",
       "      <th>123</th>\n",
       "      <td>3</td>\n",
       "      <td>3</td>\n",
       "      <td>2</td>\n",
       "      <td>3</td>\n",
       "      <td>4</td>\n",
       "      <td>2</td>\n",
       "      <td>1</td>\n",
       "      <td>0</td>\n",
       "    </tr>\n",
       "  </tbody>\n",
       "</table>\n",
       "</div>"
      ],
      "text/plain": [
       "     a  b  c  d  e  f  y pred\n",
       "id                           \n",
       "0    1  1  1  1  3  1  1    0\n",
       "1    1  1  1  1  3  2  1    0\n",
       "2    1  1  1  3  2  1  1    0\n",
       "64   2  2  1  2  3  2  1    0\n",
       "123  3  3  2  3  4  2  1    0"
      ]
     },
     "execution_count": 28,
     "metadata": {},
     "output_type": "execute_result"
    }
   ],
   "source": [
    "xPmNB.showMispredictedTabularForm().head()"
   ]
  },
  {
   "cell_type": "markdown",
   "metadata": {
    "slideshow": {
     "slide_type": "slide"
    }
   },
   "source": [
    "Inspection of a mispredicted instance"
   ]
  },
  {
   "cell_type": "code",
   "execution_count": 29,
   "metadata": {
    "scrolled": true,
    "slideshow": {
     "slide_type": "-"
    }
   },
   "outputs": [
    {
     "data": {
      "application/vnd.jupyter.widget-view+json": {
       "model_id": "52ca38e639d9450ca2d1424a85e079cf",
       "version_major": 2,
       "version_minor": 0
      },
      "text/plain": [
       "Label(value='Select instance to be explained and target class:')"
      ]
     },
     "metadata": {},
     "output_type": "display_data"
    },
    {
     "data": {
      "application/vnd.jupyter.widget-view+json": {
       "model_id": "4ad642d75a574288a852b9ea85cf9dec",
       "version_major": 2,
       "version_minor": 0
      },
      "text/plain": [
       "VBox(children=(Dropdown(description='ID mispredicted', options=('0', '1', '2', '64', '123', '137', '145', '155…"
      ]
     },
     "metadata": {},
     "output_type": "display_data"
    },
    {
     "data": {
      "application/vnd.jupyter.widget-view+json": {
       "model_id": "5995963c42584568aa3fdcbb5dcf9ae0",
       "version_major": 2,
       "version_minor": 0
      },
      "text/plain": [
       "HBox(children=(Button(description='Compute', style=ButtonStyle()), Button(description='Clear', style=ButtonSty…"
      ]
     },
     "metadata": {},
     "output_type": "display_data"
    }
   ],
   "source": [
    "%matplotlib inline\n",
    "e.interactiveGetExplanation(xPmNB, mispredicted=True)"
   ]
  },
  {
   "cell_type": "code",
   "execution_count": 30,
   "metadata": {
    "slideshow": {
     "slide_type": "slide"
    }
   },
   "outputs": [
    {
     "data": {
      "image/png": "[encoded data removed]",
      "text/plain": [
       "<Figure size 748.8x514.8 with 1 Axes>"
      ]
     },
     "metadata": {},
     "output_type": "display_data"
    },
    {
     "name": "stdout",
     "output_type": "stream",
     "text": [
      "\n",
      "Local rules:\n",
      "Rule_1  ->  {d=1}\n",
      "Rule_2  ->  {e=3}\n",
      "Union of rule bodies:\n",
      "Rule_U  ->  {d=1, e=3}\n"
     ]
    }
   ],
   "source": [
    "%matplotlib inline\n",
    "#Demo purposes\n",
    "if e.getExpl()==None:\n",
    "    exp1mnb=deepcopy(e.def_Explanation(xPmNB, mispredicted=True))\n",
    "else:\n",
    "    exp1mnb=deepcopy(e.getExpl())"
   ]
  },
  {
   "cell_type": "markdown",
   "metadata": {
    "slideshow": {
     "slide_type": "slide"
    }
   },
   "source": [
    "Inspection of explanations of mispredicted instance with respect to the true label"
   ]
  },
  {
   "cell_type": "code",
   "execution_count": 31,
   "metadata": {
    "scrolled": true,
    "slideshow": {
     "slide_type": "-"
    }
   },
   "outputs": [
    {
     "data": {
      "application/vnd.jupyter.widget-view+json": {
       "model_id": "c8b84dd99b924e3d8f05afd7b989435b",
       "version_major": 2,
       "version_minor": 0
      },
      "text/plain": [
       "Label(value='Select instance to be explained and target class:')"
      ]
     },
     "metadata": {},
     "output_type": "display_data"
    },
    {
     "data": {
      "application/vnd.jupyter.widget-view+json": {
       "model_id": "9bdff8b19fe74c8da5e205598953878b",
       "version_major": 2,
       "version_minor": 0
      },
      "text/plain": [
       "VBox(children=(Dropdown(description='ID', options=('0', '1', '2', '8', '9', '10', '15', '17', '22', '26', '29'…"
      ]
     },
     "metadata": {},
     "output_type": "display_data"
    },
    {
     "data": {
      "application/vnd.jupyter.widget-view+json": {
       "model_id": "bb90b9264cf34d7cab8f629037f1be24",
       "version_major": 2,
       "version_minor": 0
      },
      "text/plain": [
       "HBox(children=(Button(description='Compute', style=ButtonStyle()), Button(description='Clear', style=ButtonSty…"
      ]
     },
     "metadata": {},
     "output_type": "display_data"
    }
   ],
   "source": [
    "e=Explanation_w()\n",
    "%matplotlib inline\n",
    "e.interactiveGetExplanation(xPmNB)"
   ]
  },
  {
   "cell_type": "code",
   "execution_count": 32,
   "metadata": {
    "slideshow": {
     "slide_type": "slide"
    }
   },
   "outputs": [
    {
     "data": {
      "image/png": "[encoded data removed]",
      "text/plain": [
       "<Figure size 748.8x514.8 with 1 Axes>"
      ]
     },
     "metadata": {},
     "output_type": "display_data"
    },
    {
     "name": "stdout",
     "output_type": "stream",
     "text": [
      "\n",
      "Local rules:\n",
      "Rule_1  ->  {d=1}\n",
      "Rule_2  ->  {e=3}\n",
      "Union of rule bodies:\n",
      "Rule_U  ->  {d=1, e=3}\n"
     ]
    }
   ],
   "source": [
    "%matplotlib inline\n",
    "#Demo purposes\n",
    "if e.getExpl()==None:\n",
    "    exp2mnb=deepcopy(e.def_Explanation(xPmNB, mispredicted=True, targetClass=\"trueLabel\"))\n",
    "else:\n",
    "    exp2mnb=deepcopy(e.getExpl())"
   ]
  }
 ],
 "metadata": {
  "celltoolbar": "Slideshow",
  "hide_input": true,
  "kernelspec": {
   "display_name": "Python 3",
   "language": "python",
   "name": "python3"
  },
  "language_info": {
   "codemirror_mode": {
    "name": "ipython",
    "version": 3
   },
   "file_extension": ".py",
   "mimetype": "text/x-python",
   "name": "python",
   "nbconvert_exporter": "python",
   "pygments_lexer": "ipython3",
   "version": "3.6.5"
  },
  "varInspector": {
   "cols": {
    "lenName": 16,
    "lenType": 16,
    "lenVar": 40
   },
   "kernels_config": {
    "python": {
     "delete_cmd_postfix": "",
     "delete_cmd_prefix": "del ",
     "library": "var_list.py",
     "varRefreshCmd": "print(var_dic_list())"
    },
    "r": {
     "delete_cmd_postfix": ") ",
     "delete_cmd_prefix": "rm(",
     "library": "var_list.r",
     "varRefreshCmd": "cat(var_dic_list()) "
    }
   },
   "types_to_exclude": [
    "module",
    "function",
    "builtin_function_or_method",
    "instance",
    "_Feature"
   ],
   "window_display": false
  },
  "widgets": {
   "application/vnd.jupyter.widget-state+json": {
    "state": {},
    "version_major": 2,
    "version_minor": 0
   }
  }
 },
 "nbformat": 4,
 "nbformat_minor": 2
}
