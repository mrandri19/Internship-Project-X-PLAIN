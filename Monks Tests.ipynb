{
 "cells": [
  {
   "cell_type": "code",
   "execution_count": 67,
   "metadata": {},
   "outputs": [
    {
     "name": "stdout",
     "output_type": "stream",
     "text": [
      "The autoreload extension is already loaded. To reload it, use:\n",
      "  %reload_ext autoreload\n"
     ]
    }
   ],
   "source": [
    "%load_ext autoreload\n",
    "%autoreload 2"
   ]
  },
  {
   "cell_type": "code",
   "execution_count": 68,
   "metadata": {},
   "outputs": [],
   "source": [
    "from os.path import join\n",
    "import warnings\n",
    "\n",
    "from src import DEFAULT_DIR\n",
    "from src.XPLAIN_explainer import XPLAIN_explainer\n",
    "from src.XPLAIN_explanation import XPLAIN_explanation\n",
    "\n",
    "\n",
    "def get_explanation(dataset_name: str, classifier_name: str, instance_id: int) -> XPLAIN_explanation:\n",
    "    explainer = XPLAIN_explainer(dataset_name, classifier_name, random_explain_dataset=True)\n",
    "    instance = explainer.explain_dataset.get_decoded(instance_id)\n",
    "    cc = explainer.explain_dataset.class_column_name()\n",
    "    target_class = instance[cc]\n",
    "    return explainer.explain_instance(instance, target_class=target_class)\n",
    "\n",
    "def get_data():  \n",
    "    nn0 = get_explanation(join(DEFAULT_DIR, \"datasets/monks.arff\"), \"nn\", 0)\n",
    "    nn1 = get_explanation(join(DEFAULT_DIR, \"datasets/monks.arff\"), \"nn\", 1)\n",
    "    nn3 = get_explanation(join(DEFAULT_DIR, \"datasets/monks.arff\"), \"nn\", 3)\n",
    "    return nn0, nn1, nn3"
   ]
  },
  {
   "cell_type": "code",
   "execution_count": 69,
   "metadata": {},
   "outputs": [
    {
     "name": "stdout",
     "output_type": "stream",
     "text": [
      "compute_lace_step k=21\n",
      "compute_lace_step k=42\n",
      "compute_lace_step k=63\n",
      "compute_lace_step k=84\n",
      "compute_lace_step k=105\n",
      "compute_lace_step k=126\n",
      "compute_lace_step k=147\n",
      "compute_lace_step k=168\n",
      "compute_lace_step k=189\n",
      "compute_lace_step k=210\n",
      "explain_instance errors: [0.16333558896422817, 0.16333558896422817, 0.16333558896422817, 0.16333558896422817, 0.16333558896422817, 0.16333558896422817, 0.16333558896422817, 0.16333558896422817, 0.16333558896422817, 0.16333558896422817]\n",
      "compute_lace_step k=21\n",
      "compute_lace_step k=42\n",
      "compute_lace_step k=63\n",
      "compute_lace_step k=84\n",
      "compute_lace_step k=105\n",
      "compute_lace_step k=126\n",
      "compute_lace_step k=147\n",
      "compute_lace_step k=168\n",
      "compute_lace_step k=189\n",
      "compute_lace_step k=210\n",
      "explain_instance errors: [0.16333558896422817, 0.16333558896422817, 0.16333558896422817, 0.16333558896422817, 0.16333558896422817, 0.16333558896422817, 0.16333558896422817, 0.16333558896422817, 0.16333558896422817, 0.16333558896422817]\n",
      "compute_lace_step k=21\n",
      "explain_instance errors: [0.0009557593932398856]\n"
     ]
    }
   ],
   "source": [
    "with warnings.catch_warnings():\n",
    "    warnings.filterwarnings(\"ignore\")\n",
    "    nn0, nn1, nn3 = get_data()"
   ]
  },
  {
   "cell_type": "code",
   "execution_count": 71,
   "metadata": {},
   "outputs": [
    {
     "data": {
      "text/plain": [
       "{'XPLAIN_explainer_o': <src.XPLAIN_explainer.XPLAIN_explainer at 0x7f718298a438>,\n",
       " 'diff_single': [0.655965207771821,\n",
       "  0.6576939290297623,\n",
       "  -0.001525456159781835,\n",
       "  -0.000770714275508122,\n",
       "  -0.0029321013402475726,\n",
       "  4.91821982795404e-06],\n",
       " 'map_difference': {'1,2': 0.6460263466222695},\n",
       " 'k': 210,\n",
       " 'error': 0.16333558896422817,\n",
       " 'instance': [1, 1, 1, 2, 3, ... | 1],\n",
       " 'target_class': '1',\n",
       " 'instance_class_index': 1,\n",
       " 'prob': 0.9914626874826028}"
      ]
     },
     "execution_count": 71,
     "metadata": {},
     "output_type": "execute_result"
    }
   ],
   "source": [
    "nn0.__dict__"
   ]
  },
  {
   "cell_type": "code",
   "execution_count": 72,
   "metadata": {},
   "outputs": [
    {
     "data": {
      "text/plain": [
       "{'XPLAIN_explainer_o': <src.XPLAIN_explainer.XPLAIN_explainer at 0x7f7184b96be0>,\n",
       " 'diff_single': [0.5640677476540239,\n",
       "  0.5794696172464296,\n",
       "  0.006419198865224129,\n",
       "  -0.0037443665707811435,\n",
       "  -0.037168789685666614,\n",
       "  -0.0008903544886128545],\n",
       " 'map_difference': {'1,2': 0.5474250357876969},\n",
       " 'k': 210,\n",
       " 'error': 0.16333558896422817,\n",
       " 'instance': [2, 2, 1, 2, 3, ... | 1],\n",
       " 'target_class': '1',\n",
       " 'instance_class_index': 1,\n",
       " 'prob': 0.8928613766480301}"
      ]
     },
     "execution_count": 72,
     "metadata": {},
     "output_type": "execute_result"
    }
   ],
   "source": [
    "nn1.__dict__"
   ]
  },
  {
   "cell_type": "code",
   "execution_count": 74,
   "metadata": {},
   "outputs": [
    {
     "data": {
      "text/plain": [
       "{'XPLAIN_explainer_o': <src.XPLAIN_explainer.XPLAIN_explainer at 0x7f7182bac828>,\n",
       " 'diff_single': [0.0029420409251939006,\n",
       "  0.004285625582723274,\n",
       "  1.1386125375878464e-10,\n",
       "  3.3049585290712e-10,\n",
       "  0.01548042788166304,\n",
       "  3.932159042818739e-10],\n",
       " 'map_difference': {'5': 0.01548042788166304,\n",
       "  '1,2': 0.0023021251189729863,\n",
       "  '1,2,5': 0.4921838275159689},\n",
       " 'k': 21,\n",
       " 'error': 0.0009557593932398856,\n",
       " 'instance': [3, 3, 2, 3, 1, ... | 1],\n",
       " 'target_class': '1',\n",
       " 'instance_class_index': 1,\n",
       " 'prob': 0.9999999979472904}"
      ]
     },
     "execution_count": 74,
     "metadata": {},
     "output_type": "execute_result"
    }
   ],
   "source": [
    "nn3.__dict__"
   ]
  }
 ],
 "metadata": {
  "kernelspec": {
   "display_name": "Python 3",
   "language": "python",
   "name": "python3"
  },
  "language_info": {
   "codemirror_mode": {
    "name": "ipython",
    "version": 3
   },
   "file_extension": ".py",
   "mimetype": "text/x-python",
   "name": "python",
   "nbconvert_exporter": "python",
   "pygments_lexer": "ipython3",
   "version": "3.6.9"
  }
 },
 "nbformat": 4,
 "nbformat_minor": 4
}
