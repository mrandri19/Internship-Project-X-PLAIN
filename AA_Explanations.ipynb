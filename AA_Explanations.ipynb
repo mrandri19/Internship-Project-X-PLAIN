{
 "cells": [
  {
   "cell_type": "code",
   "execution_count": 1,
   "metadata": {
    "slideshow": {
     "slide_type": "skip"
    }
   },
   "outputs": [],
   "source": [
    "import warnings\n",
    "from IPython.display import display, Latex\n",
    "from IPython.display import Markdown as md\n",
    "warnings.filterwarnings(\"ignore\", category=DeprecationWarning) \n",
    "from XPLAIN_class import *\n",
    "from XPLAIN_util import *"
   ]
  },
  {
   "cell_type": "markdown",
   "metadata": {
    "slideshow": {
     "slide_type": "slide"
    }
   },
   "source": [
    "### Explaining individual predictions\n",
    "Explanations of instance x with respect to any arbitrary target class c"
   ]
  },
  {
   "cell_type": "code",
   "execution_count": 4,
   "metadata": {
    "scrolled": false,
    "slideshow": {
     "slide_type": "slide"
    }
   },
   "outputs": [
    {
     "data": {
      "text/markdown": [
       "Zoo dataset - RF classifier"
      ],
      "text/plain": [
       "<IPython.core.display.Markdown object>"
      ]
     },
     "metadata": {},
     "output_type": "display_data"
    },
    {
     "data": {
      "application/vnd.jupyter.widget-view+json": {
       "model_id": "291cf0adcf754bb0a5b02e84810f0857",
       "version_major": 2,
       "version_minor": 0
      },
      "text/plain": [
       "Label(value='Select dataset and classifier:')"
      ]
     },
     "metadata": {},
     "output_type": "display_data"
    },
    {
     "data": {
      "application/vnd.jupyter.widget-view+json": {
       "model_id": "80093441277944788c952176b4bd18a3",
       "version_major": 2,
       "version_minor": 0
      },
      "text/plain": [
       "VBox(children=(Dropdown(description='Dataset', options=('monks-1', 'zoo', 'adult'), value='monks-1'), Dropdown…"
      ]
     },
     "metadata": {},
     "output_type": "display_data"
    },
    {
     "data": {
      "application/vnd.jupyter.widget-view+json": {
       "model_id": "249febc3f13e4191a4703135c7a156fa",
       "version_major": 2,
       "version_minor": 0
      },
      "text/plain": [
       "Button(description='Select', style=ButtonStyle())"
      ]
     },
     "metadata": {},
     "output_type": "display_data"
    }
   ],
   "source": [
    "x=XPLAIN_util()\n",
    "e=Explanation_w()\n",
    "display(md(\"Zoo dataset - RF classifier\"))\n",
    "x.interactiveDatasetClassifierSelection()"
   ]
  },
  {
   "cell_type": "code",
   "execution_count": 7,
   "metadata": {
    "slideshow": {
     "slide_type": "skip"
    }
   },
   "outputs": [
    {
     "name": "stdout",
     "output_type": "stream",
     "text": [
      "4.51 s ± 5.07 ms per loop (mean ± std. dev. of 7 runs, 1 loop each)\n"
     ]
    }
   ],
   "source": [
    "%timeit explainer = XPLAIN_explainer(\"datasets/adult_d.arff\", [], \"nb\", trainExplainSet=True)"
   ]
  },
  {
   "cell_type": "markdown",
   "metadata": {
    "slideshow": {
     "slide_type": "slide"
    }
   },
   "source": [
    "Instances in the explain dataset"
   ]
  },
  {
   "cell_type": "code",
   "execution_count": 8,
   "metadata": {
    "slideshow": {
     "slide_type": "-"
    }
   },
   "outputs": [
    {
     "data": {
      "text/html": [
       "<div>\n",
       "<style scoped>\n",
       "    .dataframe tbody tr th:only-of-type {\n",
       "        vertical-align: middle;\n",
       "    }\n",
       "\n",
       "    .dataframe tbody tr th {\n",
       "        vertical-align: top;\n",
       "    }\n",
       "\n",
       "    .dataframe thead th {\n",
       "        text-align: right;\n",
       "    }\n",
       "</style>\n",
       "<table border=\"1\" class=\"dataframe\">\n",
       "  <thead>\n",
       "    <tr style=\"text-align: right;\">\n",
       "      <th></th>\n",
       "      <th>sex</th>\n",
       "      <th>workclass</th>\n",
       "      <th>education</th>\n",
       "      <th>race</th>\n",
       "      <th>marital-status</th>\n",
       "      <th>occupation</th>\n",
       "      <th>relationship</th>\n",
       "      <th>capital-gain</th>\n",
       "      <th>capital-loss</th>\n",
       "      <th>hours-per-week</th>\n",
       "      <th>age</th>\n",
       "      <th>class</th>\n",
       "    </tr>\n",
       "    <tr>\n",
       "      <th>id</th>\n",
       "      <th></th>\n",
       "      <th></th>\n",
       "      <th></th>\n",
       "      <th></th>\n",
       "      <th></th>\n",
       "      <th></th>\n",
       "      <th></th>\n",
       "      <th></th>\n",
       "      <th></th>\n",
       "      <th></th>\n",
       "      <th></th>\n",
       "      <th></th>\n",
       "    </tr>\n",
       "  </thead>\n",
       "  <tbody>\n",
       "    <tr>\n",
       "      <th>0</th>\n",
       "      <td>Female</td>\n",
       "      <td>Private</td>\n",
       "      <td>Dropout</td>\n",
       "      <td>Black</td>\n",
       "      <td>Widowed</td>\n",
       "      <td>Blue-Collar</td>\n",
       "      <td>Unmarried</td>\n",
       "      <td>low</td>\n",
       "      <td>low</td>\n",
       "      <td>39.5-40.5</td>\n",
       "      <td>&gt;=51</td>\n",
       "      <td>&lt;=50K</td>\n",
       "    </tr>\n",
       "    <tr>\n",
       "      <th>1</th>\n",
       "      <td>Male</td>\n",
       "      <td>Private</td>\n",
       "      <td>High-School-grad</td>\n",
       "      <td>White</td>\n",
       "      <td>Separated</td>\n",
       "      <td>Blue-Collar</td>\n",
       "      <td>Not-in-family</td>\n",
       "      <td>low</td>\n",
       "      <td>low</td>\n",
       "      <td>&gt;=50.5</td>\n",
       "      <td>26-33</td>\n",
       "      <td>&lt;=50K</td>\n",
       "    </tr>\n",
       "    <tr>\n",
       "      <th>7</th>\n",
       "      <td>Male</td>\n",
       "      <td>Self-emp-inc</td>\n",
       "      <td>High-School-grad</td>\n",
       "      <td>White</td>\n",
       "      <td>Never-married</td>\n",
       "      <td>Sales</td>\n",
       "      <td>Not-in-family</td>\n",
       "      <td>low</td>\n",
       "      <td>low</td>\n",
       "      <td>40.5-50.5</td>\n",
       "      <td>26-33</td>\n",
       "      <td>&lt;=50K</td>\n",
       "    </tr>\n",
       "    <tr>\n",
       "      <th>8</th>\n",
       "      <td>Male</td>\n",
       "      <td>Private</td>\n",
       "      <td>High-School-grad</td>\n",
       "      <td>White</td>\n",
       "      <td>Married</td>\n",
       "      <td>Other</td>\n",
       "      <td>Husband</td>\n",
       "      <td>low</td>\n",
       "      <td>low</td>\n",
       "      <td>39.5-40.5</td>\n",
       "      <td>26-33</td>\n",
       "      <td>&lt;=50K</td>\n",
       "    </tr>\n",
       "    <tr>\n",
       "      <th>10</th>\n",
       "      <td>Male</td>\n",
       "      <td>Local-gov</td>\n",
       "      <td>High-School-grad</td>\n",
       "      <td>White</td>\n",
       "      <td>Married</td>\n",
       "      <td>Other</td>\n",
       "      <td>Husband</td>\n",
       "      <td>low</td>\n",
       "      <td>low</td>\n",
       "      <td>&gt;=50.5</td>\n",
       "      <td>&gt;=51</td>\n",
       "      <td>&lt;=50K</td>\n",
       "    </tr>\n",
       "  </tbody>\n",
       "</table>\n",
       "</div>"
      ],
      "text/plain": [
       "       sex     workclass         education   race marital-status   occupation  \\\n",
       "id                                                                              \n",
       "0   Female       Private           Dropout  Black        Widowed  Blue-Collar   \n",
       "1     Male       Private  High-School-grad  White      Separated  Blue-Collar   \n",
       "7     Male  Self-emp-inc  High-School-grad  White  Never-married        Sales   \n",
       "8     Male       Private  High-School-grad  White        Married        Other   \n",
       "10    Male     Local-gov  High-School-grad  White        Married        Other   \n",
       "\n",
       "     relationship capital-gain capital-loss hours-per-week    age  class  \n",
       "id                                                                        \n",
       "0       Unmarried          low          low      39.5-40.5   >=51  <=50K  \n",
       "1   Not-in-family          low          low         >=50.5  26-33  <=50K  \n",
       "7   Not-in-family          low          low      40.5-50.5  26-33  <=50K  \n",
       "8         Husband          low          low      39.5-40.5  26-33  <=50K  \n",
       "10        Husband          low          low         >=50.5   >=51  <=50K  "
      ]
     },
     "execution_count": 8,
     "metadata": {},
     "output_type": "execute_result"
    }
   ],
   "source": [
    "xPzooRF.showExplainDatasetTabularForm().head()"
   ]
  },
  {
   "cell_type": "code",
   "execution_count": null,
   "metadata": {
    "slideshow": {
     "slide_type": "skip"
    }
   },
   "outputs": [],
   "source": [
    "#Explanation of instance \"0\"=\"aardvard\" of the zoo dataset for the RF classifier with respect to the predicted class (default)"
   ]
  },
  {
   "cell_type": "markdown",
   "metadata": {
    "slideshow": {
     "slide_type": "slide"
    }
   },
   "source": [
    "Explanation with respect to the predicted class"
   ]
  },
  {
   "cell_type": "code",
   "execution_count": null,
   "metadata": {
    "scrolled": false,
    "slideshow": {
     "slide_type": "-"
    }
   },
   "outputs": [],
   "source": [
    "xPzooRF=deepcopy(x.getXPLAIN_obj())\n",
    "%matplotlib inline\n",
    "e.interactiveGetExplanation(xPzooRF)"
   ]
  },
  {
   "cell_type": "code",
   "execution_count": 9,
   "metadata": {
    "slideshow": {
     "slide_type": "slide"
    }
   },
   "outputs": [
    {
     "data": {
      "image/png": "[encoded data removed]",
      "text/plain": [
       "<Figure size 748.8x514.8 with 1 Axes>"
      ]
     },
     "metadata": {
      "needs_background": "light"
     },
     "output_type": "display_data"
    },
    {
     "name": "stdout",
     "output_type": "stream",
     "text": [
      "\n",
      "Local rules:\n",
      "Rule_1  ->  {workclass=Private, relationship=Unmarried}\n",
      "Rule_2  ->  {workclass=Private, education=Dropout}\n",
      "Rule_3  ->  {race=Black, capital-gain=low}\n",
      "Rule_4  ->  {marital-status=Widowed, capital-gain=low}\n",
      "Rule_5  ->  {sex=Female, relationship=Unmarried, capital-gain=low}\n",
      "Union of rule bodies:\n",
      "Rule_U  ->  {sex=Female, workclass=Private, education=Dropout, race=Black, marital-status=Widowed, relationship=Unmarried, capital-gain=low}\n"
     ]
    }
   ],
   "source": [
    "%matplotlib inline\n",
    "#Demo purposes\n",
    "if e.getExpl()==None:\n",
    "    exp1=deepcopy(e.def_Explanation(xPzooRF))\n",
    "else:\n",
    "    exp1=deepcopy(e.getExpl())"
   ]
  },
  {
   "cell_type": "code",
   "execution_count": null,
   "metadata": {
    "scrolled": true,
    "slideshow": {
     "slide_type": "slide"
    }
   },
   "outputs": [],
   "source": [
    "%matplotlib inline\n",
    "display(md(\"Explanation with respect to user defined target class\"))\n",
    "e=Explanation_w()\n",
    "e.interactiveGetExplanation(xPzooRF)"
   ]
  },
  {
   "cell_type": "code",
   "execution_count": null,
   "metadata": {
    "slideshow": {
     "slide_type": "slide"
    }
   },
   "outputs": [],
   "source": [
    "%matplotlib inline\n",
    "#Demo purposes\n",
    "if e.getExpl()==None:\n",
    "    exp2=deepcopy(e.def_Explanation(xPzooRF, targetClass=\">50K\"))\n",
    "else:\n",
    "    exp2=deepcopy(e.getExpl())"
   ]
  },
  {
   "cell_type": "code",
   "execution_count": null,
   "metadata": {
    "scrolled": false,
    "slideshow": {
     "slide_type": "slide"
    }
   },
   "outputs": [],
   "source": [
    "exp2=deepcopy(e.getExpl())\n",
    "display(md(\"By selecting two target classes, it is possible to obtain the explanation for each class and inspect different behaviors \"))\n",
    "xPzooRF.interactiveTargetClassComparison(str(exp2.n_inst))"
   ]
  }
 ],
 "metadata": {
  "celltoolbar": "Slideshow",
  "hide_input": false,
  "kernelspec": {
   "display_name": "Python 3",
   "language": "python",
   "name": "python3"
  },
  "language_info": {
   "codemirror_mode": {
    "name": "ipython",
    "version": 3
   },
   "file_extension": ".py",
   "mimetype": "text/x-python",
   "name": "python",
   "nbconvert_exporter": "python",
   "pygments_lexer": "ipython3",
   "version": "3.7.3"
  },
  "varInspector": {
   "cols": {
    "lenName": 16,
    "lenType": 16,
    "lenVar": 40
   },
   "kernels_config": {
    "python": {
     "delete_cmd_postfix": "",
     "delete_cmd_prefix": "del ",
     "library": "var_list.py",
     "varRefreshCmd": "print(var_dic_list())"
    },
    "r": {
     "delete_cmd_postfix": ") ",
     "delete_cmd_prefix": "rm(",
     "library": "var_list.r",
     "varRefreshCmd": "cat(var_dic_list()) "
    }
   },
   "types_to_exclude": [
    "module",
    "function",
    "builtin_function_or_method",
    "instance",
    "_Feature"
   ],
   "window_display": false
  },
  "widgets": {
   "application/vnd.jupyter.widget-state+json": {
    "state": {
     "02bcb65210394174b0eabd655b247ddd": {
      "model_module": "@jupyter-widgets/controls",
      "model_module_version": "1.2.0",
      "model_name": "ButtonModel",
      "state": {
       "description": "Clear",
       "layout": "IPY_MODEL_f64479a8f4a04fbc8d0a424374a9bc63",
       "style": "IPY_MODEL_4de24f6b6a27434abab78c48a23a67d7"
      }
     },
     "03c8e7726ad041cfb1310122a1f369d7": {
      "model_module": "@jupyter-widgets/controls",
      "model_module_version": "1.2.0",
      "model_name": "ButtonModel",
      "state": {
       "description": "Compute",
       "layout": "IPY_MODEL_aab523857d344551878fa854c93600de",
       "style": "IPY_MODEL_c509d653e16b45b08b38b498173727cf"
      }
     },
     "04763e78d2af4047af1a65bce481e66a": {
      "model_module": "@jupyter-widgets/base",
      "model_module_version": "1.0.0",
      "model_name": "LayoutModel",
      "state": {}
     },
     "0567598c5fa64593af4ccc6f3c99d919": {
      "model_module": "@jupyter-widgets/controls",
      "model_module_version": "1.2.0",
      "model_name": "VBoxModel",
      "state": {
       "children": [
        "IPY_MODEL_fedd8e08e11340e5b0ead4e37970a6e0",
        "IPY_MODEL_b305664bda644b2eb7bf9cafefcf4045"
       ],
       "layout": "IPY_MODEL_afeb00162d2b4787ad1fd876b789666c"
      }
     },
     "0590c200358846a69762cdfc0dc64da9": {
      "model_module": "@jupyter-widgets/controls",
      "model_module_version": "1.2.0",
      "model_name": "VBoxModel",
      "state": {
       "children": [
        "IPY_MODEL_727a526fc89e4f109bf083e81801ba7c",
        "IPY_MODEL_7731f3728acc432a95161aace01aa28a"
       ],
       "layout": "IPY_MODEL_bf4afed7679c4c7f86843bd3e805f10a"
      }
     },
     "06823d06ac9042b89cfe7b80b48c2730": {
      "model_module": "@jupyter-widgets/controls",
      "model_module_version": "1.2.0",
      "model_name": "VBoxModel",
      "state": {
       "children": [
        "IPY_MODEL_a0486f7ad9664429ba979cad029cd08b",
        "IPY_MODEL_6a48ace7c898481f94b8f970fc8e20c3"
       ],
       "layout": "IPY_MODEL_0b90b672050d4c898e61863360b8e61c"
      }
     },
     "078c53f7b13f44ee9ee2238b50a7542f": {
      "model_module": "@jupyter-widgets/controls",
      "model_module_version": "1.2.0",
      "model_name": "ButtonStyleModel",
      "state": {}
     },
     "082681874a62453885f60ab437c9eca5": {
      "model_module": "@jupyter-widgets/base",
      "model_module_version": "1.0.0",
      "model_name": "LayoutModel",
      "state": {}
     },
     "08ba163de9c24af0adffcffe945c91bd": {
      "model_module": "@jupyter-widgets/controls",
      "model_module_version": "1.2.0",
      "model_name": "LabelModel",
      "state": {
       "layout": "IPY_MODEL_5b8e59b11fd044458d4ef7761c6ab821",
       "style": "IPY_MODEL_0b206fed2feb4bd1b70249941628ce3d",
       "value": "Select target classes:"
      }
     },
     "09bd02324bc14b6ba3d97e2eaa6f3270": {
      "model_module": "@jupyter-widgets/controls",
      "model_module_version": "1.2.0",
      "model_name": "DescriptionStyleModel",
      "state": {
       "description_width": ""
      }
     },
     "0a9882f82b85446ca89e79f24ed9ae1b": {
      "model_module": "@jupyter-widgets/controls",
      "model_module_version": "1.2.0",
      "model_name": "ButtonModel",
      "state": {
       "description": "Clear",
       "layout": "IPY_MODEL_cc7c3e4287eb47dd987c9fd4abe184b2",
       "style": "IPY_MODEL_4dd080490a3d4d8ca2e79b08870a5006"
      }
     },
     "0b206fed2feb4bd1b70249941628ce3d": {
      "model_module": "@jupyter-widgets/controls",
      "model_module_version": "1.2.0",
      "model_name": "DescriptionStyleModel",
      "state": {
       "description_width": ""
      }
     },
     "0b90b672050d4c898e61863360b8e61c": {
      "model_module": "@jupyter-widgets/base",
      "model_module_version": "1.0.0",
      "model_name": "LayoutModel",
      "state": {}
     },
     "0c3cb54ad8774533938072ffe59d068a": {
      "model_module": "@jupyter-widgets/controls",
      "model_module_version": "1.2.0",
      "model_name": "LabelModel",
      "state": {
       "layout": "IPY_MODEL_69f7777b37dc449e97c7f4d716bac46a",
       "style": "IPY_MODEL_814a4a548dd6452491b448c53e6e22f7",
       "value": "Select target classes:"
      }
     },
     "0d87e2eb19ff4592a94e06e50bebd965": {
      "model_module": "@jupyter-widgets/controls",
      "model_module_version": "1.2.0",
      "model_name": "HBoxModel",
      "state": {
       "children": [
        "IPY_MODEL_a11004f2bcd34db5bb4634e82dea2e16",
        "IPY_MODEL_7e7a7b7632814b4d987239d85b0473aa"
       ],
       "layout": "IPY_MODEL_8532cda2ce424ec59da77353c4eff8c6"
      }
     },
     "0f06050977d14ce8af3390f081b07e7d": {
      "model_module": "@jupyter-widgets/controls",
      "model_module_version": "1.2.0",
      "model_name": "VBoxModel",
      "state": {
       "children": [
        "IPY_MODEL_1ff4720671fd49c8aecc208cbf6a5862",
        "IPY_MODEL_6fd28e0bb0314d7785cc762d075a8997"
       ],
       "layout": "IPY_MODEL_833d76b731f04f8c87c3836bdbb0e105"
      }
     },
     "0f72aec2c4a044f2b7e34381a040422c": {
      "model_module": "@jupyter-widgets/base",
      "model_module_version": "1.0.0",
      "model_name": "LayoutModel",
      "state": {}
     },
     "10c798e6dd27433894815f46c4432743": {
      "model_module": "@jupyter-widgets/controls",
      "model_module_version": "1.2.0",
      "model_name": "HBoxModel",
      "state": {
       "children": [
        "IPY_MODEL_9540d3e4b53f4154bded2d3719eb2b79",
        "IPY_MODEL_be33935082704784a9c2db9e0b775384"
       ],
       "layout": "IPY_MODEL_b166faea09204877918d40a7343839c4"
      }
     },
     "14451ffa26d64fbbbf2875dc26cda06a": {
      "model_module": "@jupyter-widgets/base",
      "model_module_version": "1.0.0",
      "model_name": "LayoutModel",
      "state": {}
     },
     "172b0eb8e9aa44cfb9982f6581b27df4": {
      "model_module": "@jupyter-widgets/controls",
      "model_module_version": "1.2.0",
      "model_name": "VBoxModel",
      "state": {
       "children": [
        "IPY_MODEL_a82244802c0b4367b7e5fc00653f113f",
        "IPY_MODEL_a3c94ee98e8d42419e28b6513773a5f7"
       ],
       "layout": "IPY_MODEL_2e9a8adc220d45de8f77c0d228b34591"
      }
     },
     "173e23c4d5414da2aa443ce4d93002ba": {
      "model_module": "@jupyter-widgets/controls",
      "model_module_version": "1.2.0",
      "model_name": "ButtonModel",
      "state": {
       "description": "Compute",
       "layout": "IPY_MODEL_6e547fe6976a47c8ae41025ee9c325ad",
       "style": "IPY_MODEL_f816ccb8af654438a4b8f8ac54201335"
      }
     },
     "1ca4461c2fdd45adae295a38a84460a6": {
      "model_module": "@jupyter-widgets/controls",
      "model_module_version": "1.2.0",
      "model_name": "DescriptionStyleModel",
      "state": {
       "description_width": ""
      }
     },
     "1ce210512b7a4f28a379221185055a99": {
      "model_module": "@jupyter-widgets/controls",
      "model_module_version": "1.2.0",
      "model_name": "ButtonModel",
      "state": {
       "description": "Compute",
       "layout": "IPY_MODEL_d8cb2d5f435142c2a47427bf1c502a26",
       "style": "IPY_MODEL_98a8ce67dd1147fab11d01f53c7305ed"
      }
     },
     "1db2c56908cd4fa1ab4693b34f66403e": {
      "model_module": "@jupyter-widgets/base",
      "model_module_version": "1.0.0",
      "model_name": "LayoutModel",
      "state": {}
     },
     "1e3b0741cb0140e89afd1a7a595f2869": {
      "model_module": "@jupyter-widgets/base",
      "model_module_version": "1.0.0",
      "model_name": "LayoutModel",
      "state": {}
     },
     "1ff4720671fd49c8aecc208cbf6a5862": {
      "model_module": "@jupyter-widgets/controls",
      "model_module_version": "1.2.0",
      "model_name": "DropdownModel",
      "state": {
       "_options_labels": [
        "predicted",
        "trueLabel",
        "amphibian",
        "bird",
        "fish",
        "insect",
        "invertebrate",
        "mammal",
        "reptile"
       ],
       "description": "1º",
       "index": 0,
       "layout": "IPY_MODEL_8b31d84af3864b51949e3f7285d90834",
       "style": "IPY_MODEL_b61ff92b48a749c7a1a0cc66e16e675f"
      }
     },
     "23d0306e478d42b28d563a366ce0168c": {
      "model_module": "@jupyter-widgets/controls",
      "model_module_version": "1.2.0",
      "model_name": "DescriptionStyleModel",
      "state": {
       "description_width": ""
      }
     },
     "24297ffec69a4ef0a469b1155e8f05c9": {
      "model_module": "@jupyter-widgets/base",
      "model_module_version": "1.0.0",
      "model_name": "LayoutModel",
      "state": {}
     },
     "2507a3cbb6274950952469e718e618cc": {
      "model_module": "@jupyter-widgets/base",
      "model_module_version": "1.0.0",
      "model_name": "LayoutModel",
      "state": {}
     },
     "26ea8dc6fc2f470c9728074a9a13ef4a": {
      "model_module": "@jupyter-widgets/base",
      "model_module_version": "1.0.0",
      "model_name": "LayoutModel",
      "state": {}
     },
     "272ae36ac22e400b84b15a7508dfd9a4": {
      "model_module": "@jupyter-widgets/controls",
      "model_module_version": "1.2.0",
      "model_name": "ButtonModel",
      "state": {
       "description": "Compute",
       "layout": "IPY_MODEL_528cb9465a054336b10f0e2481570921",
       "style": "IPY_MODEL_e2ef9abaf11949f9ab39f7ca0d6bfd53"
      }
     },
     "2783b46d342f4c6c909d905fc0d0677e": {
      "model_module": "@jupyter-widgets/controls",
      "model_module_version": "1.2.0",
      "model_name": "ButtonModel",
      "state": {
       "description": "Compute",
       "layout": "IPY_MODEL_3fca08080f904e52b1d29336b74c6074",
       "style": "IPY_MODEL_078c53f7b13f44ee9ee2238b50a7542f"
      }
     },
     "28342be394a4426a86dd2a4369108e7a": {
      "model_module": "@jupyter-widgets/base",
      "model_module_version": "1.0.0",
      "model_name": "LayoutModel",
      "state": {}
     },
     "28afc490c1234e14acb2dc9122ffa7fe": {
      "model_module": "@jupyter-widgets/controls",
      "model_module_version": "1.2.0",
      "model_name": "ButtonStyleModel",
      "state": {}
     },
     "2c155dddadeb410ba40fe51991fded7c": {
      "model_module": "@jupyter-widgets/controls",
      "model_module_version": "1.2.0",
      "model_name": "ButtonStyleModel",
      "state": {}
     },
     "2c161b482e2e4a7e868d72e79817026f": {
      "model_module": "@jupyter-widgets/controls",
      "model_module_version": "1.2.0",
      "model_name": "DescriptionStyleModel",
      "state": {
       "description_width": ""
      }
     },
     "2def847be4a04b24942317363a8eac7d": {
      "model_module": "@jupyter-widgets/controls",
      "model_module_version": "1.2.0",
      "model_name": "ButtonModel",
      "state": {
       "description": "Compute",
       "layout": "IPY_MODEL_59e3c4b9e5fa4d70a7f11517d89a1e35",
       "style": "IPY_MODEL_8b3a82df8cbc4be1907dc2be62f7c8d0"
      }
     },
     "2e9a8adc220d45de8f77c0d228b34591": {
      "model_module": "@jupyter-widgets/base",
      "model_module_version": "1.0.0",
      "model_name": "LayoutModel",
      "state": {}
     },
     "324f8746b6d746988222f79743e3932c": {
      "model_module": "@jupyter-widgets/controls",
      "model_module_version": "1.2.0",
      "model_name": "ButtonModel",
      "state": {
       "description": "Compute",
       "layout": "IPY_MODEL_bf60bbf91eaf44bbb073da2f923fb62d",
       "style": "IPY_MODEL_3814cc3fcf5e465faee6706fd8f2aa4e"
      }
     },
     "32c1dd6b70064198b7410817ff4c8137": {
      "model_module": "@jupyter-widgets/controls",
      "model_module_version": "1.2.0",
      "model_name": "HBoxModel",
      "state": {
       "children": [
        "IPY_MODEL_ec719feda5454626aa0f752b4eba86c8",
        "IPY_MODEL_433872eb123943bcb03395c41ee2db28"
       ],
       "layout": "IPY_MODEL_9f639ca24e344c63a87cea0f55afa716"
      }
     },
     "335de9e012a74e5dbb7cb51bb6b3caf8": {
      "model_module": "@jupyter-widgets/base",
      "model_module_version": "1.0.0",
      "model_name": "LayoutModel",
      "state": {}
     },
     "367bad40dfff48369509b328a07072ae": {
      "model_module": "@jupyter-widgets/controls",
      "model_module_version": "1.2.0",
      "model_name": "ButtonStyleModel",
      "state": {}
     },
     "37f12ef86ca647328004608cbd41b5d1": {
      "model_module": "@jupyter-widgets/base",
      "model_module_version": "1.0.0",
      "model_name": "LayoutModel",
      "state": {}
     },
     "37f662f31e8a437b8a8ee1f37e1923e7": {
      "model_module": "@jupyter-widgets/controls",
      "model_module_version": "1.2.0",
      "model_name": "DescriptionStyleModel",
      "state": {
       "description_width": ""
      }
     },
     "3814cc3fcf5e465faee6706fd8f2aa4e": {
      "model_module": "@jupyter-widgets/controls",
      "model_module_version": "1.2.0",
      "model_name": "ButtonStyleModel",
      "state": {}
     },
     "3822923f8ed046abbe5f7060549dc259": {
      "model_module": "@jupyter-widgets/controls",
      "model_module_version": "1.2.0",
      "model_name": "ButtonModel",
      "state": {
       "description": "Compute",
       "layout": "IPY_MODEL_ec0b4d716db74011a36126b1b75d90e4",
       "style": "IPY_MODEL_28afc490c1234e14acb2dc9122ffa7fe"
      }
     },
     "38719d0314a14e8f9b1178540a749525": {
      "model_module": "@jupyter-widgets/controls",
      "model_module_version": "1.2.0",
      "model_name": "ButtonModel",
      "state": {
       "description": "Compute",
       "layout": "IPY_MODEL_976da59e988d42dd86dd0342317a6001",
       "style": "IPY_MODEL_5f60ae6de0bf494da708ed04fec8ba98"
      }
     },
     "3d69e9cef6d84158b9a4b5b37d507e60": {
      "model_module": "@jupyter-widgets/controls",
      "model_module_version": "1.2.0",
      "model_name": "HBoxModel",
      "state": {
       "children": [
        "IPY_MODEL_173e23c4d5414da2aa443ce4d93002ba",
        "IPY_MODEL_a9d3353e6cb8469bba2e04d465b1a345"
       ],
       "layout": "IPY_MODEL_509a3488f70c49b6ae5bd5a59744342d"
      }
     },
     "3df041f44fda4ad39dc9b02baf050f89": {
      "model_module": "@jupyter-widgets/controls",
      "model_module_version": "1.2.0",
      "model_name": "ButtonStyleModel",
      "state": {}
     },
     "3fca08080f904e52b1d29336b74c6074": {
      "model_module": "@jupyter-widgets/base",
      "model_module_version": "1.0.0",
      "model_name": "LayoutModel",
      "state": {}
     },
     "4247c5f12961489db991f7b806f123f2": {
      "model_module": "@jupyter-widgets/base",
      "model_module_version": "1.0.0",
      "model_name": "LayoutModel",
      "state": {}
     },
     "433872eb123943bcb03395c41ee2db28": {
      "model_module": "@jupyter-widgets/controls",
      "model_module_version": "1.2.0",
      "model_name": "ButtonModel",
      "state": {
       "description": "Clear",
       "layout": "IPY_MODEL_a633cacf31d74042aca493accaf87c94",
       "style": "IPY_MODEL_70d9392cf1c949e68b92bcce21c3c4c5"
      }
     },
     "43519fa60d77411792d86af7492a844f": {
      "model_module": "@jupyter-widgets/base",
      "model_module_version": "1.0.0",
      "model_name": "LayoutModel",
      "state": {}
     },
     "437fab541985432ea294cc288bdd241d": {
      "model_module": "@jupyter-widgets/controls",
      "model_module_version": "1.2.0",
      "model_name": "DescriptionStyleModel",
      "state": {
       "description_width": ""
      }
     },
     "43ec392aaa2c4b4784a1d25aa51801c1": {
      "model_module": "@jupyter-widgets/controls",
      "model_module_version": "1.2.0",
      "model_name": "DescriptionStyleModel",
      "state": {
       "description_width": ""
      }
     },
     "45ba2e0496ea4b23bf6a35d678dd4342": {
      "model_module": "@jupyter-widgets/base",
      "model_module_version": "1.0.0",
      "model_name": "LayoutModel",
      "state": {}
     },
     "475d2657efe44b29a1aad6de71806516": {
      "model_module": "@jupyter-widgets/controls",
      "model_module_version": "1.2.0",
      "model_name": "ButtonModel",
      "state": {
       "description": "Clear",
       "layout": "IPY_MODEL_75039c8ebbd94983a63b9448134ffb7f",
       "style": "IPY_MODEL_3df041f44fda4ad39dc9b02baf050f89"
      }
     },
     "4c58ae3c67fc47fe8796da511686314b": {
      "model_module": "@jupyter-widgets/controls",
      "model_module_version": "1.2.0",
      "model_name": "LabelModel",
      "state": {
       "layout": "IPY_MODEL_82bf7861417e4e89b6109437b759eafa",
       "style": "IPY_MODEL_75ec57ee20cf4adcbce0c3ed3eafbf6d",
       "value": "Select target classes:"
      }
     },
     "4dd080490a3d4d8ca2e79b08870a5006": {
      "model_module": "@jupyter-widgets/controls",
      "model_module_version": "1.2.0",
      "model_name": "ButtonStyleModel",
      "state": {}
     },
     "4de24f6b6a27434abab78c48a23a67d7": {
      "model_module": "@jupyter-widgets/controls",
      "model_module_version": "1.2.0",
      "model_name": "ButtonStyleModel",
      "state": {}
     },
     "4f5528ab91284fd6a74d6de8a7b94dc4": {
      "model_module": "@jupyter-widgets/base",
      "model_module_version": "1.0.0",
      "model_name": "LayoutModel",
      "state": {}
     },
     "509a3488f70c49b6ae5bd5a59744342d": {
      "model_module": "@jupyter-widgets/base",
      "model_module_version": "1.0.0",
      "model_name": "LayoutModel",
      "state": {}
     },
     "514caac764c84e3c85429ca7a40bf158": {
      "model_module": "@jupyter-widgets/controls",
      "model_module_version": "1.2.0",
      "model_name": "HBoxModel",
      "state": {
       "children": [
        "IPY_MODEL_2def847be4a04b24942317363a8eac7d",
        "IPY_MODEL_a6090048d4414b76a3fd7954232b3e3e"
       ],
       "layout": "IPY_MODEL_eb46eeaa177b4c7195adb260979f8737"
      }
     },
     "528cb9465a054336b10f0e2481570921": {
      "model_module": "@jupyter-widgets/base",
      "model_module_version": "1.0.0",
      "model_name": "LayoutModel",
      "state": {}
     },
     "53ac797310414348869f2e89667f73b6": {
      "model_module": "@jupyter-widgets/base",
      "model_module_version": "1.0.0",
      "model_name": "LayoutModel",
      "state": {}
     },
     "54408517a1cf485fb86b08695f614e5f": {
      "model_module": "@jupyter-widgets/controls",
      "model_module_version": "1.2.0",
      "model_name": "DescriptionStyleModel",
      "state": {
       "description_width": ""
      }
     },
     "545419cf0aa4495cb0a8cbcca1d2148a": {
      "model_module": "@jupyter-widgets/controls",
      "model_module_version": "1.2.0",
      "model_name": "DescriptionStyleModel",
      "state": {
       "description_width": ""
      }
     },
     "564c82cf2e384069afd5e998ab042d80": {
      "model_module": "@jupyter-widgets/controls",
      "model_module_version": "1.2.0",
      "model_name": "VBoxModel",
      "state": {
       "children": [
        "IPY_MODEL_7c20710163904ae6b0dbcda9c59a197e",
        "IPY_MODEL_93036226305d46649358ed61044f56ed"
       ],
       "layout": "IPY_MODEL_fd77d48a9175498592b926262f0b6a5b"
      }
     },
     "56e8ccb6caef4082bc44dca6d4c19383": {
      "model_module": "@jupyter-widgets/base",
      "model_module_version": "1.0.0",
      "model_name": "LayoutModel",
      "state": {}
     },
     "59e3c4b9e5fa4d70a7f11517d89a1e35": {
      "model_module": "@jupyter-widgets/base",
      "model_module_version": "1.0.0",
      "model_name": "LayoutModel",
      "state": {}
     },
     "5b371f7a2cfb47a7881b9598a3dcd204": {
      "model_module": "@jupyter-widgets/controls",
      "model_module_version": "1.2.0",
      "model_name": "DescriptionStyleModel",
      "state": {
       "description_width": ""
      }
     },
     "5b8e59b11fd044458d4ef7761c6ab821": {
      "model_module": "@jupyter-widgets/base",
      "model_module_version": "1.0.0",
      "model_name": "LayoutModel",
      "state": {}
     },
     "5f60ae6de0bf494da708ed04fec8ba98": {
      "model_module": "@jupyter-widgets/controls",
      "model_module_version": "1.2.0",
      "model_name": "ButtonStyleModel",
      "state": {}
     },
     "60267c6928264008b01ef3ed3fab94ae": {
      "model_module": "@jupyter-widgets/controls",
      "model_module_version": "1.2.0",
      "model_name": "ButtonStyleModel",
      "state": {}
     },
     "6565b3daa30e4fc4a26742dd4e76a6f6": {
      "model_module": "@jupyter-widgets/controls",
      "model_module_version": "1.2.0",
      "model_name": "ButtonStyleModel",
      "state": {}
     },
     "66ceb91b8dc648a09f3c1e0823d0e13e": {
      "model_module": "@jupyter-widgets/controls",
      "model_module_version": "1.2.0",
      "model_name": "ButtonStyleModel",
      "state": {}
     },
     "67806510879146d08f1e4b8be6c3452c": {
      "model_module": "@jupyter-widgets/base",
      "model_module_version": "1.0.0",
      "model_name": "LayoutModel",
      "state": {}
     },
     "67ef85cc01714a90822511959f8c5dfe": {
      "model_module": "@jupyter-widgets/controls",
      "model_module_version": "1.2.0",
      "model_name": "LabelModel",
      "state": {
       "layout": "IPY_MODEL_082681874a62453885f60ab437c9eca5",
       "style": "IPY_MODEL_f6a71df8697f4eafb2e82d51613731b5",
       "value": "Select target classes:"
      }
     },
     "68334fc8bd6f420a9a73515a226be68c": {
      "model_module": "@jupyter-widgets/base",
      "model_module_version": "1.0.0",
      "model_name": "LayoutModel",
      "state": {}
     },
     "69f7777b37dc449e97c7f4d716bac46a": {
      "model_module": "@jupyter-widgets/base",
      "model_module_version": "1.0.0",
      "model_name": "LayoutModel",
      "state": {}
     },
     "6a48ace7c898481f94b8f970fc8e20c3": {
      "model_module": "@jupyter-widgets/controls",
      "model_module_version": "1.2.0",
      "model_name": "DropdownModel",
      "state": {
       "_options_labels": [
        "predicted",
        "trueLabel",
        "amphibian",
        "bird",
        "fish",
        "insect",
        "invertebrate",
        "mammal",
        "reptile"
       ],
       "description": "2º",
       "index": 3,
       "layout": "IPY_MODEL_7d92f3136c574c82ae7782590b088a13",
       "style": "IPY_MODEL_545419cf0aa4495cb0a8cbcca1d2148a"
      }
     },
     "6bfa06ed5f724b408708cfb24ae3e775": {
      "model_module": "@jupyter-widgets/controls",
      "model_module_version": "1.2.0",
      "model_name": "DescriptionStyleModel",
      "state": {
       "description_width": ""
      }
     },
     "6c972198c31d4ee6a255f5adaa74b866": {
      "model_module": "@jupyter-widgets/controls",
      "model_module_version": "1.2.0",
      "model_name": "ButtonModel",
      "state": {
       "description": "Clear",
       "layout": "IPY_MODEL_77c7b43728074a3c9bb0669be9da79fc",
       "style": "IPY_MODEL_b4edc30b2dd64d6d9e14c5ea277849de"
      }
     },
     "6d2a25a17e414ed69f55fc1e312292a9": {
      "model_module": "@jupyter-widgets/controls",
      "model_module_version": "1.2.0",
      "model_name": "DropdownModel",
      "state": {
       "_options_labels": [
        "predicted",
        "amphibian",
        "bird",
        "fish",
        "insect",
        "invertebrate",
        "mammal",
        "reptile"
       ],
       "description": "Target class",
       "index": 0,
       "layout": "IPY_MODEL_24297ffec69a4ef0a469b1155e8f05c9",
       "style": "IPY_MODEL_09bd02324bc14b6ba3d97e2eaa6f3270"
      }
     },
     "6e547fe6976a47c8ae41025ee9c325ad": {
      "model_module": "@jupyter-widgets/base",
      "model_module_version": "1.0.0",
      "model_name": "LayoutModel",
      "state": {}
     },
     "6e7b01b8826f4fefafd0c2cfdcabd2c0": {
      "model_module": "@jupyter-widgets/controls",
      "model_module_version": "1.2.0",
      "model_name": "LabelModel",
      "state": {
       "layout": "IPY_MODEL_56e8ccb6caef4082bc44dca6d4c19383",
       "style": "IPY_MODEL_88ea9ac7db55455eae109c0195b8b0b1",
       "value": "Select target classes:"
      }
     },
     "6fd28e0bb0314d7785cc762d075a8997": {
      "model_module": "@jupyter-widgets/controls",
      "model_module_version": "1.2.0",
      "model_name": "DropdownModel",
      "state": {
       "_options_labels": [
        "predicted",
        "trueLabel",
        "amphibian",
        "bird",
        "fish",
        "insect",
        "invertebrate",
        "mammal",
        "reptile"
       ],
       "description": "2º",
       "index": 3,
       "layout": "IPY_MODEL_4247c5f12961489db991f7b806f123f2",
       "style": "IPY_MODEL_2c161b482e2e4a7e868d72e79817026f"
      }
     },
     "70d9392cf1c949e68b92bcce21c3c4c5": {
      "model_module": "@jupyter-widgets/controls",
      "model_module_version": "1.2.0",
      "model_name": "ButtonStyleModel",
      "state": {}
     },
     "727a526fc89e4f109bf083e81801ba7c": {
      "model_module": "@jupyter-widgets/controls",
      "model_module_version": "1.2.0",
      "model_name": "DropdownModel",
      "state": {
       "_options_labels": [
        "predicted",
        "trueLabel",
        "amphibian",
        "bird",
        "fish",
        "insect",
        "invertebrate",
        "mammal",
        "reptile"
       ],
       "description": "1º",
       "index": 0,
       "layout": "IPY_MODEL_82af73acc06b4118abbddc1dcb1043b8",
       "style": "IPY_MODEL_23d0306e478d42b28d563a366ce0168c"
      }
     },
     "72b371414aac41c48da07727de3cac2f": {
      "model_module": "@jupyter-widgets/controls",
      "model_module_version": "1.2.0",
      "model_name": "DescriptionStyleModel",
      "state": {
       "description_width": ""
      }
     },
     "72d3b97a1c754d09ab828983ff92a595": {
      "model_module": "@jupyter-widgets/controls",
      "model_module_version": "1.2.0",
      "model_name": "ButtonModel",
      "state": {
       "description": "Clear",
       "layout": "IPY_MODEL_335de9e012a74e5dbb7cb51bb6b3caf8",
       "style": "IPY_MODEL_367bad40dfff48369509b328a07072ae"
      }
     },
     "75039c8ebbd94983a63b9448134ffb7f": {
      "model_module": "@jupyter-widgets/base",
      "model_module_version": "1.0.0",
      "model_name": "LayoutModel",
      "state": {}
     },
     "75defe8f414142c1aad06152410930a2": {
      "model_module": "@jupyter-widgets/controls",
      "model_module_version": "1.2.0",
      "model_name": "ButtonModel",
      "state": {
       "description": "Clear",
       "layout": "IPY_MODEL_a33a1149dcc34fc78e3e080ce8accac3",
       "style": "IPY_MODEL_2c155dddadeb410ba40fe51991fded7c"
      }
     },
     "75ec57ee20cf4adcbce0c3ed3eafbf6d": {
      "model_module": "@jupyter-widgets/controls",
      "model_module_version": "1.2.0",
      "model_name": "DescriptionStyleModel",
      "state": {
       "description_width": ""
      }
     },
     "7731f3728acc432a95161aace01aa28a": {
      "model_module": "@jupyter-widgets/controls",
      "model_module_version": "1.2.0",
      "model_name": "DropdownModel",
      "state": {
       "_options_labels": [
        "predicted",
        "trueLabel",
        "amphibian",
        "bird",
        "fish",
        "insect",
        "invertebrate",
        "mammal",
        "reptile"
       ],
       "description": "2º",
       "index": 1,
       "layout": "IPY_MODEL_4f5528ab91284fd6a74d6de8a7b94dc4",
       "style": "IPY_MODEL_1ca4461c2fdd45adae295a38a84460a6"
      }
     },
     "775fbdc7bc454aea9fb1114a6688724a": {
      "model_module": "@jupyter-widgets/controls",
      "model_module_version": "1.2.0",
      "model_name": "DropdownModel",
      "state": {
       "_options_labels": [
        "predicted",
        "amphibian",
        "bird",
        "fish",
        "insect",
        "invertebrate",
        "mammal",
        "reptile"
       ],
       "description": "Target class",
       "index": 2,
       "layout": "IPY_MODEL_b13c26d0478d49eb88b673ef3235e4f0",
       "style": "IPY_MODEL_e46100f8dfcd4beb829e560eb4456891"
      }
     },
     "77c7b43728074a3c9bb0669be9da79fc": {
      "model_module": "@jupyter-widgets/base",
      "model_module_version": "1.0.0",
      "model_name": "LayoutModel",
      "state": {}
     },
     "789eb8cff30d435b8dbeab77bc1e1de5": {
      "model_module": "@jupyter-widgets/controls",
      "model_module_version": "1.2.0",
      "model_name": "DescriptionStyleModel",
      "state": {
       "description_width": ""
      }
     },
     "78d49d35192a4b7ab025a5af3b152600": {
      "model_module": "@jupyter-widgets/controls",
      "model_module_version": "1.2.0",
      "model_name": "ButtonStyleModel",
      "state": {}
     },
     "7bb9dd29cb4c4628883e1902ef53cba4": {
      "model_module": "@jupyter-widgets/base",
      "model_module_version": "1.0.0",
      "model_name": "LayoutModel",
      "state": {}
     },
     "7c20710163904ae6b0dbcda9c59a197e": {
      "model_module": "@jupyter-widgets/controls",
      "model_module_version": "1.2.0",
      "model_name": "DropdownModel",
      "state": {
       "_options_labels": [
        "predicted",
        "trueLabel",
        "amphibian",
        "bird",
        "fish",
        "insect",
        "invertebrate",
        "mammal",
        "reptile"
       ],
       "description": "1º",
       "index": 3,
       "layout": "IPY_MODEL_ac0ac00ec93f493e9f7e6da75696fbe9",
       "style": "IPY_MODEL_789eb8cff30d435b8dbeab77bc1e1de5"
      }
     },
     "7d92f3136c574c82ae7782590b088a13": {
      "model_module": "@jupyter-widgets/base",
      "model_module_version": "1.0.0",
      "model_name": "LayoutModel",
      "state": {}
     },
     "7e7a7b7632814b4d987239d85b0473aa": {
      "model_module": "@jupyter-widgets/controls",
      "model_module_version": "1.2.0",
      "model_name": "ButtonModel",
      "state": {
       "description": "Clear",
       "layout": "IPY_MODEL_37f12ef86ca647328004608cbd41b5d1",
       "style": "IPY_MODEL_e58266f7a4bb424fa34f171e9c72d231"
      }
     },
     "7f296da2677d40cfabf4432731999d29": {
      "model_module": "@jupyter-widgets/controls",
      "model_module_version": "1.2.0",
      "model_name": "ButtonStyleModel",
      "state": {}
     },
     "7f7a6456a29643318f313494b29396d7": {
      "model_module": "@jupyter-widgets/controls",
      "model_module_version": "1.2.0",
      "model_name": "DescriptionStyleModel",
      "state": {
       "description_width": ""
      }
     },
     "8062a6aa6a8e47f2aa783e4ab91ae19a": {
      "model_module": "@jupyter-widgets/base",
      "model_module_version": "1.0.0",
      "model_name": "LayoutModel",
      "state": {}
     },
     "814a4a548dd6452491b448c53e6e22f7": {
      "model_module": "@jupyter-widgets/controls",
      "model_module_version": "1.2.0",
      "model_name": "DescriptionStyleModel",
      "state": {
       "description_width": ""
      }
     },
     "82af73acc06b4118abbddc1dcb1043b8": {
      "model_module": "@jupyter-widgets/base",
      "model_module_version": "1.0.0",
      "model_name": "LayoutModel",
      "state": {}
     },
     "82ba99ed1218473d8c34554b6dc21bc1": {
      "model_module": "@jupyter-widgets/base",
      "model_module_version": "1.0.0",
      "model_name": "LayoutModel",
      "state": {}
     },
     "82bf7861417e4e89b6109437b759eafa": {
      "model_module": "@jupyter-widgets/base",
      "model_module_version": "1.0.0",
      "model_name": "LayoutModel",
      "state": {}
     },
     "8333a90558174528b12a1c4ec7d6fbc0": {
      "model_module": "@jupyter-widgets/base",
      "model_module_version": "1.0.0",
      "model_name": "LayoutModel",
      "state": {}
     },
     "833d76b731f04f8c87c3836bdbb0e105": {
      "model_module": "@jupyter-widgets/base",
      "model_module_version": "1.0.0",
      "model_name": "LayoutModel",
      "state": {}
     },
     "8343d7ac55204b8e9f18ff315522903c": {
      "model_module": "@jupyter-widgets/controls",
      "model_module_version": "1.2.0",
      "model_name": "DescriptionStyleModel",
      "state": {
       "description_width": ""
      }
     },
     "83b8f1faf9184c37a95f0e7716bc7f3d": {
      "model_module": "@jupyter-widgets/controls",
      "model_module_version": "1.2.0",
      "model_name": "DropdownModel",
      "state": {
       "_options_labels": [
        "predicted",
        "amphibian",
        "bird",
        "fish",
        "insect",
        "invertebrate",
        "mammal",
        "reptile"
       ],
       "description": "Target class",
       "index": 0,
       "layout": "IPY_MODEL_82ba99ed1218473d8c34554b6dc21bc1",
       "style": "IPY_MODEL_8343d7ac55204b8e9f18ff315522903c"
      }
     },
     "8532cda2ce424ec59da77353c4eff8c6": {
      "model_module": "@jupyter-widgets/base",
      "model_module_version": "1.0.0",
      "model_name": "LayoutModel",
      "state": {}
     },
     "85eeb052968240f69157595d25fc44a6": {
      "model_module": "@jupyter-widgets/base",
      "model_module_version": "1.0.0",
      "model_name": "LayoutModel",
      "state": {}
     },
     "88ea9ac7db55455eae109c0195b8b0b1": {
      "model_module": "@jupyter-widgets/controls",
      "model_module_version": "1.2.0",
      "model_name": "DescriptionStyleModel",
      "state": {
       "description_width": ""
      }
     },
     "8b31d84af3864b51949e3f7285d90834": {
      "model_module": "@jupyter-widgets/base",
      "model_module_version": "1.0.0",
      "model_name": "LayoutModel",
      "state": {}
     },
     "8b3a82df8cbc4be1907dc2be62f7c8d0": {
      "model_module": "@jupyter-widgets/controls",
      "model_module_version": "1.2.0",
      "model_name": "ButtonStyleModel",
      "state": {}
     },
     "8c018d1a8bb046d7ba69f317be02ca6d": {
      "model_module": "@jupyter-widgets/base",
      "model_module_version": "1.0.0",
      "model_name": "LayoutModel",
      "state": {}
     },
     "8c1359d3ddde458285f4710443d030c9": {
      "model_module": "@jupyter-widgets/base",
      "model_module_version": "1.0.0",
      "model_name": "LayoutModel",
      "state": {}
     },
     "8e26b22d8ab54bc0b92b899668acb653": {
      "model_module": "@jupyter-widgets/controls",
      "model_module_version": "1.2.0",
      "model_name": "DescriptionStyleModel",
      "state": {
       "description_width": ""
      }
     },
     "8e588eeed3114b6eb360e24ba32d4c58": {
      "model_module": "@jupyter-widgets/controls",
      "model_module_version": "1.2.0",
      "model_name": "DropdownModel",
      "state": {
       "_options_labels": [
        "predicted",
        "amphibian",
        "bird",
        "fish",
        "insect",
        "invertebrate",
        "mammal",
        "reptile"
       ],
       "description": "Target class",
       "index": 0,
       "layout": "IPY_MODEL_0f72aec2c4a044f2b7e34381a040422c",
       "style": "IPY_MODEL_72b371414aac41c48da07727de3cac2f"
      }
     },
     "9127638c01584413a2019c0f6a861742": {
      "model_module": "@jupyter-widgets/controls",
      "model_module_version": "1.2.0",
      "model_name": "ButtonModel",
      "state": {
       "description": "Compute",
       "layout": "IPY_MODEL_ad93313da0364fae923f1f29c2f36117",
       "style": "IPY_MODEL_d213aeafee7643458afb02a67169dec6"
      }
     },
     "93036226305d46649358ed61044f56ed": {
      "model_module": "@jupyter-widgets/controls",
      "model_module_version": "1.2.0",
      "model_name": "DropdownModel",
      "state": {
       "_options_labels": [
        "predicted",
        "trueLabel",
        "amphibian",
        "bird",
        "fish",
        "insect",
        "invertebrate",
        "mammal",
        "reptile"
       ],
       "description": "2º",
       "index": 8,
       "layout": "IPY_MODEL_efd30664e390420cb4a742032332740a",
       "style": "IPY_MODEL_c85bf4aa54c6464d9cc93672b8214820"
      }
     },
     "9338e23fb9d846eca1d70ef5fb3399c2": {
      "model_module": "@jupyter-widgets/controls",
      "model_module_version": "1.2.0",
      "model_name": "ButtonStyleModel",
      "state": {}
     },
     "9540d3e4b53f4154bded2d3719eb2b79": {
      "model_module": "@jupyter-widgets/controls",
      "model_module_version": "1.2.0",
      "model_name": "ButtonModel",
      "state": {
       "description": "Compute",
       "layout": "IPY_MODEL_8c1359d3ddde458285f4710443d030c9",
       "style": "IPY_MODEL_60267c6928264008b01ef3ed3fab94ae"
      }
     },
     "9730b8cec9174ac99df5d269b150617f": {
      "model_module": "@jupyter-widgets/controls",
      "model_module_version": "1.2.0",
      "model_name": "HBoxModel",
      "state": {
       "children": [
        "IPY_MODEL_38719d0314a14e8f9b1178540a749525",
        "IPY_MODEL_ce067382879c492bad163665cee6a8ee"
       ],
       "layout": "IPY_MODEL_8c018d1a8bb046d7ba69f317be02ca6d"
      }
     },
     "97408ad7aba34605af4974f37912696b": {
      "model_module": "@jupyter-widgets/base",
      "model_module_version": "1.0.0",
      "model_name": "LayoutModel",
      "state": {}
     },
     "976da59e988d42dd86dd0342317a6001": {
      "model_module": "@jupyter-widgets/base",
      "model_module_version": "1.0.0",
      "model_name": "LayoutModel",
      "state": {}
     },
     "98a8ce67dd1147fab11d01f53c7305ed": {
      "model_module": "@jupyter-widgets/controls",
      "model_module_version": "1.2.0",
      "model_name": "ButtonStyleModel",
      "state": {}
     },
     "997e8fac1ff54fe3a07d2e4b5d5781e5": {
      "model_module": "@jupyter-widgets/base",
      "model_module_version": "1.0.0",
      "model_name": "LayoutModel",
      "state": {}
     },
     "9c227590da444fcca5526a47422efa3f": {
      "model_module": "@jupyter-widgets/controls",
      "model_module_version": "1.2.0",
      "model_name": "HBoxModel",
      "state": {
       "children": [
        "IPY_MODEL_2783b46d342f4c6c909d905fc0d0677e",
        "IPY_MODEL_72d3b97a1c754d09ab828983ff92a595"
       ],
       "layout": "IPY_MODEL_67806510879146d08f1e4b8be6c3452c"
      }
     },
     "9d733c1468ce41a0af3d3485230514d6": {
      "model_module": "@jupyter-widgets/base",
      "model_module_version": "1.0.0",
      "model_name": "LayoutModel",
      "state": {}
     },
     "9f639ca24e344c63a87cea0f55afa716": {
      "model_module": "@jupyter-widgets/base",
      "model_module_version": "1.0.0",
      "model_name": "LayoutModel",
      "state": {}
     },
     "a0486f7ad9664429ba979cad029cd08b": {
      "model_module": "@jupyter-widgets/controls",
      "model_module_version": "1.2.0",
      "model_name": "DropdownModel",
      "state": {
       "_options_labels": [
        "predicted",
        "trueLabel",
        "amphibian",
        "bird",
        "fish",
        "insect",
        "invertebrate",
        "mammal",
        "reptile"
       ],
       "description": "1º",
       "index": 0,
       "layout": "IPY_MODEL_8062a6aa6a8e47f2aa783e4ab91ae19a",
       "style": "IPY_MODEL_5b371f7a2cfb47a7881b9598a3dcd204"
      }
     },
     "a11004f2bcd34db5bb4634e82dea2e16": {
      "model_module": "@jupyter-widgets/controls",
      "model_module_version": "1.2.0",
      "model_name": "ButtonModel",
      "state": {
       "description": "Compute",
       "layout": "IPY_MODEL_85eeb052968240f69157595d25fc44a6",
       "style": "IPY_MODEL_7f296da2677d40cfabf4432731999d29"
      }
     },
     "a130eb62b9eb448196711c77c9e4eefb": {
      "model_module": "@jupyter-widgets/controls",
      "model_module_version": "1.2.0",
      "model_name": "HBoxModel",
      "state": {
       "children": [
        "IPY_MODEL_9127638c01584413a2019c0f6a861742",
        "IPY_MODEL_0a9882f82b85446ca89e79f24ed9ae1b"
       ],
       "layout": "IPY_MODEL_ad0cc1f3423b43cfa11d53506cb68029"
      }
     },
     "a33a1149dcc34fc78e3e080ce8accac3": {
      "model_module": "@jupyter-widgets/base",
      "model_module_version": "1.0.0",
      "model_name": "LayoutModel",
      "state": {}
     },
     "a3c94ee98e8d42419e28b6513773a5f7": {
      "model_module": "@jupyter-widgets/controls",
      "model_module_version": "1.2.0",
      "model_name": "DropdownModel",
      "state": {
       "_options_labels": [
        "predicted",
        "trueLabel",
        "amphibian",
        "bird",
        "fish",
        "insect",
        "invertebrate",
        "mammal",
        "reptile"
       ],
       "description": "2º",
       "index": 8,
       "layout": "IPY_MODEL_b8af4ec92da142db9fdc3fb68e304ef8",
       "style": "IPY_MODEL_fd430f364ca1402bb8fc1f03164edf3d"
      }
     },
     "a437432fd7af4ec7af2d4960c3f1628c": {
      "model_module": "@jupyter-widgets/controls",
      "model_module_version": "1.2.0",
      "model_name": "ButtonStyleModel",
      "state": {}
     },
     "a6090048d4414b76a3fd7954232b3e3e": {
      "model_module": "@jupyter-widgets/controls",
      "model_module_version": "1.2.0",
      "model_name": "ButtonModel",
      "state": {
       "description": "Clear",
       "layout": "IPY_MODEL_fe99cda33d0d4fe98d45af2a12842793",
       "style": "IPY_MODEL_b8c18c42f94c4b029ac45c1a2c5fd41e"
      }
     },
     "a633cacf31d74042aca493accaf87c94": {
      "model_module": "@jupyter-widgets/base",
      "model_module_version": "1.0.0",
      "model_name": "LayoutModel",
      "state": {}
     },
     "a6d07525a1124b3880ff8e382f5a3c67": {
      "model_module": "@jupyter-widgets/base",
      "model_module_version": "1.0.0",
      "model_name": "LayoutModel",
      "state": {}
     },
     "a82244802c0b4367b7e5fc00653f113f": {
      "model_module": "@jupyter-widgets/controls",
      "model_module_version": "1.2.0",
      "model_name": "DropdownModel",
      "state": {
       "_options_labels": [
        "predicted",
        "trueLabel",
        "amphibian",
        "bird",
        "fish",
        "insect",
        "invertebrate",
        "mammal",
        "reptile"
       ],
       "description": "1º",
       "index": 3,
       "layout": "IPY_MODEL_1db2c56908cd4fa1ab4693b34f66403e",
       "style": "IPY_MODEL_cc50401ceaf248c89b0eea01778edefa"
      }
     },
     "a9d3353e6cb8469bba2e04d465b1a345": {
      "model_module": "@jupyter-widgets/controls",
      "model_module_version": "1.2.0",
      "model_name": "ButtonModel",
      "state": {
       "description": "Clear",
       "layout": "IPY_MODEL_bcc88eb649584f6aaa319dd9874a5ad7",
       "style": "IPY_MODEL_a437432fd7af4ec7af2d4960c3f1628c"
      }
     },
     "aab523857d344551878fa854c93600de": {
      "model_module": "@jupyter-widgets/base",
      "model_module_version": "1.0.0",
      "model_name": "LayoutModel",
      "state": {}
     },
     "ac0ac00ec93f493e9f7e6da75696fbe9": {
      "model_module": "@jupyter-widgets/base",
      "model_module_version": "1.0.0",
      "model_name": "LayoutModel",
      "state": {}
     },
     "acf92655c02e4a3e8d21f458d80c5d19": {
      "model_module": "@jupyter-widgets/controls",
      "model_module_version": "1.2.0",
      "model_name": "DescriptionStyleModel",
      "state": {
       "description_width": ""
      }
     },
     "ad0cc1f3423b43cfa11d53506cb68029": {
      "model_module": "@jupyter-widgets/base",
      "model_module_version": "1.0.0",
      "model_name": "LayoutModel",
      "state": {}
     },
     "ad7796c6bae342e0bec8a7df193e3e3c": {
      "model_module": "@jupyter-widgets/controls",
      "model_module_version": "1.2.0",
      "model_name": "DropdownModel",
      "state": {
       "_options_labels": [
        "predicted",
        "trueLabel",
        "amphibian",
        "bird",
        "fish",
        "insect",
        "invertebrate",
        "mammal",
        "reptile"
       ],
       "description": "2º",
       "index": 2,
       "layout": "IPY_MODEL_8333a90558174528b12a1c4ec7d6fbc0",
       "style": "IPY_MODEL_6bfa06ed5f724b408708cfb24ae3e775"
      }
     },
     "ad93313da0364fae923f1f29c2f36117": {
      "model_module": "@jupyter-widgets/base",
      "model_module_version": "1.0.0",
      "model_name": "LayoutModel",
      "state": {}
     },
     "afeb00162d2b4787ad1fd876b789666c": {
      "model_module": "@jupyter-widgets/base",
      "model_module_version": "1.0.0",
      "model_name": "LayoutModel",
      "state": {}
     },
     "b13c26d0478d49eb88b673ef3235e4f0": {
      "model_module": "@jupyter-widgets/base",
      "model_module_version": "1.0.0",
      "model_name": "LayoutModel",
      "state": {}
     },
     "b166faea09204877918d40a7343839c4": {
      "model_module": "@jupyter-widgets/base",
      "model_module_version": "1.0.0",
      "model_name": "LayoutModel",
      "state": {}
     },
     "b274e780adb541f48b5a643c8309daca": {
      "model_module": "@jupyter-widgets/base",
      "model_module_version": "1.0.0",
      "model_name": "LayoutModel",
      "state": {}
     },
     "b305664bda644b2eb7bf9cafefcf4045": {
      "model_module": "@jupyter-widgets/controls",
      "model_module_version": "1.2.0",
      "model_name": "DropdownModel",
      "state": {
       "_options_labels": [
        "predicted",
        "trueLabel",
        "amphibian",
        "bird",
        "fish",
        "insect",
        "invertebrate",
        "mammal",
        "reptile"
       ],
       "description": "2º",
       "index": 4,
       "layout": "IPY_MODEL_fece9886fcc54c50947559614bdf6893",
       "style": "IPY_MODEL_43ec392aaa2c4b4784a1d25aa51801c1"
      }
     },
     "b4edc30b2dd64d6d9e14c5ea277849de": {
      "model_module": "@jupyter-widgets/controls",
      "model_module_version": "1.2.0",
      "model_name": "ButtonStyleModel",
      "state": {}
     },
     "b61ff92b48a749c7a1a0cc66e16e675f": {
      "model_module": "@jupyter-widgets/controls",
      "model_module_version": "1.2.0",
      "model_name": "DescriptionStyleModel",
      "state": {
       "description_width": ""
      }
     },
     "b656624cac4a4584a0d1cdc37f5735cc": {
      "model_module": "@jupyter-widgets/controls",
      "model_module_version": "1.2.0",
      "model_name": "DropdownModel",
      "state": {
       "_options_labels": [
        "predicted",
        "amphibian",
        "bird",
        "fish",
        "insect",
        "invertebrate",
        "mammal",
        "reptile"
       ],
       "description": "Target class",
       "index": 1,
       "layout": "IPY_MODEL_b274e780adb541f48b5a643c8309daca",
       "style": "IPY_MODEL_7f7a6456a29643318f313494b29396d7"
      }
     },
     "b8af4ec92da142db9fdc3fb68e304ef8": {
      "model_module": "@jupyter-widgets/base",
      "model_module_version": "1.0.0",
      "model_name": "LayoutModel",
      "state": {}
     },
     "b8c18c42f94c4b029ac45c1a2c5fd41e": {
      "model_module": "@jupyter-widgets/controls",
      "model_module_version": "1.2.0",
      "model_name": "ButtonStyleModel",
      "state": {}
     },
     "bcc88eb649584f6aaa319dd9874a5ad7": {
      "model_module": "@jupyter-widgets/base",
      "model_module_version": "1.0.0",
      "model_name": "LayoutModel",
      "state": {}
     },
     "bd4ae156504349478a3f979fc9f2256a": {
      "model_module": "@jupyter-widgets/controls",
      "model_module_version": "1.2.0",
      "model_name": "DropdownModel",
      "state": {
       "_options_labels": [
        "predicted",
        "amphibian",
        "bird",
        "fish",
        "insect",
        "invertebrate",
        "mammal",
        "reptile"
       ],
       "description": "Target class",
       "index": 2,
       "layout": "IPY_MODEL_26ea8dc6fc2f470c9728074a9a13ef4a",
       "style": "IPY_MODEL_54408517a1cf485fb86b08695f614e5f"
      }
     },
     "be33935082704784a9c2db9e0b775384": {
      "model_module": "@jupyter-widgets/controls",
      "model_module_version": "1.2.0",
      "model_name": "ButtonModel",
      "state": {
       "description": "Clear",
       "layout": "IPY_MODEL_45ba2e0496ea4b23bf6a35d678dd4342",
       "style": "IPY_MODEL_c5af0266a0e740d6bb7dbfc2a8e0ff16"
      }
     },
     "bf47c171b5574861a070a9f409b2da8a": {
      "model_module": "@jupyter-widgets/base",
      "model_module_version": "1.0.0",
      "model_name": "LayoutModel",
      "state": {}
     },
     "bf4afed7679c4c7f86843bd3e805f10a": {
      "model_module": "@jupyter-widgets/base",
      "model_module_version": "1.0.0",
      "model_name": "LayoutModel",
      "state": {}
     },
     "bf60bbf91eaf44bbb073da2f923fb62d": {
      "model_module": "@jupyter-widgets/base",
      "model_module_version": "1.0.0",
      "model_name": "LayoutModel",
      "state": {}
     },
     "c220ca7df019452e94da2c17aedfee74": {
      "model_module": "@jupyter-widgets/controls",
      "model_module_version": "1.2.0",
      "model_name": "LabelModel",
      "state": {
       "layout": "IPY_MODEL_28342be394a4426a86dd2a4369108e7a",
       "style": "IPY_MODEL_437fab541985432ea294cc288bdd241d",
       "value": "Select target classes:"
      }
     },
     "c509d653e16b45b08b38b498173727cf": {
      "model_module": "@jupyter-widgets/controls",
      "model_module_version": "1.2.0",
      "model_name": "ButtonStyleModel",
      "state": {}
     },
     "c5af0266a0e740d6bb7dbfc2a8e0ff16": {
      "model_module": "@jupyter-widgets/controls",
      "model_module_version": "1.2.0",
      "model_name": "ButtonStyleModel",
      "state": {}
     },
     "c6521222264744548df2bacb08cfdadf": {
      "model_module": "@jupyter-widgets/controls",
      "model_module_version": "1.2.0",
      "model_name": "HBoxModel",
      "state": {
       "children": [
        "IPY_MODEL_03c8e7726ad041cfb1310122a1f369d7",
        "IPY_MODEL_e2e742e416a042bc8b7b917c8b6f3c00"
       ],
       "layout": "IPY_MODEL_ef0623564afd4b16aed7568db8f99604"
      }
     },
     "c85bf4aa54c6464d9cc93672b8214820": {
      "model_module": "@jupyter-widgets/controls",
      "model_module_version": "1.2.0",
      "model_name": "DescriptionStyleModel",
      "state": {
       "description_width": ""
      }
     },
     "c8b1beaaf9674835b91eb566560590c8": {
      "model_module": "@jupyter-widgets/controls",
      "model_module_version": "1.2.0",
      "model_name": "ButtonStyleModel",
      "state": {}
     },
     "c9588a59975942d497ba18bec7662f77": {
      "model_module": "@jupyter-widgets/controls",
      "model_module_version": "1.2.0",
      "model_name": "LabelModel",
      "state": {
       "layout": "IPY_MODEL_04763e78d2af4047af1a65bce481e66a",
       "style": "IPY_MODEL_acf92655c02e4a3e8d21f458d80c5d19",
       "value": "Select target classes:"
      }
     },
     "cc50401ceaf248c89b0eea01778edefa": {
      "model_module": "@jupyter-widgets/controls",
      "model_module_version": "1.2.0",
      "model_name": "DescriptionStyleModel",
      "state": {
       "description_width": ""
      }
     },
     "cc7c3e4287eb47dd987c9fd4abe184b2": {
      "model_module": "@jupyter-widgets/base",
      "model_module_version": "1.0.0",
      "model_name": "LayoutModel",
      "state": {}
     },
     "cd927a289ab746bcb2debf54154d436a": {
      "model_module": "@jupyter-widgets/controls",
      "model_module_version": "1.2.0",
      "model_name": "HBoxModel",
      "state": {
       "children": [
        "IPY_MODEL_272ae36ac22e400b84b15a7508dfd9a4",
        "IPY_MODEL_75defe8f414142c1aad06152410930a2"
       ],
       "layout": "IPY_MODEL_eb18e77b9f8e47288f5559cf77b2bbe5"
      }
     },
     "ce067382879c492bad163665cee6a8ee": {
      "model_module": "@jupyter-widgets/controls",
      "model_module_version": "1.2.0",
      "model_name": "ButtonModel",
      "state": {
       "description": "Clear",
       "layout": "IPY_MODEL_68334fc8bd6f420a9a73515a226be68c",
       "style": "IPY_MODEL_6565b3daa30e4fc4a26742dd4e76a6f6"
      }
     },
     "d213aeafee7643458afb02a67169dec6": {
      "model_module": "@jupyter-widgets/controls",
      "model_module_version": "1.2.0",
      "model_name": "ButtonStyleModel",
      "state": {}
     },
     "d4159bff6b29460c9cc880d71f219b84": {
      "model_module": "@jupyter-widgets/controls",
      "model_module_version": "1.2.0",
      "model_name": "ButtonModel",
      "state": {
       "description": "Clear",
       "layout": "IPY_MODEL_43519fa60d77411792d86af7492a844f",
       "style": "IPY_MODEL_c8b1beaaf9674835b91eb566560590c8"
      }
     },
     "d572a6f09b0545c4b4f60db7db925e1f": {
      "model_module": "@jupyter-widgets/controls",
      "model_module_version": "1.2.0",
      "model_name": "ButtonModel",
      "state": {
       "description": "Compute",
       "layout": "IPY_MODEL_7bb9dd29cb4c4628883e1902ef53cba4",
       "style": "IPY_MODEL_9338e23fb9d846eca1d70ef5fb3399c2"
      }
     },
     "d72b7ace472b415d93d62856fe5013b7": {
      "model_module": "@jupyter-widgets/controls",
      "model_module_version": "1.2.0",
      "model_name": "VBoxModel",
      "state": {
       "children": [
        "IPY_MODEL_e7efea1620b647db9c399cdd9fec7885",
        "IPY_MODEL_ad7796c6bae342e0bec8a7df193e3e3c"
       ],
       "layout": "IPY_MODEL_2507a3cbb6274950952469e718e618cc"
      }
     },
     "d82ae4fd43a2402aa5a1502070813bdf": {
      "model_module": "@jupyter-widgets/controls",
      "model_module_version": "1.2.0",
      "model_name": "HBoxModel",
      "state": {
       "children": [
        "IPY_MODEL_324f8746b6d746988222f79743e3932c",
        "IPY_MODEL_d4159bff6b29460c9cc880d71f219b84"
       ],
       "layout": "IPY_MODEL_9d733c1468ce41a0af3d3485230514d6"
      }
     },
     "d8cb2d5f435142c2a47427bf1c502a26": {
      "model_module": "@jupyter-widgets/base",
      "model_module_version": "1.0.0",
      "model_name": "LayoutModel",
      "state": {}
     },
     "da8f60d14ada461b8b101550c778a1a5": {
      "model_module": "@jupyter-widgets/controls",
      "model_module_version": "1.2.0",
      "model_name": "DropdownModel",
      "state": {
       "_options_labels": [
        "predicted",
        "amphibian",
        "bird",
        "fish",
        "insect",
        "invertebrate",
        "mammal",
        "reptile"
       ],
       "description": "Target class",
       "index": 0,
       "layout": "IPY_MODEL_bf47c171b5574861a070a9f409b2da8a",
       "style": "IPY_MODEL_8e26b22d8ab54bc0b92b899668acb653"
      }
     },
     "ded367dc25284baf9e3cc6d62630d0d2": {
      "model_module": "@jupyter-widgets/controls",
      "model_module_version": "1.2.0",
      "model_name": "DescriptionStyleModel",
      "state": {
       "description_width": ""
      }
     },
     "e11e5dbcfa1741ec8edfd46f87b2ed28": {
      "model_module": "@jupyter-widgets/controls",
      "model_module_version": "1.2.0",
      "model_name": "HBoxModel",
      "state": {
       "children": [
        "IPY_MODEL_1ce210512b7a4f28a379221185055a99",
        "IPY_MODEL_475d2657efe44b29a1aad6de71806516"
       ],
       "layout": "IPY_MODEL_f22113d008bd4021a12591844f7342fc"
      }
     },
     "e2e742e416a042bc8b7b917c8b6f3c00": {
      "model_module": "@jupyter-widgets/controls",
      "model_module_version": "1.2.0",
      "model_name": "ButtonModel",
      "state": {
       "description": "Clear",
       "layout": "IPY_MODEL_1e3b0741cb0140e89afd1a7a595f2869",
       "style": "IPY_MODEL_66ceb91b8dc648a09f3c1e0823d0e13e"
      }
     },
     "e2ef9abaf11949f9ab39f7ca0d6bfd53": {
      "model_module": "@jupyter-widgets/controls",
      "model_module_version": "1.2.0",
      "model_name": "ButtonStyleModel",
      "state": {}
     },
     "e46100f8dfcd4beb829e560eb4456891": {
      "model_module": "@jupyter-widgets/controls",
      "model_module_version": "1.2.0",
      "model_name": "DescriptionStyleModel",
      "state": {
       "description_width": ""
      }
     },
     "e58266f7a4bb424fa34f171e9c72d231": {
      "model_module": "@jupyter-widgets/controls",
      "model_module_version": "1.2.0",
      "model_name": "ButtonStyleModel",
      "state": {}
     },
     "e7efea1620b647db9c399cdd9fec7885": {
      "model_module": "@jupyter-widgets/controls",
      "model_module_version": "1.2.0",
      "model_name": "DropdownModel",
      "state": {
       "_options_labels": [
        "predicted",
        "trueLabel",
        "amphibian",
        "bird",
        "fish",
        "insect",
        "invertebrate",
        "mammal",
        "reptile"
       ],
       "description": "1º",
       "index": 0,
       "layout": "IPY_MODEL_53ac797310414348869f2e89667f73b6",
       "style": "IPY_MODEL_37f662f31e8a437b8a8ee1f37e1923e7"
      }
     },
     "eb18e77b9f8e47288f5559cf77b2bbe5": {
      "model_module": "@jupyter-widgets/base",
      "model_module_version": "1.0.0",
      "model_name": "LayoutModel",
      "state": {}
     },
     "eb46eeaa177b4c7195adb260979f8737": {
      "model_module": "@jupyter-widgets/base",
      "model_module_version": "1.0.0",
      "model_name": "LayoutModel",
      "state": {}
     },
     "ec0b4d716db74011a36126b1b75d90e4": {
      "model_module": "@jupyter-widgets/base",
      "model_module_version": "1.0.0",
      "model_name": "LayoutModel",
      "state": {}
     },
     "ec719feda5454626aa0f752b4eba86c8": {
      "model_module": "@jupyter-widgets/controls",
      "model_module_version": "1.2.0",
      "model_name": "ButtonModel",
      "state": {
       "description": "Compute",
       "layout": "IPY_MODEL_97408ad7aba34605af4974f37912696b",
       "style": "IPY_MODEL_78d49d35192a4b7ab025a5af3b152600"
      }
     },
     "ed8d42de3bc34b848f1aee7de48be1f4": {
      "model_module": "@jupyter-widgets/controls",
      "model_module_version": "1.2.0",
      "model_name": "HBoxModel",
      "state": {
       "children": [
        "IPY_MODEL_d572a6f09b0545c4b4f60db7db925e1f",
        "IPY_MODEL_6c972198c31d4ee6a255f5adaa74b866"
       ],
       "layout": "IPY_MODEL_a6d07525a1124b3880ff8e382f5a3c67"
      }
     },
     "ef0623564afd4b16aed7568db8f99604": {
      "model_module": "@jupyter-widgets/base",
      "model_module_version": "1.0.0",
      "model_name": "LayoutModel",
      "state": {}
     },
     "efd30664e390420cb4a742032332740a": {
      "model_module": "@jupyter-widgets/base",
      "model_module_version": "1.0.0",
      "model_name": "LayoutModel",
      "state": {}
     },
     "f22113d008bd4021a12591844f7342fc": {
      "model_module": "@jupyter-widgets/base",
      "model_module_version": "1.0.0",
      "model_name": "LayoutModel",
      "state": {}
     },
     "f64479a8f4a04fbc8d0a424374a9bc63": {
      "model_module": "@jupyter-widgets/base",
      "model_module_version": "1.0.0",
      "model_name": "LayoutModel",
      "state": {}
     },
     "f6a71df8697f4eafb2e82d51613731b5": {
      "model_module": "@jupyter-widgets/controls",
      "model_module_version": "1.2.0",
      "model_name": "DescriptionStyleModel",
      "state": {
       "description_width": ""
      }
     },
     "f816ccb8af654438a4b8f8ac54201335": {
      "model_module": "@jupyter-widgets/controls",
      "model_module_version": "1.2.0",
      "model_name": "ButtonStyleModel",
      "state": {}
     },
     "fc96418ebf7b4d61b7a995de129b57e2": {
      "model_module": "@jupyter-widgets/controls",
      "model_module_version": "1.2.0",
      "model_name": "HBoxModel",
      "state": {
       "children": [
        "IPY_MODEL_3822923f8ed046abbe5f7060549dc259",
        "IPY_MODEL_02bcb65210394174b0eabd655b247ddd"
       ],
       "layout": "IPY_MODEL_997e8fac1ff54fe3a07d2e4b5d5781e5"
      }
     },
     "fd430f364ca1402bb8fc1f03164edf3d": {
      "model_module": "@jupyter-widgets/controls",
      "model_module_version": "1.2.0",
      "model_name": "DescriptionStyleModel",
      "state": {
       "description_width": ""
      }
     },
     "fd77d48a9175498592b926262f0b6a5b": {
      "model_module": "@jupyter-widgets/base",
      "model_module_version": "1.0.0",
      "model_name": "LayoutModel",
      "state": {}
     },
     "fe99cda33d0d4fe98d45af2a12842793": {
      "model_module": "@jupyter-widgets/base",
      "model_module_version": "1.0.0",
      "model_name": "LayoutModel",
      "state": {}
     },
     "fece9886fcc54c50947559614bdf6893": {
      "model_module": "@jupyter-widgets/base",
      "model_module_version": "1.0.0",
      "model_name": "LayoutModel",
      "state": {}
     },
     "fedd8e08e11340e5b0ead4e37970a6e0": {
      "model_module": "@jupyter-widgets/controls",
      "model_module_version": "1.2.0",
      "model_name": "DropdownModel",
      "state": {
       "_options_labels": [
        "predicted",
        "trueLabel",
        "amphibian",
        "bird",
        "fish",
        "insect",
        "invertebrate",
        "mammal",
        "reptile"
       ],
       "description": "1º",
       "index": 0,
       "layout": "IPY_MODEL_14451ffa26d64fbbbf2875dc26cda06a",
       "style": "IPY_MODEL_ded367dc25284baf9e3cc6d62630d0d2"
      }
     }
    },
    "version_major": 2,
    "version_minor": 0
   }
  }
 },
 "nbformat": 4,
 "nbformat_minor": 2
}
