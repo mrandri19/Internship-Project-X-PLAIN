{
 "cells": [
  {
   "cell_type": "code",
   "execution_count": 1,
   "metadata": {
    "slideshow": {
     "slide_type": "skip"
    }
   },
   "outputs": [],
   "source": [
    "import warnings\n",
    "from IPython.display import display, Latex\n",
    "from IPython.display import Markdown as md\n",
    "warnings.filterwarnings(\"ignore\", category=DeprecationWarning) \n",
    "from XPLAIN_class import *\n",
    "from XPLAIN_util import *\n",
    "x=XPLAIN_util()\n",
    "e=Explanation_w()"
   ]
  },
  {
   "cell_type": "markdown",
   "metadata": {
    "slideshow": {
     "slide_type": "slide"
    }
   },
   "source": [
    "### What-if-analysis\n",
    "Examine how and why the prediction could change if some of its attribute values are different.\n",
    "What-if analysis can provide actionable insights"
   ]
  },
  {
   "cell_type": "markdown",
   "metadata": {
    "slideshow": {
     "slide_type": "slide"
    }
   },
   "source": [
    "Case 1: adult dataset"
   ]
  },
  {
   "cell_type": "code",
   "execution_count": 2,
   "metadata": {
    "scrolled": true,
    "slideshow": {
     "slide_type": "-"
    }
   },
   "outputs": [
    {
     "data": {
      "text/markdown": [
       "Adult - NB"
      ],
      "text/plain": [
       "<IPython.core.display.Markdown object>"
      ]
     },
     "metadata": {},
     "output_type": "display_data"
    },
    {
     "data": {
      "application/vnd.jupyter.widget-view+json": {
       "model_id": "687fd6013ee442cba9570f79b37f1f1e",
       "version_major": 2,
       "version_minor": 0
      },
      "text/plain": [
       "Label(value='Select dataset and classifier:')"
      ]
     },
     "metadata": {},
     "output_type": "display_data"
    },
    {
     "data": {
      "application/vnd.jupyter.widget-view+json": {
       "model_id": "7e13bfe954534fc1828c6a17091fde77",
       "version_major": 2,
       "version_minor": 0
      },
      "text/plain": [
       "VBox(children=(Dropdown(description='Dataset', options=('monks-1', 'zoo', 'adult'), value='monks-1'), Dropdown…"
      ]
     },
     "metadata": {},
     "output_type": "display_data"
    },
    {
     "data": {
      "application/vnd.jupyter.widget-view+json": {
       "model_id": "1812afe9164c44dc910666798b8a6688",
       "version_major": 2,
       "version_minor": 0
      },
      "text/plain": [
       "Button(description='Select', style=ButtonStyle())"
      ]
     },
     "metadata": {},
     "output_type": "display_data"
    }
   ],
   "source": [
    "display(md(\"Adult - NB\"))\n",
    "x=XPLAIN_util()\n",
    "x.interactiveDatasetClassifierSelection()"
   ]
  },
  {
   "cell_type": "code",
   "execution_count": 3,
   "metadata": {
    "slideshow": {
     "slide_type": "skip"
    }
   },
   "outputs": [],
   "source": [
    "#Demo purposes\n",
    "if x.getXPLAIN_obj()==None:\n",
    "    xPaNB=deepcopy(x.def_XPLAIN_o(\"datasets/adult_d.arff\", \"nb\"))\n",
    "else:\n",
    "    xPaNB=deepcopy(x.getXPLAIN_obj())"
   ]
  },
  {
   "cell_type": "markdown",
   "metadata": {
    "slideshow": {
     "slide_type": "slide"
    }
   },
   "source": [
    "Explanation with respect to the predicted class"
   ]
  },
  {
   "cell_type": "code",
   "execution_count": null,
   "metadata": {
    "scrolled": true,
    "slideshow": {
     "slide_type": "-"
    }
   },
   "outputs": [],
   "source": [
    "%matplotlib inline\n",
    "e=Explanation_w()\n",
    "e.interactiveGetExplanation(xPaNB)"
   ]
  },
  {
   "cell_type": "code",
   "execution_count": null,
   "metadata": {
    "scrolled": true,
    "slideshow": {
     "slide_type": "slide"
    }
   },
   "outputs": [],
   "source": [
    "%matplotlib inline\n",
    "#Demo purposes\n",
    "if e.getExpl()==None:\n",
    "    expA=deepcopy(e.def_Explanation(xPaNB))\n",
    "else:\n",
    "    expA=deepcopy(e.getExpl())"
   ]
  },
  {
   "cell_type": "code",
   "execution_count": null,
   "metadata": {
    "slideshow": {
     "slide_type": "slide"
    }
   },
   "outputs": [],
   "source": [
    "xPaNB.showExplainDatasetTabularForm().head()"
   ]
  },
  {
   "cell_type": "markdown",
   "metadata": {
    "slideshow": {
     "slide_type": "skip"
    }
   },
   "source": [
    "What-if-analysis"
   ]
  },
  {
   "cell_type": "code",
   "execution_count": null,
   "metadata": {
    "scrolled": true,
    "slideshow": {
     "slide_type": "skip"
    }
   },
   "outputs": [],
   "source": [
    "#display(md(\"Select attributes: we can select the features and tweak their values.\"))\n",
    "#display(md(\"Get explanation: the explanation of the perturbed instance is dynamically computed\"))\n",
    "#display(md(\"Compare original: compare the explanation of the original instance with the perturbed one\"))\n",
    "#expA.interactiveAttributeLevelInspection()"
   ]
  },
  {
   "cell_type": "markdown",
   "metadata": {
    "slideshow": {
     "slide_type": "slide"
    }
   },
   "source": [
    "What-if-analysis"
   ]
  },
  {
   "cell_type": "code",
   "execution_count": null,
   "metadata": {
    "scrolled": true,
    "slideshow": {
     "slide_type": "-"
    }
   },
   "outputs": [],
   "source": [
    "expA.interactiveAttributeLevelInspection()"
   ]
  },
  {
   "cell_type": "markdown",
   "metadata": {
    "slideshow": {
     "slide_type": "slide"
    }
   },
   "source": [
    "## Case 1: monks-1 dataset"
   ]
  },
  {
   "cell_type": "code",
   "execution_count": null,
   "metadata": {
    "slideshow": {
     "slide_type": "-"
    }
   },
   "outputs": [],
   "source": [
    "x=XPLAIN_util()\n",
    "e=Explanation_w()\n",
    "display(md(\"Monks-1 - NN\"))\n",
    "#8\n",
    "x.interactiveDatasetClassifierSelection()"
   ]
  },
  {
   "cell_type": "code",
   "execution_count": null,
   "metadata": {
    "slideshow": {
     "slide_type": "skip"
    }
   },
   "outputs": [],
   "source": [
    "#Demo purposes\n",
    "if x.getXPLAIN_obj()==None:\n",
    "    xPmNN=deepcopy(x.def_XPLAIN_o(\"monks-1\", \"nn\"))\n",
    "else:\n",
    "    xPmNN=deepcopy(x.getXPLAIN_obj())"
   ]
  },
  {
   "cell_type": "markdown",
   "metadata": {
    "slideshow": {
     "slide_type": "slide"
    }
   },
   "source": [
    "Explanation with respect to the predicted class"
   ]
  },
  {
   "cell_type": "code",
   "execution_count": null,
   "metadata": {
    "slideshow": {
     "slide_type": "-"
    }
   },
   "outputs": [],
   "source": [
    "%matplotlib inline\n",
    "e.interactiveGetExplanation(xPmNN)"
   ]
  },
  {
   "cell_type": "code",
   "execution_count": null,
   "metadata": {
    "slideshow": {
     "slide_type": "slide"
    }
   },
   "outputs": [],
   "source": [
    "%matplotlib inline\n",
    "#Demo purposes\n",
    "if e.getExpl()==None:\n",
    "    exp1=deepcopy(e.def_Explanation(xPmNN))\n",
    "else:\n",
    "    exp1=deepcopy(e.getExpl())"
   ]
  },
  {
   "cell_type": "code",
   "execution_count": null,
   "metadata": {
    "scrolled": true,
    "slideshow": {
     "slide_type": "slide"
    }
   },
   "outputs": [],
   "source": [
    "exp1.interactiveAttributeLevelInspection()"
   ]
  }
 ],
 "metadata": {
  "celltoolbar": "Slideshow",
  "hide_input": true,
  "kernelspec": {
   "display_name": "Python 3",
   "language": "python",
   "name": "python3"
  },
  "language_info": {
   "codemirror_mode": {
    "name": "ipython",
    "version": 3
   },
   "file_extension": ".py",
   "mimetype": "text/x-python",
   "name": "python",
   "nbconvert_exporter": "python",
   "pygments_lexer": "ipython3",
   "version": "3.7.3"
  },
  "varInspector": {
   "cols": {
    "lenName": 16,
    "lenType": 16,
    "lenVar": 40
   },
   "kernels_config": {
    "python": {
     "delete_cmd_postfix": "",
     "delete_cmd_prefix": "del ",
     "library": "var_list.py",
     "varRefreshCmd": "print(var_dic_list())"
    },
    "r": {
     "delete_cmd_postfix": ") ",
     "delete_cmd_prefix": "rm(",
     "library": "var_list.r",
     "varRefreshCmd": "cat(var_dic_list()) "
    }
   },
   "types_to_exclude": [
    "module",
    "function",
    "builtin_function_or_method",
    "instance",
    "_Feature"
   ],
   "window_display": false
  },
  "widgets": {
   "application/vnd.jupyter.widget-state+json": {
    "state": {
     "01f5d718d3d44c439cda09df380cf69c": {
      "model_module": "@jupyter-widgets/controls",
      "model_module_version": "1.2.0",
      "model_name": "ButtonStyleModel",
      "state": {}
     },
     "020ca9d6ea8745309850479c6f100afe": {
      "model_module": "@jupyter-widgets/controls",
      "model_module_version": "1.2.0",
      "model_name": "ButtonModel",
      "state": {
       "description": "New selection",
       "layout": "IPY_MODEL_94c8b264e4be417db2bb61a831689dbf",
       "style": "IPY_MODEL_58fd8021614c4d3bb9bbf1315db85a9b"
      }
     },
     "02278233b78a459e95ea24d5ef306af5": {
      "model_module": "@jupyter-widgets/controls",
      "model_module_version": "1.2.0",
      "model_name": "ButtonStyleModel",
      "state": {}
     },
     "029dd5ab3de04ea5956da528325ee00f": {
      "model_module": "@jupyter-widgets/controls",
      "model_module_version": "1.2.0",
      "model_name": "DescriptionStyleModel",
      "state": {
       "description_width": ""
      }
     },
     "06403485c80247de9af6cb4fb743c797": {
      "model_module": "@jupyter-widgets/base",
      "model_module_version": "1.0.0",
      "model_name": "LayoutModel",
      "state": {}
     },
     "06a3c62f6e2440efa4f2e19558a73f83": {
      "model_module": "@jupyter-widgets/controls",
      "model_module_version": "1.2.0",
      "model_name": "ButtonStyleModel",
      "state": {}
     },
     "06d719a76d2f4ba49a4a91f93bad62c1": {
      "model_module": "@jupyter-widgets/controls",
      "model_module_version": "1.2.0",
      "model_name": "ButtonModel",
      "state": {
       "description": "Get explanation",
       "layout": "IPY_MODEL_15f61107ed384738811e89d6f3201e7c",
       "style": "IPY_MODEL_cdaa5250677449e78378124881768aa3"
      }
     },
     "0709d83e293842b9ae33a9b94742cfd2": {
      "model_module": "@jupyter-widgets/controls",
      "model_module_version": "1.2.0",
      "model_name": "DescriptionStyleModel",
      "state": {
       "description_width": ""
      }
     },
     "084becb5919c479e838877e20d997ddf": {
      "model_module": "@jupyter-widgets/controls",
      "model_module_version": "1.2.0",
      "model_name": "ButtonStyleModel",
      "state": {}
     },
     "0929932bcf994a50bfb69a573bf1cfbc": {
      "model_module": "@jupyter-widgets/base",
      "model_module_version": "1.0.0",
      "model_name": "LayoutModel",
      "state": {}
     },
     "0986f484a28943278ce30e8ab0af30dd": {
      "model_module": "@jupyter-widgets/controls",
      "model_module_version": "1.2.0",
      "model_name": "ButtonModel",
      "state": {
       "description": "Select attributes",
       "layout": "IPY_MODEL_b108d1f154504cef94a9d62aeb052b02",
       "style": "IPY_MODEL_79185c2ecf0f4c709386feb512e049c1"
      }
     },
     "09ccf86d6a3d45b1baa41e4fe7177e2e": {
      "model_module": "@jupyter-widgets/base",
      "model_module_version": "1.0.0",
      "model_name": "LayoutModel",
      "state": {}
     },
     "0ab5cd114ca144cc93b838a62de38ed6": {
      "model_module": "@jupyter-widgets/controls",
      "model_module_version": "1.2.0",
      "model_name": "ButtonModel",
      "state": {
       "description": "Get explanation",
       "layout": "IPY_MODEL_d14acfadac924c2aaf91ce2027044e8a",
       "style": "IPY_MODEL_ebc841e7c0a140899231691680f6c64b"
      }
     },
     "0ed600e62bca468b8cad49ac76d7cee1": {
      "model_module": "@jupyter-widgets/base",
      "model_module_version": "1.0.0",
      "model_name": "LayoutModel",
      "state": {}
     },
     "0f3a69350d9a405aafe81d12dfc88e0d": {
      "model_module": "@jupyter-widgets/base",
      "model_module_version": "1.0.0",
      "model_name": "LayoutModel",
      "state": {}
     },
     "0f78bd88a71f45deac6dc56f4088567d": {
      "model_module": "@jupyter-widgets/controls",
      "model_module_version": "1.2.0",
      "model_name": "DescriptionStyleModel",
      "state": {
       "description_width": ""
      }
     },
     "10df5e63449d498299704c8cb818e981": {
      "model_module": "@jupyter-widgets/base",
      "model_module_version": "1.0.0",
      "model_name": "LayoutModel",
      "state": {}
     },
     "1237f5c85fed494e9585e408cbe11cea": {
      "model_module": "@jupyter-widgets/base",
      "model_module_version": "1.0.0",
      "model_name": "LayoutModel",
      "state": {}
     },
     "15f61107ed384738811e89d6f3201e7c": {
      "model_module": "@jupyter-widgets/base",
      "model_module_version": "1.0.0",
      "model_name": "LayoutModel",
      "state": {}
     },
     "17421667e60347ccb6a499f5a9dcc441": {
      "model_module": "@jupyter-widgets/base",
      "model_module_version": "1.0.0",
      "model_name": "LayoutModel",
      "state": {}
     },
     "19555609776748af9a7b8aa39c9e8520": {
      "model_module": "@jupyter-widgets/controls",
      "model_module_version": "1.2.0",
      "model_name": "ButtonStyleModel",
      "state": {}
     },
     "1a33e01ce5c143208c1c9a2f75f6641e": {
      "model_module": "@jupyter-widgets/base",
      "model_module_version": "1.0.0",
      "model_name": "LayoutModel",
      "state": {}
     },
     "1a3bc060f9994a42aa675b7430f6fec6": {
      "model_module": "@jupyter-widgets/controls",
      "model_module_version": "1.2.0",
      "model_name": "DescriptionStyleModel",
      "state": {
       "description_width": ""
      }
     },
     "1af92b31ba414517b507477ac941b316": {
      "model_module": "@jupyter-widgets/base",
      "model_module_version": "1.0.0",
      "model_name": "LayoutModel",
      "state": {}
     },
     "1c2fd29966e9430099caac308accf5eb": {
      "model_module": "@jupyter-widgets/controls",
      "model_module_version": "1.2.0",
      "model_name": "ButtonModel",
      "state": {
       "description": "Select attributes",
       "layout": "IPY_MODEL_981134775a0d4746b14541f55c5a09d5",
       "style": "IPY_MODEL_a9c7696d7d294a7d9d11b24a32e248cf"
      }
     },
     "1c9bbae250814171b1043483940bec9b": {
      "model_module": "@jupyter-widgets/controls",
      "model_module_version": "1.2.0",
      "model_name": "ButtonStyleModel",
      "state": {}
     },
     "2215a3f148474f5caf000997ae11271d": {
      "model_module": "@jupyter-widgets/controls",
      "model_module_version": "1.2.0",
      "model_name": "ButtonModel",
      "state": {
       "description": "Compare original",
       "layout": "IPY_MODEL_6702041beb604e19953b8f0f88afe34d",
       "style": "IPY_MODEL_737777885716404e826a982822a5b599"
      }
     },
     "2281589c6d4b4ef498952350e07fd67e": {
      "model_module": "@jupyter-widgets/controls",
      "model_module_version": "1.2.0",
      "model_name": "SelectionSliderModel",
      "state": {
       "_options_labels": [
        "1",
        "2",
        "3"
       ],
       "continuous_update": false,
       "description": "a",
       "index": 2,
       "layout": "IPY_MODEL_d5b34be70ea141d0b112237b4875abbb",
       "style": "IPY_MODEL_029dd5ab3de04ea5956da528325ee00f"
      }
     },
     "22b05ec125e94c59ba4f83d56605ab30": {
      "model_module": "@jupyter-widgets/controls",
      "model_module_version": "1.2.0",
      "model_name": "SelectionSliderModel",
      "state": {
       "_options_labels": [
        "Husband",
        "Not-in-family",
        "Other-relative",
        "Own-child",
        "Unmarried",
        "Wife"
       ],
       "continuous_update": false,
       "description": "relationship",
       "index": 4,
       "layout": "IPY_MODEL_d20dc21ba9754ff89d38d3ce3d2b9916",
       "style": "IPY_MODEL_cbe793cb747f4a15855d1683c0723b49"
      }
     },
     "2306a9d7c60f46dc92a5693ad3ff87c7": {
      "model_module": "@jupyter-widgets/controls",
      "model_module_version": "1.2.0",
      "model_name": "ButtonModel",
      "state": {
       "description": "Get explanation",
       "layout": "IPY_MODEL_3379dc19662b4cd5af14efca0e65b4e4",
       "style": "IPY_MODEL_5d03c09836ce495888eab30741524a88"
      }
     },
     "2483a5d0c8434e5497e1301be36a39b3": {
      "model_module": "@jupyter-widgets/controls",
      "model_module_version": "1.2.0",
      "model_name": "HBoxModel",
      "state": {
       "children": [
        "IPY_MODEL_0ab5cd114ca144cc93b838a62de38ed6",
        "IPY_MODEL_a98fb003fc9647e2bee68368d2789cb0",
        "IPY_MODEL_e27063129249435baf949aaec88d1265"
       ],
       "layout": "IPY_MODEL_d2cca4ae2618464ea32ccd87705a5704"
      }
     },
     "274e98762d2c4f08935e4ddfe1ccc0fb": {
      "model_module": "@jupyter-widgets/base",
      "model_module_version": "1.0.0",
      "model_name": "LayoutModel",
      "state": {}
     },
     "28742a46fb454254885d48bfa48951f4": {
      "model_module": "@jupyter-widgets/controls",
      "model_module_version": "1.2.0",
      "model_name": "ButtonStyleModel",
      "state": {}
     },
     "2925c105921642a7936e06afea0b220b": {
      "model_module": "@jupyter-widgets/controls",
      "model_module_version": "1.2.0",
      "model_name": "ButtonStyleModel",
      "state": {}
     },
     "29b36f82928447fd8d587b0f523c4cda": {
      "model_module": "@jupyter-widgets/base",
      "model_module_version": "1.0.0",
      "model_name": "LayoutModel",
      "state": {}
     },
     "2c7f9cb23334456a8b99d92096aff027": {
      "model_module": "@jupyter-widgets/base",
      "model_module_version": "1.0.0",
      "model_name": "LayoutModel",
      "state": {}
     },
     "2c93d5d9e63c43e8b5eaa17d10de69c3": {
      "model_module": "@jupyter-widgets/base",
      "model_module_version": "1.0.0",
      "model_name": "LayoutModel",
      "state": {}
     },
     "2d77679c2e474392a36f0efe797060fc": {
      "model_module": "@jupyter-widgets/base",
      "model_module_version": "1.0.0",
      "model_name": "LayoutModel",
      "state": {}
     },
     "2d9bd6e3abdc4b78a6cf94076847fe7d": {
      "model_module": "@jupyter-widgets/base",
      "model_module_version": "1.0.0",
      "model_name": "LayoutModel",
      "state": {}
     },
     "2e73d9825b8d4e23aaa1c42344d5b506": {
      "model_module": "@jupyter-widgets/base",
      "model_module_version": "1.0.0",
      "model_name": "LayoutModel",
      "state": {}
     },
     "2f1ce65e541b4986ae744dc5e68ced88": {
      "model_module": "@jupyter-widgets/base",
      "model_module_version": "1.0.0",
      "model_name": "LayoutModel",
      "state": {}
     },
     "31c2d0b88f2f4b36ab2425322a73d4d0": {
      "model_module": "@jupyter-widgets/controls",
      "model_module_version": "1.2.0",
      "model_name": "ButtonModel",
      "state": {
       "description": "Select attributes",
       "layout": "IPY_MODEL_455be17afbb84855b197b3d22e2dac4f",
       "style": "IPY_MODEL_fa8201a5cd244aafbe137781f9c5492b"
      }
     },
     "3359b6fbf5e94526b0e6e69fb1df2f52": {
      "model_module": "@jupyter-widgets/base",
      "model_module_version": "1.0.0",
      "model_name": "LayoutModel",
      "state": {}
     },
     "3379dc19662b4cd5af14efca0e65b4e4": {
      "model_module": "@jupyter-widgets/base",
      "model_module_version": "1.0.0",
      "model_name": "LayoutModel",
      "state": {}
     },
     "34f61bc1b7294eb99117515fc7110146": {
      "model_module": "@jupyter-widgets/controls",
      "model_module_version": "1.2.0",
      "model_name": "SelectionSliderModel",
      "state": {
       "_options_labels": [
        "Married",
        "Never-married",
        "Separated",
        "Widowed"
       ],
       "continuous_update": false,
       "description": "marital-status",
       "index": 0,
       "layout": "IPY_MODEL_c6c52595f27e46d8afa43630733d3dd5",
       "style": "IPY_MODEL_963e2a7ebb8c445e940e2220ee6264fd"
      }
     },
     "386f3fb84791434a80b0d527c3634d0b": {
      "model_module": "@jupyter-widgets/base",
      "model_module_version": "1.0.0",
      "model_name": "LayoutModel",
      "state": {}
     },
     "3c5e8c4488d645b6b31ec00076034f11": {
      "model_module": "@jupyter-widgets/controls",
      "model_module_version": "1.2.0",
      "model_name": "ButtonStyleModel",
      "state": {}
     },
     "3c87e5ae43aa42ef878d9771d7dd19a9": {
      "model_module": "@jupyter-widgets/controls",
      "model_module_version": "1.2.0",
      "model_name": "ButtonModel",
      "state": {
       "description": "Get explanation",
       "layout": "IPY_MODEL_41313782c3414749ad05d0763ac76c5b",
       "style": "IPY_MODEL_6f075826f429408496b84fa9355b9bf0"
      }
     },
     "40a81fa419ac47cb83b9dc65855f09c9": {
      "model_module": "@jupyter-widgets/controls",
      "model_module_version": "1.2.0",
      "model_name": "ButtonModel",
      "state": {
       "description": "New selection",
       "layout": "IPY_MODEL_e5cd3fc14964470fbb8a44b649a9bb6c",
       "style": "IPY_MODEL_3c5e8c4488d645b6b31ec00076034f11"
      }
     },
     "41313782c3414749ad05d0763ac76c5b": {
      "model_module": "@jupyter-widgets/base",
      "model_module_version": "1.0.0",
      "model_name": "LayoutModel",
      "state": {}
     },
     "455be17afbb84855b197b3d22e2dac4f": {
      "model_module": "@jupyter-widgets/base",
      "model_module_version": "1.0.0",
      "model_name": "LayoutModel",
      "state": {}
     },
     "469183be23e94cfaa7df97320f2fdc82": {
      "model_module": "@jupyter-widgets/controls",
      "model_module_version": "1.2.0",
      "model_name": "DescriptionStyleModel",
      "state": {
       "description_width": ""
      }
     },
     "4b13ec23ae424ffdb97223bc5fefa202": {
      "model_module": "@jupyter-widgets/controls",
      "model_module_version": "1.2.0",
      "model_name": "HBoxModel",
      "state": {
       "children": [
        "IPY_MODEL_e93dc6dbce9d4962a056eb1c426cf9bf",
        "IPY_MODEL_f1e6e524a6794ac492d19c45d337eba8",
        "IPY_MODEL_f9f2e25fb6f540f99c80690efba56864"
       ],
       "layout": "IPY_MODEL_1af92b31ba414517b507477ac941b316"
      }
     },
     "4b47a0cb23c444088249573a51102df3": {
      "model_module": "@jupyter-widgets/base",
      "model_module_version": "1.0.0",
      "model_name": "LayoutModel",
      "state": {}
     },
     "4c69bf37f9d9416b8d70e48359ee800f": {
      "model_module": "@jupyter-widgets/controls",
      "model_module_version": "1.2.0",
      "model_name": "ButtonModel",
      "state": {
       "description": "Select attributes",
       "layout": "IPY_MODEL_2d77679c2e474392a36f0efe797060fc",
       "style": "IPY_MODEL_084becb5919c479e838877e20d997ddf"
      }
     },
     "4c8b6a94fd614fd4b19a4268207dfc43": {
      "model_module": "@jupyter-widgets/controls",
      "model_module_version": "1.2.0",
      "model_name": "SelectMultipleModel",
      "state": {
       "_options_labels": [
        "a",
        "b",
        "c",
        "d",
        "e",
        "f"
       ],
       "description": "Feature",
       "index": [
        0,
        1
       ],
       "layout": "IPY_MODEL_4b47a0cb23c444088249573a51102df3",
       "rows": 5,
       "style": "IPY_MODEL_0709d83e293842b9ae33a9b94742cfd2"
      }
     },
     "50ce59f8e0d0499aaa18fb6830f3fce2": {
      "model_module": "@jupyter-widgets/controls",
      "model_module_version": "1.2.0",
      "model_name": "ButtonStyleModel",
      "state": {}
     },
     "51e36d4afd794aa1aa37174cf17037b4": {
      "model_module": "@jupyter-widgets/base",
      "model_module_version": "1.0.0",
      "model_name": "LayoutModel",
      "state": {}
     },
     "52b4f5dc04cb47a59bbab80c15dcfd73": {
      "model_module": "@jupyter-widgets/controls",
      "model_module_version": "1.2.0",
      "model_name": "ButtonStyleModel",
      "state": {}
     },
     "538879b330234705a313ed88012109fa": {
      "model_module": "@jupyter-widgets/controls",
      "model_module_version": "1.2.0",
      "model_name": "DescriptionStyleModel",
      "state": {
       "description_width": ""
      }
     },
     "5505b9a0f0784a84a213dc70d8b50507": {
      "model_module": "@jupyter-widgets/controls",
      "model_module_version": "1.2.0",
      "model_name": "ButtonModel",
      "state": {
       "description": "Compare original",
       "layout": "IPY_MODEL_0f3a69350d9a405aafe81d12dfc88e0d",
       "style": "IPY_MODEL_8ae9dca36a2d4d7ca3334d2f90664d15"
      }
     },
     "558a605aa587497f980095eb95c71a5c": {
      "model_module": "@jupyter-widgets/controls",
      "model_module_version": "1.2.0",
      "model_name": "DescriptionStyleModel",
      "state": {
       "description_width": ""
      }
     },
     "56510ba7419745008846ef261fbd0d9c": {
      "model_module": "@jupyter-widgets/controls",
      "model_module_version": "1.2.0",
      "model_name": "ButtonModel",
      "state": {
       "description": "Compare original",
       "layout": "IPY_MODEL_29b36f82928447fd8d587b0f523c4cda",
       "style": "IPY_MODEL_ae01dcc06b4b486e80ca671787b72831"
      }
     },
     "58fd8021614c4d3bb9bbf1315db85a9b": {
      "model_module": "@jupyter-widgets/controls",
      "model_module_version": "1.2.0",
      "model_name": "ButtonStyleModel",
      "state": {}
     },
     "5ad816187ea444ea8813309969fb7d07": {
      "model_module": "@jupyter-widgets/base",
      "model_module_version": "1.0.0",
      "model_name": "LayoutModel",
      "state": {}
     },
     "5bcfc3406b1f47a2934cffc3a1021877": {
      "model_module": "@jupyter-widgets/base",
      "model_module_version": "1.0.0",
      "model_name": "LayoutModel",
      "state": {}
     },
     "5bd9531427d846bda718517e7cca211f": {
      "model_module": "@jupyter-widgets/controls",
      "model_module_version": "1.2.0",
      "model_name": "DescriptionStyleModel",
      "state": {
       "description_width": ""
      }
     },
     "5bdccd8302684ed1b8473b23124857dc": {
      "model_module": "@jupyter-widgets/controls",
      "model_module_version": "1.2.0",
      "model_name": "HBoxModel",
      "state": {
       "children": [
        "IPY_MODEL_622020a6f03749e69a1f4d16c3141426",
        "IPY_MODEL_56510ba7419745008846ef261fbd0d9c",
        "IPY_MODEL_020ca9d6ea8745309850479c6f100afe"
       ],
       "layout": "IPY_MODEL_3359b6fbf5e94526b0e6e69fb1df2f52"
      }
     },
     "5c399475719e40939bd3b723b3220bed": {
      "model_module": "@jupyter-widgets/controls",
      "model_module_version": "1.2.0",
      "model_name": "SelectMultipleModel",
      "state": {
       "_options_labels": [
        "sex",
        "workclass",
        "education",
        "race",
        "marital-status",
        "occupation",
        "relationship",
        "capital-gain",
        "capital-loss",
        "hours-per-week",
        "age"
       ],
       "description": "Feature",
       "index": [
        4,
        6
       ],
       "layout": "IPY_MODEL_79ec108583c44abfa7fc936667b9a9fc",
       "rows": 5,
       "style": "IPY_MODEL_da70d55fb8de435bbdf774ea98aef90f"
      }
     },
     "5c4f6c39603148ed84af4aaafd6109fd": {
      "model_module": "@jupyter-widgets/base",
      "model_module_version": "1.0.0",
      "model_name": "LayoutModel",
      "state": {}
     },
     "5cf82771fdab4a9ba9adc6407b47ed0b": {
      "model_module": "@jupyter-widgets/controls",
      "model_module_version": "1.2.0",
      "model_name": "DescriptionStyleModel",
      "state": {
       "description_width": ""
      }
     },
     "5d03c09836ce495888eab30741524a88": {
      "model_module": "@jupyter-widgets/controls",
      "model_module_version": "1.2.0",
      "model_name": "ButtonStyleModel",
      "state": {}
     },
     "5d2eb9668d354cfbb5adc594a84eeb7e": {
      "model_module": "@jupyter-widgets/controls",
      "model_module_version": "1.2.0",
      "model_name": "ButtonStyleModel",
      "state": {}
     },
     "5d54af38a1344317b37c5d05566dcfa3": {
      "model_module": "@jupyter-widgets/base",
      "model_module_version": "1.0.0",
      "model_name": "LayoutModel",
      "state": {}
     },
     "5ebe54494aef400e8a7a3910276ca037": {
      "model_module": "@jupyter-widgets/controls",
      "model_module_version": "1.2.0",
      "model_name": "ButtonStyleModel",
      "state": {}
     },
     "5f1013bab18047b6bb3315d5c08f511a": {
      "model_module": "@jupyter-widgets/base",
      "model_module_version": "1.0.0",
      "model_name": "LayoutModel",
      "state": {}
     },
     "622020a6f03749e69a1f4d16c3141426": {
      "model_module": "@jupyter-widgets/controls",
      "model_module_version": "1.2.0",
      "model_name": "ButtonModel",
      "state": {
       "description": "Get explanation",
       "layout": "IPY_MODEL_1237f5c85fed494e9585e408cbe11cea",
       "style": "IPY_MODEL_80acae3f434d4f88a385e22840dee613"
      }
     },
     "657ebb942ef7432d9c92693c24ec42d5": {
      "model_module": "@jupyter-widgets/controls",
      "model_module_version": "1.2.0",
      "model_name": "ButtonStyleModel",
      "state": {}
     },
     "65f127ab950a4b5ba70fa8fde5bca737": {
      "model_module": "@jupyter-widgets/controls",
      "model_module_version": "1.2.0",
      "model_name": "ButtonStyleModel",
      "state": {}
     },
     "6702041beb604e19953b8f0f88afe34d": {
      "model_module": "@jupyter-widgets/base",
      "model_module_version": "1.0.0",
      "model_name": "LayoutModel",
      "state": {}
     },
     "68d006ad72064b9baf7322b6e8160e85": {
      "model_module": "@jupyter-widgets/base",
      "model_module_version": "1.0.0",
      "model_name": "LayoutModel",
      "state": {}
     },
     "68fd007957654dc1ad82268173a473da": {
      "model_module": "@jupyter-widgets/controls",
      "model_module_version": "1.2.0",
      "model_name": "SelectionSliderModel",
      "state": {
       "_options_labels": [
        "1",
        "2",
        "3"
       ],
       "continuous_update": false,
       "description": "b",
       "index": 2,
       "layout": "IPY_MODEL_51e36d4afd794aa1aa37174cf17037b4",
       "style": "IPY_MODEL_0f78bd88a71f45deac6dc56f4088567d"
      }
     },
     "6a9ada42141f43a38285941ef95bcbf2": {
      "model_module": "@jupyter-widgets/controls",
      "model_module_version": "1.2.0",
      "model_name": "SelectMultipleModel",
      "state": {
       "_options_labels": [
        "sex",
        "workclass",
        "education",
        "race",
        "marital-status",
        "occupation",
        "relationship",
        "capital-gain",
        "capital-loss",
        "hours-per-week",
        "age"
       ],
       "description": "Feature",
       "index": [
        1
       ],
       "layout": "IPY_MODEL_5c4f6c39603148ed84af4aaafd6109fd",
       "rows": 5,
       "style": "IPY_MODEL_558a605aa587497f980095eb95c71a5c"
      }
     },
     "6ab5f42b6da84f84a7e5929c09867fff": {
      "model_module": "@jupyter-widgets/controls",
      "model_module_version": "1.2.0",
      "model_name": "SelectMultipleModel",
      "state": {
       "_options_labels": [
        "a",
        "b",
        "c",
        "d",
        "e",
        "f"
       ],
       "description": "Feature",
       "index": [],
       "layout": "IPY_MODEL_bfbf585364124378953300aef4d35502",
       "rows": 5,
       "style": "IPY_MODEL_f97f00f680af47cb92339bea0aa5d1ce"
      }
     },
     "6c1024d227a24865b5b4acca6dbc5997": {
      "model_module": "@jupyter-widgets/base",
      "model_module_version": "1.0.0",
      "model_name": "LayoutModel",
      "state": {}
     },
     "6e59f9e17f2d4187a854114b07bfaaa2": {
      "model_module": "@jupyter-widgets/base",
      "model_module_version": "1.0.0",
      "model_name": "LayoutModel",
      "state": {}
     },
     "6f075826f429408496b84fa9355b9bf0": {
      "model_module": "@jupyter-widgets/controls",
      "model_module_version": "1.2.0",
      "model_name": "ButtonStyleModel",
      "state": {}
     },
     "7005df934bda491fb51dd5cb53eb3810": {
      "model_module": "@jupyter-widgets/controls",
      "model_module_version": "1.2.0",
      "model_name": "SelectMultipleModel",
      "state": {
       "_options_labels": [
        "a",
        "b",
        "c",
        "d",
        "e",
        "f"
       ],
       "description": "Feature",
       "index": [],
       "layout": "IPY_MODEL_f322855232214070bf699bf1cb346098",
       "rows": 5,
       "style": "IPY_MODEL_ee9c213b2c84477b940ecb20680f6493"
      }
     },
     "7080104aa77a4f3fad9ece62bb7df49c": {
      "model_module": "@jupyter-widgets/base",
      "model_module_version": "1.0.0",
      "model_name": "LayoutModel",
      "state": {}
     },
     "715ee8b1feab4175ab1da3e2c095e9c6": {
      "model_module": "@jupyter-widgets/controls",
      "model_module_version": "1.2.0",
      "model_name": "DescriptionStyleModel",
      "state": {
       "description_width": ""
      }
     },
     "7162ac3d0b2c4049a92cfa95d4d4fdc2": {
      "model_module": "@jupyter-widgets/base",
      "model_module_version": "1.0.0",
      "model_name": "LayoutModel",
      "state": {}
     },
     "737777885716404e826a982822a5b599": {
      "model_module": "@jupyter-widgets/controls",
      "model_module_version": "1.2.0",
      "model_name": "ButtonStyleModel",
      "state": {}
     },
     "73cb83ba6959498dab48f1a81be999e4": {
      "model_module": "@jupyter-widgets/controls",
      "model_module_version": "1.2.0",
      "model_name": "ButtonModel",
      "state": {
       "description": "New selection",
       "layout": "IPY_MODEL_d7ec73b72f4a44b38d0e4739cf7ea795",
       "style": "IPY_MODEL_5d2eb9668d354cfbb5adc594a84eeb7e"
      }
     },
     "74e5b62df0a8479284ecd0639e1b46b1": {
      "model_module": "@jupyter-widgets/controls",
      "model_module_version": "1.2.0",
      "model_name": "ButtonModel",
      "state": {
       "description": "New selection",
       "layout": "IPY_MODEL_ea46da208f4447f3913086a39ecbd888",
       "style": "IPY_MODEL_dce1d8ea330e45c593e02dcd295e2139"
      }
     },
     "76d5b67ba7bb41ff9fa59feb320b62a6": {
      "model_module": "@jupyter-widgets/controls",
      "model_module_version": "1.2.0",
      "model_name": "SelectMultipleModel",
      "state": {
       "_options_labels": [
        "a",
        "b",
        "c",
        "d",
        "e",
        "f"
       ],
       "description": "Feature",
       "index": [
        0,
        1
       ],
       "layout": "IPY_MODEL_68d006ad72064b9baf7322b6e8160e85",
       "rows": 5,
       "style": "IPY_MODEL_1a3bc060f9994a42aa675b7430f6fec6"
      }
     },
     "7744b46919034cd8b07607cd05ab1d1c": {
      "model_module": "@jupyter-widgets/base",
      "model_module_version": "1.0.0",
      "model_name": "LayoutModel",
      "state": {}
     },
     "77f83fee1fec4597b559cbae82fc0fc7": {
      "model_module": "@jupyter-widgets/controls",
      "model_module_version": "1.2.0",
      "model_name": "ButtonStyleModel",
      "state": {}
     },
     "79185c2ecf0f4c709386feb512e049c1": {
      "model_module": "@jupyter-widgets/controls",
      "model_module_version": "1.2.0",
      "model_name": "ButtonStyleModel",
      "state": {}
     },
     "791e4c94dcc34849ba0ef0ecf69c477f": {
      "model_module": "@jupyter-widgets/base",
      "model_module_version": "1.0.0",
      "model_name": "LayoutModel",
      "state": {}
     },
     "79b4768d118c43319d7e2c9897753bed": {
      "model_module": "@jupyter-widgets/base",
      "model_module_version": "1.0.0",
      "model_name": "LayoutModel",
      "state": {}
     },
     "79ec108583c44abfa7fc936667b9a9fc": {
      "model_module": "@jupyter-widgets/base",
      "model_module_version": "1.0.0",
      "model_name": "LayoutModel",
      "state": {}
     },
     "7e6d556adb85405b8944b207032f67d7": {
      "model_module": "@jupyter-widgets/controls",
      "model_module_version": "1.2.0",
      "model_name": "DescriptionStyleModel",
      "state": {
       "description_width": ""
      }
     },
     "7f2a0940412440bb81c21d6c1f9940a2": {
      "model_module": "@jupyter-widgets/controls",
      "model_module_version": "1.2.0",
      "model_name": "HBoxModel",
      "state": {
       "children": [
        "IPY_MODEL_2306a9d7c60f46dc92a5693ad3ff87c7",
        "IPY_MODEL_e04386e3bfa6490d8d52906aca94b2aa",
        "IPY_MODEL_73cb83ba6959498dab48f1a81be999e4"
       ],
       "layout": "IPY_MODEL_10df5e63449d498299704c8cb818e981"
      }
     },
     "80acae3f434d4f88a385e22840dee613": {
      "model_module": "@jupyter-widgets/controls",
      "model_module_version": "1.2.0",
      "model_name": "ButtonStyleModel",
      "state": {}
     },
     "82557a9cc3d74844b0ba9ac8cbef7a15": {
      "model_module": "@jupyter-widgets/controls",
      "model_module_version": "1.2.0",
      "model_name": "ButtonModel",
      "state": {
       "description": "Select attributes",
       "layout": "IPY_MODEL_cfd9236743e04982bd40f99c98821818",
       "style": "IPY_MODEL_28742a46fb454254885d48bfa48951f4"
      }
     },
     "82f3a87581de46a5a6a2ded3f7c2a328": {
      "model_module": "@jupyter-widgets/base",
      "model_module_version": "1.0.0",
      "model_name": "LayoutModel",
      "state": {}
     },
     "89949f9e17ff4ad4b003ecd11e7f46cb": {
      "model_module": "@jupyter-widgets/controls",
      "model_module_version": "1.2.0",
      "model_name": "SelectionSliderModel",
      "state": {
       "_options_labels": [
        "Husband",
        "Not-in-family",
        "Other-relative",
        "Own-child",
        "Unmarried",
        "Wife"
       ],
       "continuous_update": false,
       "description": "relationship",
       "index": 4,
       "layout": "IPY_MODEL_06403485c80247de9af6cb4fb743c797",
       "style": "IPY_MODEL_d36c62c09e674b358d4548f39ce49583"
      }
     },
     "8ae9dca36a2d4d7ca3334d2f90664d15": {
      "model_module": "@jupyter-widgets/controls",
      "model_module_version": "1.2.0",
      "model_name": "ButtonStyleModel",
      "state": {}
     },
     "8d5208642a204fe082baa566f385c660": {
      "model_module": "@jupyter-widgets/controls",
      "model_module_version": "1.2.0",
      "model_name": "ButtonStyleModel",
      "state": {}
     },
     "9378bc17134a4598a4bf9eb840240e59": {
      "model_module": "@jupyter-widgets/controls",
      "model_module_version": "1.2.0",
      "model_name": "SelectionSliderModel",
      "state": {
       "_options_labels": [
        "Married",
        "Never-married",
        "Separated",
        "Widowed"
       ],
       "continuous_update": false,
       "description": "marital-status",
       "index": 1,
       "layout": "IPY_MODEL_79b4768d118c43319d7e2c9897753bed",
       "style": "IPY_MODEL_715ee8b1feab4175ab1da3e2c095e9c6"
      }
     },
     "94c8b264e4be417db2bb61a831689dbf": {
      "model_module": "@jupyter-widgets/base",
      "model_module_version": "1.0.0",
      "model_name": "LayoutModel",
      "state": {}
     },
     "95469272a1434b828c9c0b6af10c9145": {
      "model_module": "@jupyter-widgets/controls",
      "model_module_version": "1.2.0",
      "model_name": "HBoxModel",
      "state": {
       "children": [
        "IPY_MODEL_de56ebb9999a40ad8f101d20a9126ee3",
        "IPY_MODEL_2215a3f148474f5caf000997ae11271d",
        "IPY_MODEL_c1e422ac6b0a464dba5f02ec80950bc6"
       ],
       "layout": "IPY_MODEL_f1e5f7972a24415db933727b6a3606ed"
      }
     },
     "959b98c17a0345d3be14b681d03239b4": {
      "model_module": "@jupyter-widgets/controls",
      "model_module_version": "1.2.0",
      "model_name": "HBoxModel",
      "state": {
       "children": [
        "IPY_MODEL_06d719a76d2f4ba49a4a91f93bad62c1",
        "IPY_MODEL_d12eb6df31434c30b3f7e6ff1e499cc1",
        "IPY_MODEL_cebba7b3443b44e3b55c4cd17758b7ea"
       ],
       "layout": "IPY_MODEL_7744b46919034cd8b07607cd05ab1d1c"
      }
     },
     "963e2a7ebb8c445e940e2220ee6264fd": {
      "model_module": "@jupyter-widgets/controls",
      "model_module_version": "1.2.0",
      "model_name": "DescriptionStyleModel",
      "state": {
       "description_width": ""
      }
     },
     "9689992a3a6d4045967c6ce87c56713f": {
      "model_module": "@jupyter-widgets/base",
      "model_module_version": "1.0.0",
      "model_name": "LayoutModel",
      "state": {}
     },
     "96aa7c73c31a434190832f68f39889a0": {
      "model_module": "@jupyter-widgets/base",
      "model_module_version": "1.0.0",
      "model_name": "LayoutModel",
      "state": {}
     },
     "981134775a0d4746b14541f55c5a09d5": {
      "model_module": "@jupyter-widgets/base",
      "model_module_version": "1.0.0",
      "model_name": "LayoutModel",
      "state": {}
     },
     "9ee431e07e25427aa5737ccbb205d077": {
      "model_module": "@jupyter-widgets/controls",
      "model_module_version": "1.2.0",
      "model_name": "SelectMultipleModel",
      "state": {
       "_options_labels": [
        "sex",
        "workclass",
        "education",
        "race",
        "marital-status",
        "occupation",
        "relationship",
        "capital-gain",
        "capital-loss",
        "hours-per-week",
        "age"
       ],
       "description": "Feature",
       "index": [
        4,
        6
       ],
       "layout": "IPY_MODEL_6c1024d227a24865b5b4acca6dbc5997",
       "rows": 5,
       "style": "IPY_MODEL_bcdaba1b327e4262b5543ff5e98a2c2d"
      }
     },
     "9fae1a4507924d90b9f0eb72271277c1": {
      "model_module": "@jupyter-widgets/controls",
      "model_module_version": "1.2.0",
      "model_name": "ButtonStyleModel",
      "state": {}
     },
     "a390c415fbb84886bc5411446d99d174": {
      "model_module": "@jupyter-widgets/controls",
      "model_module_version": "1.2.0",
      "model_name": "ButtonModel",
      "state": {
       "description": "Select attributes",
       "layout": "IPY_MODEL_c61d6fe6703f47f0851fea8fb63fbf8c",
       "style": "IPY_MODEL_dc9db1aa96e9452b90ceab43f38e0622"
      }
     },
     "a900cf69005a4ffb9e5fbb7f0554e1ab": {
      "model_module": "@jupyter-widgets/controls",
      "model_module_version": "1.2.0",
      "model_name": "SelectionSliderModel",
      "state": {
       "_options_labels": [
        "1",
        "2",
        "3"
       ],
       "continuous_update": false,
       "description": "a",
       "index": 1,
       "layout": "IPY_MODEL_ae32badad21d492bb121ae9bbccf6054",
       "style": "IPY_MODEL_538879b330234705a313ed88012109fa"
      }
     },
     "a98fb003fc9647e2bee68368d2789cb0": {
      "model_module": "@jupyter-widgets/controls",
      "model_module_version": "1.2.0",
      "model_name": "ButtonModel",
      "state": {
       "description": "Compare original",
       "layout": "IPY_MODEL_09ccf86d6a3d45b1baa41e4fe7177e2e",
       "style": "IPY_MODEL_06a3c62f6e2440efa4f2e19558a73f83"
      }
     },
     "a9c7696d7d294a7d9d11b24a32e248cf": {
      "model_module": "@jupyter-widgets/controls",
      "model_module_version": "1.2.0",
      "model_name": "ButtonStyleModel",
      "state": {}
     },
     "ac13fa2ebb7f48fc9fbaea62d0ff83e6": {
      "model_module": "@jupyter-widgets/controls",
      "model_module_version": "1.2.0",
      "model_name": "ButtonModel",
      "state": {
       "description": "Select attributes",
       "layout": "IPY_MODEL_386f3fb84791434a80b0d527c3634d0b",
       "style": "IPY_MODEL_01f5d718d3d44c439cda09df380cf69c"
      }
     },
     "ac1d06fa61c14d3a928545354e048cb8": {
      "model_module": "@jupyter-widgets/controls",
      "model_module_version": "1.2.0",
      "model_name": "SelectMultipleModel",
      "state": {
       "_options_labels": [
        "sex",
        "workclass",
        "education",
        "race",
        "marital-status",
        "occupation",
        "relationship",
        "capital-gain",
        "capital-loss",
        "hours-per-week",
        "age"
       ],
       "description": "Feature",
       "index": [
        4,
        6
       ],
       "layout": "IPY_MODEL_7080104aa77a4f3fad9ece62bb7df49c",
       "rows": 5,
       "style": "IPY_MODEL_c1984facc08d4809968c166061cb789d"
      }
     },
     "adbb6010be114bba98f679ee3ec04138": {
      "model_module": "@jupyter-widgets/controls",
      "model_module_version": "1.2.0",
      "model_name": "ButtonStyleModel",
      "state": {}
     },
     "ae01dcc06b4b486e80ca671787b72831": {
      "model_module": "@jupyter-widgets/controls",
      "model_module_version": "1.2.0",
      "model_name": "ButtonStyleModel",
      "state": {}
     },
     "ae32badad21d492bb121ae9bbccf6054": {
      "model_module": "@jupyter-widgets/base",
      "model_module_version": "1.0.0",
      "model_name": "LayoutModel",
      "state": {}
     },
     "b108d1f154504cef94a9d62aeb052b02": {
      "model_module": "@jupyter-widgets/base",
      "model_module_version": "1.0.0",
      "model_name": "LayoutModel",
      "state": {}
     },
     "b1619df6748e49289a39d32e77e04d91": {
      "model_module": "@jupyter-widgets/controls",
      "model_module_version": "1.2.0",
      "model_name": "SelectionSliderModel",
      "state": {
       "_options_labels": [
        "1",
        "2",
        "3"
       ],
       "continuous_update": false,
       "description": "b",
       "index": 0,
       "layout": "IPY_MODEL_5ad816187ea444ea8813309969fb7d07",
       "style": "IPY_MODEL_5bd9531427d846bda718517e7cca211f"
      }
     },
     "b1ed9f28ad5c446a9fb65975574437cc": {
      "model_module": "@jupyter-widgets/base",
      "model_module_version": "1.0.0",
      "model_name": "LayoutModel",
      "state": {}
     },
     "b4631891fcb445a5a272ae70f22c265b": {
      "model_module": "@jupyter-widgets/controls",
      "model_module_version": "1.2.0",
      "model_name": "SelectionSliderModel",
      "state": {
       "_options_labels": [
        "Associates",
        "Bachelors",
        "Doctorate",
        "Dropout",
        "High-School-grad",
        "Masters",
        "Prof-school"
       ],
       "continuous_update": false,
       "description": "education",
       "index": 3,
       "layout": "IPY_MODEL_5f1013bab18047b6bb3315d5c08f511a",
       "style": "IPY_MODEL_469183be23e94cfaa7df97320f2fdc82"
      }
     },
     "bcdaba1b327e4262b5543ff5e98a2c2d": {
      "model_module": "@jupyter-widgets/controls",
      "model_module_version": "1.2.0",
      "model_name": "DescriptionStyleModel",
      "state": {
       "description_width": ""
      }
     },
     "bddda0064a37428db37ca5540b22fcc1": {
      "model_module": "@jupyter-widgets/controls",
      "model_module_version": "1.2.0",
      "model_name": "ButtonModel",
      "state": {
       "description": "Compare original",
       "layout": "IPY_MODEL_5d54af38a1344317b37c5d05566dcfa3",
       "style": "IPY_MODEL_50ce59f8e0d0499aaa18fb6830f3fce2"
      }
     },
     "becaae7443e64f04b67427af45be4537": {
      "model_module": "@jupyter-widgets/base",
      "model_module_version": "1.0.0",
      "model_name": "LayoutModel",
      "state": {}
     },
     "bfbf585364124378953300aef4d35502": {
      "model_module": "@jupyter-widgets/base",
      "model_module_version": "1.0.0",
      "model_name": "LayoutModel",
      "state": {}
     },
     "c1984facc08d4809968c166061cb789d": {
      "model_module": "@jupyter-widgets/controls",
      "model_module_version": "1.2.0",
      "model_name": "DescriptionStyleModel",
      "state": {
       "description_width": ""
      }
     },
     "c1e422ac6b0a464dba5f02ec80950bc6": {
      "model_module": "@jupyter-widgets/controls",
      "model_module_version": "1.2.0",
      "model_name": "ButtonModel",
      "state": {
       "description": "New selection",
       "layout": "IPY_MODEL_2d9bd6e3abdc4b78a6cf94076847fe7d",
       "style": "IPY_MODEL_52b4f5dc04cb47a59bbab80c15dcfd73"
      }
     },
     "c3f34a9e5cbc4fa6af50ddc52a694bb6": {
      "model_module": "@jupyter-widgets/controls",
      "model_module_version": "1.2.0",
      "model_name": "ButtonModel",
      "state": {
       "description": "Select attributes",
       "layout": "IPY_MODEL_82f3a87581de46a5a6a2ded3f7c2a328",
       "style": "IPY_MODEL_1c9bbae250814171b1043483940bec9b"
      }
     },
     "c4bd7840a2fd4ca8ba6602dbf11c6e36": {
      "model_module": "@jupyter-widgets/controls",
      "model_module_version": "1.2.0",
      "model_name": "SelectionSliderModel",
      "state": {
       "_options_labels": [
        "1",
        "2",
        "3"
       ],
       "continuous_update": false,
       "description": "b",
       "index": 0,
       "layout": "IPY_MODEL_b1ed9f28ad5c446a9fb65975574437cc",
       "style": "IPY_MODEL_de190deb85ea4dcaa60a3489870ba2ab"
      }
     },
     "c5b06ea99d7a477e82c34bcd3bf4af46": {
      "model_module": "@jupyter-widgets/base",
      "model_module_version": "1.0.0",
      "model_name": "LayoutModel",
      "state": {}
     },
     "c5e2262b384a4bf8b738280cee82215f": {
      "model_module": "@jupyter-widgets/controls",
      "model_module_version": "1.2.0",
      "model_name": "SelectionSliderModel",
      "state": {
       "_options_labels": [
        "Federal-gov",
        "Local-gov",
        "Private",
        "Self-emp-inc",
        "Self-emp-not-inc",
        "State-gov",
        "Without-pay"
       ],
       "continuous_update": false,
       "description": "workclass",
       "index": 5,
       "layout": "IPY_MODEL_e6fe381afacc4fc3b1036b42243b3697",
       "style": "IPY_MODEL_f988049a37694a33b49bb633dd702b86"
      }
     },
     "c61d6fe6703f47f0851fea8fb63fbf8c": {
      "model_module": "@jupyter-widgets/base",
      "model_module_version": "1.0.0",
      "model_name": "LayoutModel",
      "state": {}
     },
     "c62c5b0f17374290ac271064ce4657a3": {
      "model_module": "@jupyter-widgets/controls",
      "model_module_version": "1.2.0",
      "model_name": "ButtonStyleModel",
      "state": {}
     },
     "c6adf844058f4313850c1a9d3c63f2ef": {
      "model_module": "@jupyter-widgets/base",
      "model_module_version": "1.0.0",
      "model_name": "LayoutModel",
      "state": {}
     },
     "c6c52595f27e46d8afa43630733d3dd5": {
      "model_module": "@jupyter-widgets/base",
      "model_module_version": "1.0.0",
      "model_name": "LayoutModel",
      "state": {}
     },
     "cbe793cb747f4a15855d1683c0723b49": {
      "model_module": "@jupyter-widgets/controls",
      "model_module_version": "1.2.0",
      "model_name": "DescriptionStyleModel",
      "state": {
       "description_width": ""
      }
     },
     "ccf02c63a6624e128667f9fc2fd81a28": {
      "model_module": "@jupyter-widgets/controls",
      "model_module_version": "1.2.0",
      "model_name": "SelectionSliderModel",
      "state": {
       "_options_labels": [
        "1",
        "2",
        "3"
       ],
       "continuous_update": false,
       "description": "a",
       "index": 1,
       "layout": "IPY_MODEL_17421667e60347ccb6a499f5a9dcc441",
       "style": "IPY_MODEL_cd6f8f684dcb4600a6d987a81fe5a7b9"
      }
     },
     "cd6f8f684dcb4600a6d987a81fe5a7b9": {
      "model_module": "@jupyter-widgets/controls",
      "model_module_version": "1.2.0",
      "model_name": "DescriptionStyleModel",
      "state": {
       "description_width": ""
      }
     },
     "cdaa5250677449e78378124881768aa3": {
      "model_module": "@jupyter-widgets/controls",
      "model_module_version": "1.2.0",
      "model_name": "ButtonStyleModel",
      "state": {}
     },
     "cebba7b3443b44e3b55c4cd17758b7ea": {
      "model_module": "@jupyter-widgets/controls",
      "model_module_version": "1.2.0",
      "model_name": "ButtonModel",
      "state": {
       "description": "New selection",
       "layout": "IPY_MODEL_e8d47a1b4e4a4d8d8b3e53e0baf54dbd",
       "style": "IPY_MODEL_adbb6010be114bba98f679ee3ec04138"
      }
     },
     "cf7c7dd26b194580af02697b22c1ff38": {
      "model_module": "@jupyter-widgets/controls",
      "model_module_version": "1.2.0",
      "model_name": "SelectMultipleModel",
      "state": {
       "_options_labels": [
        "sex",
        "workclass",
        "education",
        "race",
        "marital-status",
        "occupation",
        "relationship",
        "capital-gain",
        "capital-loss",
        "hours-per-week",
        "age"
       ],
       "description": "Feature",
       "index": [],
       "layout": "IPY_MODEL_791e4c94dcc34849ba0ef0ecf69c477f",
       "rows": 5,
       "style": "IPY_MODEL_fb1c4c43b343446cac42087f2da1a073"
      }
     },
     "cfd9236743e04982bd40f99c98821818": {
      "model_module": "@jupyter-widgets/base",
      "model_module_version": "1.0.0",
      "model_name": "LayoutModel",
      "state": {}
     },
     "d12eb6df31434c30b3f7e6ff1e499cc1": {
      "model_module": "@jupyter-widgets/controls",
      "model_module_version": "1.2.0",
      "model_name": "ButtonModel",
      "state": {
       "description": "Compare original",
       "layout": "IPY_MODEL_c5b06ea99d7a477e82c34bcd3bf4af46",
       "style": "IPY_MODEL_8d5208642a204fe082baa566f385c660"
      }
     },
     "d14acfadac924c2aaf91ce2027044e8a": {
      "model_module": "@jupyter-widgets/base",
      "model_module_version": "1.0.0",
      "model_name": "LayoutModel",
      "state": {}
     },
     "d20dc21ba9754ff89d38d3ce3d2b9916": {
      "model_module": "@jupyter-widgets/base",
      "model_module_version": "1.0.0",
      "model_name": "LayoutModel",
      "state": {}
     },
     "d2cca4ae2618464ea32ccd87705a5704": {
      "model_module": "@jupyter-widgets/base",
      "model_module_version": "1.0.0",
      "model_name": "LayoutModel",
      "state": {}
     },
     "d36c62c09e674b358d4548f39ce49583": {
      "model_module": "@jupyter-widgets/controls",
      "model_module_version": "1.2.0",
      "model_name": "DescriptionStyleModel",
      "state": {
       "description_width": ""
      }
     },
     "d5b34be70ea141d0b112237b4875abbb": {
      "model_module": "@jupyter-widgets/base",
      "model_module_version": "1.0.0",
      "model_name": "LayoutModel",
      "state": {}
     },
     "d695afa5c4174766927011f970967749": {
      "model_module": "@jupyter-widgets/controls",
      "model_module_version": "1.2.0",
      "model_name": "SelectMultipleModel",
      "state": {
       "_options_labels": [
        "a",
        "b",
        "c",
        "d",
        "e",
        "f"
       ],
       "description": "Feature",
       "index": [
        0,
        1
       ],
       "layout": "IPY_MODEL_c6adf844058f4313850c1a9d3c63f2ef",
       "rows": 5,
       "style": "IPY_MODEL_7e6d556adb85405b8944b207032f67d7"
      }
     },
     "d7ec73b72f4a44b38d0e4739cf7ea795": {
      "model_module": "@jupyter-widgets/base",
      "model_module_version": "1.0.0",
      "model_name": "LayoutModel",
      "state": {}
     },
     "d94e681194484df880ab920482a05f04": {
      "model_module": "@jupyter-widgets/controls",
      "model_module_version": "1.2.0",
      "model_name": "SelectMultipleModel",
      "state": {
       "_options_labels": [
        "sex",
        "workclass",
        "education",
        "race",
        "marital-status",
        "occupation",
        "relationship",
        "capital-gain",
        "capital-loss",
        "hours-per-week",
        "age"
       ],
       "description": "Feature",
       "index": [],
       "layout": "IPY_MODEL_0ed600e62bca468b8cad49ac76d7cee1",
       "rows": 5,
       "style": "IPY_MODEL_5cf82771fdab4a9ba9adc6407b47ed0b"
      }
     },
     "da70d55fb8de435bbdf774ea98aef90f": {
      "model_module": "@jupyter-widgets/controls",
      "model_module_version": "1.2.0",
      "model_name": "DescriptionStyleModel",
      "state": {
       "description_width": ""
      }
     },
     "dc9db1aa96e9452b90ceab43f38e0622": {
      "model_module": "@jupyter-widgets/controls",
      "model_module_version": "1.2.0",
      "model_name": "ButtonStyleModel",
      "state": {}
     },
     "dce1d8ea330e45c593e02dcd295e2139": {
      "model_module": "@jupyter-widgets/controls",
      "model_module_version": "1.2.0",
      "model_name": "ButtonStyleModel",
      "state": {}
     },
     "de190deb85ea4dcaa60a3489870ba2ab": {
      "model_module": "@jupyter-widgets/controls",
      "model_module_version": "1.2.0",
      "model_name": "DescriptionStyleModel",
      "state": {
       "description_width": ""
      }
     },
     "de56ebb9999a40ad8f101d20a9126ee3": {
      "model_module": "@jupyter-widgets/controls",
      "model_module_version": "1.2.0",
      "model_name": "ButtonModel",
      "state": {
       "description": "Get explanation",
       "layout": "IPY_MODEL_7162ac3d0b2c4049a92cfa95d4d4fdc2",
       "style": "IPY_MODEL_9fae1a4507924d90b9f0eb72271277c1"
      }
     },
     "defcd0378c404d328c6385ebd4f05142": {
      "model_module": "@jupyter-widgets/base",
      "model_module_version": "1.0.0",
      "model_name": "LayoutModel",
      "state": {}
     },
     "e04386e3bfa6490d8d52906aca94b2aa": {
      "model_module": "@jupyter-widgets/controls",
      "model_module_version": "1.2.0",
      "model_name": "ButtonModel",
      "state": {
       "description": "Compare original",
       "layout": "IPY_MODEL_9689992a3a6d4045967c6ce87c56713f",
       "style": "IPY_MODEL_02278233b78a459e95ea24d5ef306af5"
      }
     },
     "e27063129249435baf949aaec88d1265": {
      "model_module": "@jupyter-widgets/controls",
      "model_module_version": "1.2.0",
      "model_name": "ButtonModel",
      "state": {
       "description": "New selection",
       "layout": "IPY_MODEL_2e73d9825b8d4e23aaa1c42344d5b506",
       "style": "IPY_MODEL_c62c5b0f17374290ac271064ce4657a3"
      }
     },
     "e5cd3fc14964470fbb8a44b649a9bb6c": {
      "model_module": "@jupyter-widgets/base",
      "model_module_version": "1.0.0",
      "model_name": "LayoutModel",
      "state": {}
     },
     "e6fe381afacc4fc3b1036b42243b3697": {
      "model_module": "@jupyter-widgets/base",
      "model_module_version": "1.0.0",
      "model_name": "LayoutModel",
      "state": {}
     },
     "e7157161741c4523b9cfb59f6851f0fb": {
      "model_module": "@jupyter-widgets/controls",
      "model_module_version": "1.2.0",
      "model_name": "ButtonModel",
      "state": {
       "description": "Select attributes",
       "layout": "IPY_MODEL_2c7f9cb23334456a8b99d92096aff027",
       "style": "IPY_MODEL_5ebe54494aef400e8a7a3910276ca037"
      }
     },
     "e8d47a1b4e4a4d8d8b3e53e0baf54dbd": {
      "model_module": "@jupyter-widgets/base",
      "model_module_version": "1.0.0",
      "model_name": "LayoutModel",
      "state": {}
     },
     "e93dc6dbce9d4962a056eb1c426cf9bf": {
      "model_module": "@jupyter-widgets/controls",
      "model_module_version": "1.2.0",
      "model_name": "ButtonModel",
      "state": {
       "description": "Get explanation",
       "layout": "IPY_MODEL_2f1ce65e541b4986ae744dc5e68ced88",
       "style": "IPY_MODEL_65f127ab950a4b5ba70fa8fde5bca737"
      }
     },
     "ea46da208f4447f3913086a39ecbd888": {
      "model_module": "@jupyter-widgets/base",
      "model_module_version": "1.0.0",
      "model_name": "LayoutModel",
      "state": {}
     },
     "ea7615f6d2bd4379904b130ac5c94f8c": {
      "model_module": "@jupyter-widgets/controls",
      "model_module_version": "1.2.0",
      "model_name": "ButtonModel",
      "state": {
       "description": "Get explanation",
       "layout": "IPY_MODEL_defcd0378c404d328c6385ebd4f05142",
       "style": "IPY_MODEL_77f83fee1fec4597b559cbae82fc0fc7"
      }
     },
     "ebc841e7c0a140899231691680f6c64b": {
      "model_module": "@jupyter-widgets/controls",
      "model_module_version": "1.2.0",
      "model_name": "ButtonStyleModel",
      "state": {}
     },
     "ec57cc918cf24ae88dd711a467778445": {
      "model_module": "@jupyter-widgets/controls",
      "model_module_version": "1.2.0",
      "model_name": "HBoxModel",
      "state": {
       "children": [
        "IPY_MODEL_3c87e5ae43aa42ef878d9771d7dd19a9",
        "IPY_MODEL_bddda0064a37428db37ca5540b22fcc1",
        "IPY_MODEL_40a81fa419ac47cb83b9dc65855f09c9"
       ],
       "layout": "IPY_MODEL_6e59f9e17f2d4187a854114b07bfaaa2"
      }
     },
     "ec8097d39c094667a4d8019060d9445c": {
      "model_module": "@jupyter-widgets/controls",
      "model_module_version": "1.2.0",
      "model_name": "DescriptionStyleModel",
      "state": {
       "description_width": ""
      }
     },
     "ee9c213b2c84477b940ecb20680f6493": {
      "model_module": "@jupyter-widgets/controls",
      "model_module_version": "1.2.0",
      "model_name": "DescriptionStyleModel",
      "state": {
       "description_width": ""
      }
     },
     "f1e5f7972a24415db933727b6a3606ed": {
      "model_module": "@jupyter-widgets/base",
      "model_module_version": "1.0.0",
      "model_name": "LayoutModel",
      "state": {}
     },
     "f1e6e524a6794ac492d19c45d337eba8": {
      "model_module": "@jupyter-widgets/controls",
      "model_module_version": "1.2.0",
      "model_name": "ButtonModel",
      "state": {
       "description": "Compare original",
       "layout": "IPY_MODEL_5bcfc3406b1f47a2934cffc3a1021877",
       "style": "IPY_MODEL_19555609776748af9a7b8aa39c9e8520"
      }
     },
     "f2c6c6159df24f3f98e811b0ae85adc0": {
      "model_module": "@jupyter-widgets/controls",
      "model_module_version": "1.2.0",
      "model_name": "ButtonModel",
      "state": {
       "description": "Select attributes",
       "layout": "IPY_MODEL_1a33e01ce5c143208c1c9a2f75f6641e",
       "style": "IPY_MODEL_fe283045bb6e41b089c4b13208753bee"
      }
     },
     "f322855232214070bf699bf1cb346098": {
      "model_module": "@jupyter-widgets/base",
      "model_module_version": "1.0.0",
      "model_name": "LayoutModel",
      "state": {}
     },
     "f35aec27ebfd4212920b6a8fbcb488b4": {
      "model_module": "@jupyter-widgets/controls",
      "model_module_version": "1.2.0",
      "model_name": "DescriptionStyleModel",
      "state": {
       "description_width": ""
      }
     },
     "f46f39b8926a4bef9a52ca2b6f55a9fe": {
      "model_module": "@jupyter-widgets/controls",
      "model_module_version": "1.2.0",
      "model_name": "ButtonModel",
      "state": {
       "description": "Select attributes",
       "layout": "IPY_MODEL_274e98762d2c4f08935e4ddfe1ccc0fb",
       "style": "IPY_MODEL_657ebb942ef7432d9c92693c24ec42d5"
      }
     },
     "f731fafac51d48a58af53cba74688e5a": {
      "model_module": "@jupyter-widgets/controls",
      "model_module_version": "1.2.0",
      "model_name": "SelectionSliderModel",
      "state": {
       "_options_labels": [
        "Husband",
        "Not-in-family",
        "Other-relative",
        "Own-child",
        "Unmarried",
        "Wife"
       ],
       "continuous_update": false,
       "description": "relationship",
       "index": 1,
       "layout": "IPY_MODEL_becaae7443e64f04b67427af45be4537",
       "style": "IPY_MODEL_ec8097d39c094667a4d8019060d9445c"
      }
     },
     "f97f00f680af47cb92339bea0aa5d1ce": {
      "model_module": "@jupyter-widgets/controls",
      "model_module_version": "1.2.0",
      "model_name": "DescriptionStyleModel",
      "state": {
       "description_width": ""
      }
     },
     "f988049a37694a33b49bb633dd702b86": {
      "model_module": "@jupyter-widgets/controls",
      "model_module_version": "1.2.0",
      "model_name": "DescriptionStyleModel",
      "state": {
       "description_width": ""
      }
     },
     "f9f2e25fb6f540f99c80690efba56864": {
      "model_module": "@jupyter-widgets/controls",
      "model_module_version": "1.2.0",
      "model_name": "ButtonModel",
      "state": {
       "description": "New selection",
       "layout": "IPY_MODEL_2c93d5d9e63c43e8b5eaa17d10de69c3",
       "style": "IPY_MODEL_2925c105921642a7936e06afea0b220b"
      }
     },
     "fa8201a5cd244aafbe137781f9c5492b": {
      "model_module": "@jupyter-widgets/controls",
      "model_module_version": "1.2.0",
      "model_name": "ButtonStyleModel",
      "state": {}
     },
     "fb1c4c43b343446cac42087f2da1a073": {
      "model_module": "@jupyter-widgets/controls",
      "model_module_version": "1.2.0",
      "model_name": "DescriptionStyleModel",
      "state": {
       "description_width": ""
      }
     },
     "fd3e7f91cc3c4d41b8c50d2970c27fe3": {
      "model_module": "@jupyter-widgets/controls",
      "model_module_version": "1.2.0",
      "model_name": "SelectionSliderModel",
      "state": {
       "_options_labels": [
        "Married",
        "Never-married",
        "Separated",
        "Widowed"
       ],
       "continuous_update": false,
       "description": "marital-status",
       "index": 2,
       "layout": "IPY_MODEL_0929932bcf994a50bfb69a573bf1cfbc",
       "style": "IPY_MODEL_f35aec27ebfd4212920b6a8fbcb488b4"
      }
     },
     "fd80a22fd32345af868587e2ee9eb8f7": {
      "model_module": "@jupyter-widgets/controls",
      "model_module_version": "1.2.0",
      "model_name": "HBoxModel",
      "state": {
       "children": [
        "IPY_MODEL_ea7615f6d2bd4379904b130ac5c94f8c",
        "IPY_MODEL_5505b9a0f0784a84a213dc70d8b50507",
        "IPY_MODEL_74e5b62df0a8479284ecd0639e1b46b1"
       ],
       "layout": "IPY_MODEL_96aa7c73c31a434190832f68f39889a0"
      }
     },
     "fe283045bb6e41b089c4b13208753bee": {
      "model_module": "@jupyter-widgets/controls",
      "model_module_version": "1.2.0",
      "model_name": "ButtonStyleModel",
      "state": {}
     }
    },
    "version_major": 2,
    "version_minor": 0
   }
  }
 },
 "nbformat": 4,
 "nbformat_minor": 2
}
