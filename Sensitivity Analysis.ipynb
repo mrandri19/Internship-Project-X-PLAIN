{
 "cells": [
  {
   "cell_type": "markdown",
   "metadata": {},
   "source": [
    "# Sensitivity Analysis\n",
    "\n",
    "The aim of this analysis is to assess the impact of the `min_support` parameter of the L3 classifier on the explanations."
   ]
  },
  {
   "cell_type": "markdown",
   "metadata": {},
   "source": [
    "Let $X, Y$ be itemsets, $X \\Rightarrow Y$ an association rule and $T$ a set of transactions of a given database."
   ]
  },
  {
   "cell_type": "markdown",
   "metadata": {},
   "source": [
    "**Support**\n",
    "$$supp(X) = \\frac{|t \\in T; X \\in t|}{|T|}$$\n",
    "Support is an indication of how frequently the itemset appears in the dataset. Support of $X$ w.r.t. $T$ is the proportion of transctions $t$ in the dataset that containt the itemset $X$."
   ]
  },
  {
   "cell_type": "code",
   "execution_count": 1,
   "metadata": {},
   "outputs": [],
   "source": [
    "%load_ext autoreload\n",
    "%autoreload 2"
   ]
  },
  {
   "cell_type": "code",
   "execution_count": 2,
   "metadata": {},
   "outputs": [],
   "source": [
    "import pandas as pd\n",
    "import numpy as np\n",
    "import matplotlib.pyplot as plt\n",
    "from IPython.display import set_matplotlib_formats\n",
    "%matplotlib inline\n",
    "set_matplotlib_formats('retina')\n",
    "plt.rc('text', usetex=True)\n",
    "plt.rc('figure', figsize=[10, 10])\n",
    "plt.rc('font', size=18)"
   ]
  },
  {
   "cell_type": "code",
   "execution_count": 10,
   "metadata": {},
   "outputs": [],
   "source": [
    "import random\n",
    "from os.path import join\n",
    "\n",
    "import arff\n",
    "\n",
    "from src import DEFAULT_DIR\n",
    "from src.XPLAIN_explainer import XPLAIN_explainer\n",
    "from src.dataset import Dataset\n",
    "\n",
    "\n",
    "def load_arff(f) -> Dataset:\n",
    "    a = arff.load(f)\n",
    "    dataset = Dataset(a['data'], a['attributes'])\n",
    "\n",
    "    return dataset\n",
    "\n",
    "\n",
    "def import_dataset_arff(f, explain_indices,\n",
    "                        random_explain_dataset: bool):\n",
    "    dataset = load_arff(f)\n",
    "\n",
    "    dataset_len = len(dataset)\n",
    "    train_indices = list(range(dataset_len))\n",
    "\n",
    "    if random_explain_dataset:\n",
    "        random.seed(1)\n",
    "        # small dataset\n",
    "        MAX_SAMPLE_COUNT = 100\n",
    "        if dataset_len < (2 * MAX_SAMPLE_COUNT):\n",
    "            samples = int(0.2 * dataset_len)\n",
    "        else:\n",
    "            samples = MAX_SAMPLE_COUNT\n",
    "\n",
    "        # Randomly pick some instances to remove from the training dataset and use in the\n",
    "        # explain dataset\n",
    "        explain_indices = list(random.sample(train_indices, samples))\n",
    "    for i in explain_indices:\n",
    "        train_indices.remove(i)\n",
    "\n",
    "    train_dataset = Dataset.from_indices(train_indices, dataset)\n",
    "    explain_dataset = Dataset.from_indices(explain_indices, dataset)\n",
    "\n",
    "    return train_dataset, explain_dataset, [str(i) for i in explain_indices]\n",
    "\n",
    "\n",
    "def import_datasets_arff(f, f_explain, explain_indices,\n",
    "                         random_explain_dataset: bool):\n",
    "    train_dataset = load_arff(f)\n",
    "    explain_dataset = load_arff(f_explain)\n",
    "\n",
    "    len_explain_dataset = len(explain_dataset)\n",
    "\n",
    "    if random_explain_dataset:\n",
    "        random.seed(7)\n",
    "        explain_indices = list(random.sample(range(len_explain_dataset), 300))\n",
    "        explain_dataset = Dataset.from_indices(explain_indices, explain_dataset)\n",
    "\n",
    "    return train_dataset, explain_dataset, [str(i) for i in explain_indices]\n",
    "\n",
    "\n",
    "def get_classifier(classifier_name: str):\n",
    "    if classifier_name == \"sklearn_nb\":\n",
    "        from sklearn.naive_bayes import CategoricalNB\n",
    "\n",
    "        skl_clf = CategoricalNB()\n",
    "\n",
    "        return skl_clf\n",
    "\n",
    "    elif classifier_name == \"sklearn_rf\":\n",
    "        from sklearn.ensemble import RandomForestClassifier\n",
    "        from sklearn.pipeline import make_pipeline\n",
    "        from sklearn.preprocessing import OneHotEncoder\n",
    "\n",
    "        pipe = make_pipeline(OneHotEncoder(), RandomForestClassifier(random_state=42))\n",
    "        skl_clf = pipe\n",
    "\n",
    "        return skl_clf\n",
    "\n",
    "    elif classifier_name == \"nn_label_enc\":\n",
    "        from sklearn.neural_network import MLPClassifier\n",
    "\n",
    "        skl_clf = MLPClassifier(random_state=42, max_iter=1000)\n",
    "\n",
    "        return skl_clf\n",
    "\n",
    "    elif classifier_name == \"nn_onehot_enc\":\n",
    "        from sklearn.neural_network import MLPClassifier\n",
    "        from sklearn.pipeline import make_pipeline\n",
    "        from sklearn.preprocessing import OneHotEncoder\n",
    "\n",
    "        pipe = make_pipeline(OneHotEncoder(), MLPClassifier(random_state=42, max_iter=1000))\n",
    "        skl_clf = pipe\n",
    "\n",
    "        return skl_clf\n",
    "\n",
    "    else:\n",
    "        raise ValueError(\"Classifier not available\")\n",
    "\n",
    "\n",
    "def get_explanation(ix, dataset_name: str, classifier_name: str):\n",
    "    explain_dataset_indices = []\n",
    "    if dataset_name in [join(DEFAULT_DIR, \"datasets/adult_d.arff\"),\n",
    "                        join(DEFAULT_DIR, \"datasets/compas-scores-two-years_d.arff\")]:\n",
    "        with open(dataset_name) as f, open(dataset_name[:-5] + \"_explain.arff\") as f_explain:\n",
    "            train_dataset, explain_dataset, explain_indices = import_datasets_arff(f, f_explain,\n",
    "                                                                                   explain_dataset_indices,\n",
    "                                                                                   True)\n",
    "    else:\n",
    "        with open(dataset_name) as f:\n",
    "            train_dataset, explain_dataset, explain_indices = import_dataset_arff(\n",
    "                f, explain_dataset_indices, True)\n",
    "\n",
    "    clf = get_classifier(classifier_name).fit(train_dataset.X_numpy(),\n",
    "                                              train_dataset.Y_numpy())\n",
    "    explainer = XPLAIN_explainer(clf, train_dataset)\n",
    "\n",
    "    decoded_instance = explain_dataset.get_decoded(ix)\n",
    "\n",
    "    cc = explain_dataset.class_column_name()\n",
    "    decoded_target_class = decoded_instance[cc]\n",
    "\n",
    "    return explainer.explain_instance(explain_dataset[ix], decoded_target_class)\n"
   ]
  },
  {
   "cell_type": "code",
   "execution_count": 5,
   "metadata": {},
   "outputs": [],
   "source": [
    "def plot(e):\n",
    "\n",
    "    fig, pred_ax = plt.subplots(1, 1)\n",
    "    \n",
    "    attrs = [f\"{k}\" for k,v in (e['instance'].items())][:-1]\n",
    "    values = [f\"{k}={v}\" for k,v in (e['instance'].items())]\n",
    "    \n",
    "    pred_ax.set_title(\n",
    "f\"\"\"Importance\n",
    "$P[y={e['target_class']} | x=({\", \".join(values)})]={e['prob']:.3f}$\"\"\", pad=12\n",
    "    )\n",
    "    pred_ax.set_ylabel(\"Attribute or rule\", labelpad=2)\n",
    "    pred_ax.set_xlabel(fr\"${e['prob']:.3f} - P[y={e['target_class']} | x \\setminus A_i]$\",labelpad=12)\n",
    "    \n",
    "    pred_ax.grid(True)\n",
    "    \n",
    "    pred_ax.barh(\n",
    "        attrs + [\",\".join([(lambda x: f\"{x[0]}\")(list(e['instance'].to_dict().items())[int(a)-1]) for a in ats.split(',')]) for ats in e['map_difference'].keys()],\n",
    "        width=e['diff_single'] + list(e['map_difference'].values())\n",
    "    )\n"
   ]
  },
  {
   "cell_type": "code",
   "execution_count": 9,
   "metadata": {},
   "outputs": [
    {
     "name": "stdout",
     "output_type": "stream",
     "text": [
      "compute_lace_step k=21\n",
      "compute_lace_step k=42\n",
      "compute_lace_step k=63\n",
      "compute_lace_step k=84\n",
      "compute_lace_step k=105\n",
      "compute_lace_step k=126\n",
      "compute_lace_step k=147\n",
      "compute_lace_step k=168\n",
      "compute_lace_step k=189\n",
      "compute_lace_step k=210\n",
      "explain_instance errors: 1.713E-01, 1.713E-01, 1.713E-01, 1.713E-01, 1.713E-01, 1.713E-01, 1.713E-01, 1.713E-01, 1.713E-01, 1.713E-01\n",
      "{'XPLAIN_explainer_o': <src.XPLAIN_explainer.XPLAIN_explainer object at 0x7f693ab73e10>, 'diff_single': [-0.06481316775502677, -0.04077000781139345, -0.010571465928103818, 8.012180004679514e-06, -0.059749851967093426, 0.008616143988202207], 'map_difference': {}, 'k': 210, 'error': 0.1713031714481183, 'instance': a    1\n",
      "b    1\n",
      "c    1\n",
      "d    2\n",
      "e    3\n",
      "f    2\n",
      "y    1\n",
      "dtype: object, 'target_class': '1', 'errors': [0.1713031714481183, 0.1713031714481183, 0.1713031714481183, 0.1713031714481183, 0.1713031714481183, 0.1713031714481183, 0.1713031714481183, 0.1713031714481183, 0.1713031714481183, 0.1713031714481183], 'instance_class_index': 1, 'prob': 0.33746875837644313}\n"
     ]
    },
    {
     "data": {
      "image/png": "[encoded data removed]",
      "text/plain": [
       "<Figure size 720x720 with 1 Axes>"
      ]
     },
     "metadata": {
      "image/png": {
       "height": 661,
       "width": 627
      },
      "needs_background": "light"
     },
     "output_type": "display_data"
    }
   ],
   "source": [
    "e = get_explanation(0, join(DEFAULT_DIR, \"datasets/monks.arff\"), \"sklearn_nb\")\n",
    "print(e)\n",
    "plot(e)"
   ]
  },
  {
   "cell_type": "code",
   "execution_count": null,
   "metadata": {},
   "outputs": [],
   "source": [
    "e = get_explanation(1, join(DEFAULT_DIR, \"datasets/monks.arff\"), \"sklearn_nb\")\n",
    "print(e)\n",
    "plot(e)"
   ]
  },
  {
   "cell_type": "code",
   "execution_count": null,
   "metadata": {},
   "outputs": [],
   "source": [
    "e = get_explanation(2, join(DEFAULT_DIR, \"datasets/monks.arff\"), \"sklearn_nb\")\n",
    "print(e)\n",
    "plot(e)"
   ]
  },
  {
   "cell_type": "code",
   "execution_count": null,
   "metadata": {},
   "outputs": [],
   "source": [
    "e = get_explanation(3, join(DEFAULT_DIR, \"datasets/monks.arff\"), \"sklearn_nb\")\n",
    "print(e)\n",
    "plot(e)"
   ]
  },
  {
   "cell_type": "code",
   "execution_count": null,
   "metadata": {},
   "outputs": [],
   "source": [
    "e = get_explanation(4, join(DEFAULT_DIR, \"datasets/monks.arff\"), \"sklearn_nb\")\n",
    "print(e)\n",
    "plot(e)"
   ]
  },
  {
   "cell_type": "code",
   "execution_count": null,
   "metadata": {
    "scrolled": false
   },
   "outputs": [],
   "source": [
    "for i in range(20):\n",
    "    e = get_explanation(5, join(DEFAULT_DIR, \"datasets/monks.arff\"), \"sklearn_nb\")\n",
    "    print(e)\n",
    "    plot(e)"
   ]
  }
 ],
 "metadata": {
  "kernelspec": {
   "display_name": "Python 3",
   "language": "python",
   "name": "python3"
  },
  "language_info": {
   "codemirror_mode": {
    "name": "ipython",
    "version": 3
   },
   "file_extension": ".py",
   "mimetype": "text/x-python",
   "name": "python",
   "nbconvert_exporter": "python",
   "pygments_lexer": "ipython3",
   "version": "3.6.8"
  },
  "toc": {
   "base_numbering": 1,
   "nav_menu": {},
   "number_sections": true,
   "sideBar": true,
   "skip_h1_title": false,
   "title_cell": "Table of Contents",
   "title_sidebar": "Contents",
   "toc_cell": false,
   "toc_position": {},
   "toc_section_display": true,
   "toc_window_display": false
  },
  "varInspector": {
   "cols": {
    "lenName": 16,
    "lenType": 16,
    "lenVar": 40
   },
   "kernels_config": {
    "python": {
     "delete_cmd_postfix": "",
     "delete_cmd_prefix": "del ",
     "library": "var_list.py",
     "varRefreshCmd": "print(var_dic_list())"
    },
    "r": {
     "delete_cmd_postfix": ") ",
     "delete_cmd_prefix": "rm(",
     "library": "var_list.r",
     "varRefreshCmd": "cat(var_dic_list()) "
    }
   },
   "position": {
    "height": "144.85px",
    "left": "1549px",
    "right": "20px",
    "top": "120px",
    "width": "350px"
   },
   "types_to_exclude": [
    "module",
    "function",
    "builtin_function_or_method",
    "instance",
    "_Feature"
   ],
   "window_display": true
  }
 },
 "nbformat": 4,
 "nbformat_minor": 4
}
