{
 "cells": [
  {
   "cell_type": "code",
   "execution_count": 1,
   "metadata": {
    "slideshow": {
     "slide_type": "skip"
    }
   },
   "outputs": [],
   "source": [
    "import warnings\n",
    "from IPython.display import display, Latex\n",
    "from IPython.display import Markdown as md\n",
    "warnings.filterwarnings(\"ignore\", category=DeprecationWarning) \n",
    "from XPLAIN_class import *\n",
    "from XPLAIN_util import *\n",
    "x=XPLAIN_util()\n",
    "e=Explanation_w()"
   ]
  },
  {
   "cell_type": "markdown",
   "metadata": {
    "slideshow": {
     "slide_type": "slide"
    }
   },
   "source": [
    "### Human-in-the-loop - Rule inspection\n",
    "Users can add additional rules and inspect their contribution to the prediction"
   ]
  },
  {
   "cell_type": "markdown",
   "metadata": {
    "slideshow": {
     "slide_type": "slide"
    }
   },
   "source": [
    "Case 1: zoo dataset"
   ]
  },
  {
   "cell_type": "code",
   "execution_count": 2,
   "metadata": {
    "slideshow": {
     "slide_type": "-"
    }
   },
   "outputs": [
    {
     "data": {
      "text/markdown": [
       "Zoo - RF"
      ],
      "text/plain": [
       "<IPython.core.display.Markdown object>"
      ]
     },
     "metadata": {},
     "output_type": "display_data"
    },
    {
     "data": {
      "application/vnd.jupyter.widget-view+json": {
       "model_id": "53a977279af64b20b49a830ab502a62b",
       "version_major": 2,
       "version_minor": 0
      },
      "text/plain": [
       "Label(value='Select dataset and classifier:')"
      ]
     },
     "metadata": {},
     "output_type": "display_data"
    },
    {
     "data": {
      "application/vnd.jupyter.widget-view+json": {
       "model_id": "15d774420b2b4603a1380bfe734035c4",
       "version_major": 2,
       "version_minor": 0
      },
      "text/plain": [
       "VBox(children=(Dropdown(description='Dataset', options=('monks-1', 'zoo', 'adult'), value='monks-1'), Dropdown…"
      ]
     },
     "metadata": {},
     "output_type": "display_data"
    },
    {
     "data": {
      "application/vnd.jupyter.widget-view+json": {
       "model_id": "e820315b829c4d1c95e4ce8759558d54",
       "version_major": 2,
       "version_minor": 0
      },
      "text/plain": [
       "Button(description='Select', style=ButtonStyle())"
      ]
     },
     "metadata": {},
     "output_type": "display_data"
    }
   ],
   "source": [
    "display(md(\"Zoo - RF\"))\n",
    "x.interactiveDatasetClassifierSelection()"
   ]
  },
  {
   "cell_type": "code",
   "execution_count": 3,
   "metadata": {
    "slideshow": {
     "slide_type": "skip"
    }
   },
   "outputs": [],
   "source": [
    "#Demo purposes\n",
    "if x.getXPLAIN_obj()==None:\n",
    "    xPzooRF=deepcopy(x.def_XPLAIN_o(\"zoo\", \"rf\"))\n",
    "else:\n",
    "    xPzooRF=deepcopy(x.getXPLAIN_obj())"
   ]
  },
  {
   "cell_type": "markdown",
   "metadata": {
    "slideshow": {
     "slide_type": "slide"
    }
   },
   "source": [
    "Explanation with respect to the predicted class"
   ]
  },
  {
   "cell_type": "code",
   "execution_count": 4,
   "metadata": {
    "scrolled": true,
    "slideshow": {
     "slide_type": "-"
    }
   },
   "outputs": [
    {
     "data": {
      "application/vnd.jupyter.widget-view+json": {
       "model_id": "ef25bb9039354726803f4c4d21b82858",
       "version_major": 2,
       "version_minor": 0
      },
      "text/plain": [
       "Label(value='Select instance to be explained and target class:')"
      ]
     },
     "metadata": {},
     "output_type": "display_data"
    },
    {
     "data": {
      "application/vnd.jupyter.widget-view+json": {
       "model_id": "472245df6b8c4301931cf383ab6f5418",
       "version_major": 2,
       "version_minor": 0
      },
      "text/plain": [
       "VBox(children=(Dropdown(description='ID', options=('0', '1', '3', '8', '10', '12', '15', '17', '26', '32', '48…"
      ]
     },
     "metadata": {},
     "output_type": "display_data"
    },
    {
     "data": {
      "application/vnd.jupyter.widget-view+json": {
       "model_id": "625d87828c554a698fd0c3d4a1d4c0a8",
       "version_major": 2,
       "version_minor": 0
      },
      "text/plain": [
       "HBox(children=(Button(description='Compute', style=ButtonStyle()), Button(description='Clear', style=ButtonSty…"
      ]
     },
     "metadata": {},
     "output_type": "display_data"
    }
   ],
   "source": [
    "%matplotlib inline\n",
    "e.interactiveGetExplanation(xPzooRF)"
   ]
  },
  {
   "cell_type": "code",
   "execution_count": 5,
   "metadata": {
    "slideshow": {
     "slide_type": "slide"
    }
   },
   "outputs": [
    {
     "data": {
      "image/png": "[encoded data removed]",
      "text/plain": [
       "<Figure size 748.8x514.8 with 1 Axes>"
      ]
     },
     "metadata": {},
     "output_type": "display_data"
    },
    {
     "name": "stdout",
     "output_type": "stream",
     "text": [
      "\n",
      "Local rules:\n",
      "Rule_1  ->  {hair=1, feathers=0, eggs=0, milk=1, toothed=1, backbone=1, breathes=1, venomous=0}\n"
     ]
    }
   ],
   "source": [
    "%matplotlib inline\n",
    "#Demo purposes\n",
    "if e.getExpl()==None:\n",
    "    expz=deepcopy(e.def_Explanation(xPzooRF))\n",
    "else:\n",
    "    expz=deepcopy(e.getExpl())"
   ]
  },
  {
   "cell_type": "markdown",
   "metadata": {
    "slideshow": {
     "slide_type": "slide"
    }
   },
   "source": [
    "User-defined rules"
   ]
  },
  {
   "cell_type": "code",
   "execution_count": 6,
   "metadata": {
    "scrolled": true,
    "slideshow": {
     "slide_type": "-"
    }
   },
   "outputs": [
    {
     "data": {
      "text/markdown": [
       "Select the attributes of the interest"
      ],
      "text/plain": [
       "<IPython.core.display.Markdown object>"
      ]
     },
     "metadata": {},
     "output_type": "display_data"
    },
    {
     "data": {
      "application/vnd.jupyter.widget-view+json": {
       "model_id": "6a5f19396b7a4a10ba4c67664431b8dc",
       "version_major": 2,
       "version_minor": 0
      },
      "text/plain": [
       "SelectMultiple(description='Feature', options=('hair', 'feathers', 'eggs', 'milk', 'airborne', 'aquatic', 'pre…"
      ]
     },
     "metadata": {},
     "output_type": "display_data"
    },
    {
     "data": {
      "application/vnd.jupyter.widget-view+json": {
       "model_id": "95669d6d36ef4777a6d97471391d4b39",
       "version_major": 2,
       "version_minor": 0
      },
      "text/plain": [
       "HBox(children=(Button(description='Compute', style=ButtonStyle()), Button(description='Clear', style=ButtonSty…"
      ]
     },
     "metadata": {},
     "output_type": "display_data"
    }
   ],
   "source": [
    "display(md(\"Select the attributes of the interest\"))\n",
    "expz.insertInteractiveRule()"
   ]
  },
  {
   "cell_type": "markdown",
   "metadata": {
    "slideshow": {
     "slide_type": "slide"
    }
   },
   "source": [
    "Case 2: Monks dataset"
   ]
  },
  {
   "cell_type": "code",
   "execution_count": 7,
   "metadata": {
    "slideshow": {
     "slide_type": "-"
    }
   },
   "outputs": [
    {
     "data": {
      "text/markdown": [
       "Monks-1 - NN"
      ],
      "text/plain": [
       "<IPython.core.display.Markdown object>"
      ]
     },
     "metadata": {},
     "output_type": "display_data"
    },
    {
     "data": {
      "application/vnd.jupyter.widget-view+json": {
       "model_id": "bca6af8679aa4aadb802e7a42e8135f5",
       "version_major": 2,
       "version_minor": 0
      },
      "text/plain": [
       "Label(value='Select dataset and classifier:')"
      ]
     },
     "metadata": {},
     "output_type": "display_data"
    },
    {
     "data": {
      "application/vnd.jupyter.widget-view+json": {
       "model_id": "88cce78f55664fb9934685f972907f80",
       "version_major": 2,
       "version_minor": 0
      },
      "text/plain": [
       "VBox(children=(Dropdown(description='Dataset', options=('monks-1', 'zoo', 'adult'), value='monks-1'), Dropdown…"
      ]
     },
     "metadata": {},
     "output_type": "display_data"
    },
    {
     "data": {
      "application/vnd.jupyter.widget-view+json": {
       "model_id": "94be6238dada4151b516527aa5616b35",
       "version_major": 2,
       "version_minor": 0
      },
      "text/plain": [
       "Button(description='Select', style=ButtonStyle())"
      ]
     },
     "metadata": {},
     "output_type": "display_data"
    }
   ],
   "source": [
    "display(md(\"Monks-1 - NN\"))\n",
    "#8\n",
    "x=XPLAIN_util()\n",
    "x.interactiveDatasetClassifierSelection()"
   ]
  },
  {
   "cell_type": "code",
   "execution_count": 8,
   "metadata": {
    "slideshow": {
     "slide_type": "skip"
    }
   },
   "outputs": [],
   "source": [
    "#Demo purposes\n",
    "if x.getXPLAIN_obj()==None:\n",
    "    xPmNN=deepcopy(x.def_XPLAIN_o(\"monks-1\", \"nn\"))\n",
    "else:\n",
    "    xPmNN=deepcopy(x.getXPLAIN_obj())"
   ]
  },
  {
   "cell_type": "markdown",
   "metadata": {
    "slideshow": {
     "slide_type": "slide"
    }
   },
   "source": [
    "Explanation with respect to the predicted class"
   ]
  },
  {
   "cell_type": "code",
   "execution_count": 9,
   "metadata": {
    "scrolled": true,
    "slideshow": {
     "slide_type": "-"
    }
   },
   "outputs": [
    {
     "data": {
      "application/vnd.jupyter.widget-view+json": {
       "model_id": "ab92a9d144ae4bfa9f377e0b42b71cfd",
       "version_major": 2,
       "version_minor": 0
      },
      "text/plain": [
       "Label(value='Select instance to be explained and target class:')"
      ]
     },
     "metadata": {},
     "output_type": "display_data"
    },
    {
     "data": {
      "application/vnd.jupyter.widget-view+json": {
       "model_id": "9f9866465d9d4389a7f93c76a6c02166",
       "version_major": 2,
       "version_minor": 0
      },
      "text/plain": [
       "VBox(children=(Dropdown(description='ID', options=('0', '1', '2', '8', '9', '10', '15', '17', '22', '26', '29'…"
      ]
     },
     "metadata": {},
     "output_type": "display_data"
    },
    {
     "data": {
      "application/vnd.jupyter.widget-view+json": {
       "model_id": "97bace70665a4d14a011ae0511809bfa",
       "version_major": 2,
       "version_minor": 0
      },
      "text/plain": [
       "HBox(children=(Button(description='Compute', style=ButtonStyle()), Button(description='Clear', style=ButtonSty…"
      ]
     },
     "metadata": {},
     "output_type": "display_data"
    }
   ],
   "source": [
    "e=Explanation_w()\n",
    "e.interactiveGetExplanation(xPmNN)"
   ]
  },
  {
   "cell_type": "code",
   "execution_count": 10,
   "metadata": {
    "slideshow": {
     "slide_type": "slide"
    }
   },
   "outputs": [
    {
     "data": {
      "image/png": "[encoded data removed]",
      "text/plain": [
       "<Figure size 748.8x514.8 with 1 Axes>"
      ]
     },
     "metadata": {},
     "output_type": "display_data"
    },
    {
     "name": "stdout",
     "output_type": "stream",
     "text": [
      "\n",
      "Local rules:\n",
      "Rule_1  ->  {a=1, b=1}\n"
     ]
    }
   ],
   "source": [
    "%matplotlib inline\n",
    "#Demo purposes\n",
    "if e.getExpl()==None:\n",
    "    exp2=deepcopy(e.def_Explanation(xPmNN))\n",
    "else:\n",
    "    exp2=deepcopy(e.getExpl())"
   ]
  },
  {
   "cell_type": "markdown",
   "metadata": {
    "slideshow": {
     "slide_type": "slide"
    }
   },
   "source": [
    "User-defined rules"
   ]
  },
  {
   "cell_type": "code",
   "execution_count": 11,
   "metadata": {
    "scrolled": true,
    "slideshow": {
     "slide_type": "-"
    }
   },
   "outputs": [
    {
     "data": {
      "text/markdown": [
       "Select the attributes of the interest"
      ],
      "text/plain": [
       "<IPython.core.display.Markdown object>"
      ]
     },
     "metadata": {},
     "output_type": "display_data"
    },
    {
     "data": {
      "application/vnd.jupyter.widget-view+json": {
       "model_id": "5715434ba58645b4bade021580811a24",
       "version_major": 2,
       "version_minor": 0
      },
      "text/plain": [
       "SelectMultiple(description='Feature', options=('a', 'b', 'c', 'd', 'e', 'f'), value=())"
      ]
     },
     "metadata": {},
     "output_type": "display_data"
    },
    {
     "data": {
      "application/vnd.jupyter.widget-view+json": {
       "model_id": "264e6b6fb97f4fa9a3c05e4a34922ce8",
       "version_major": 2,
       "version_minor": 0
      },
      "text/plain": [
       "HBox(children=(Button(description='Compute', style=ButtonStyle()), Button(description='Clear', style=ButtonSty…"
      ]
     },
     "metadata": {},
     "output_type": "display_data"
    }
   ],
   "source": [
    "display(md(\"Select the attributes of the interest\"))\n",
    "exp2.insertInteractiveRule()"
   ]
  },
  {
   "cell_type": "code",
   "execution_count": 12,
   "metadata": {
    "slideshow": {
     "slide_type": "slide"
    }
   },
   "outputs": [
    {
     "data": {
      "text/markdown": [
       "Monks-1 - NB"
      ],
      "text/plain": [
       "<IPython.core.display.Markdown object>"
      ]
     },
     "metadata": {},
     "output_type": "display_data"
    },
    {
     "data": {
      "application/vnd.jupyter.widget-view+json": {
       "model_id": "317427208a254ae2a22040bf0387457e",
       "version_major": 2,
       "version_minor": 0
      },
      "text/plain": [
       "Label(value='Select dataset and classifier:')"
      ]
     },
     "metadata": {},
     "output_type": "display_data"
    },
    {
     "data": {
      "application/vnd.jupyter.widget-view+json": {
       "model_id": "be76417349ce472498efd4c7a1846b23",
       "version_major": 2,
       "version_minor": 0
      },
      "text/plain": [
       "VBox(children=(Dropdown(description='Dataset', options=('monks-1', 'zoo', 'adult'), value='monks-1'), Dropdown…"
      ]
     },
     "metadata": {},
     "output_type": "display_data"
    },
    {
     "data": {
      "application/vnd.jupyter.widget-view+json": {
       "model_id": "b6401edc162c496abb50bae9a6a0160b",
       "version_major": 2,
       "version_minor": 0
      },
      "text/plain": [
       "Button(description='Select', style=ButtonStyle())"
      ]
     },
     "metadata": {},
     "output_type": "display_data"
    }
   ],
   "source": [
    "display(md(\"Monks-1 - NB\"))\n",
    "#1\n",
    "x=XPLAIN_util()\n",
    "x.interactiveDatasetClassifierSelection()"
   ]
  },
  {
   "cell_type": "code",
   "execution_count": 13,
   "metadata": {
    "slideshow": {
     "slide_type": "skip"
    }
   },
   "outputs": [],
   "source": [
    "#Demo purposes\n",
    "if x.getXPLAIN_obj()==None:\n",
    "    xPmNB=deepcopy(x.def_XPLAIN_o(\"monks-1\", \"nb\"))\n",
    "else:\n",
    "    xPmNB=deepcopy(x.getXPLAIN_obj())"
   ]
  },
  {
   "cell_type": "markdown",
   "metadata": {
    "slideshow": {
     "slide_type": "slide"
    }
   },
   "source": [
    "Explanation with respect to the predicted class"
   ]
  },
  {
   "cell_type": "code",
   "execution_count": 14,
   "metadata": {
    "scrolled": true,
    "slideshow": {
     "slide_type": "-"
    }
   },
   "outputs": [
    {
     "data": {
      "application/vnd.jupyter.widget-view+json": {
       "model_id": "a7bf8399dbc047b2b2763be8c4bcc2d7",
       "version_major": 2,
       "version_minor": 0
      },
      "text/plain": [
       "Label(value='Select instance to be explained and target class:')"
      ]
     },
     "metadata": {},
     "output_type": "display_data"
    },
    {
     "data": {
      "application/vnd.jupyter.widget-view+json": {
       "model_id": "7de3c7975d7e47d1866b93ed9cce1e68",
       "version_major": 2,
       "version_minor": 0
      },
      "text/plain": [
       "VBox(children=(Dropdown(description='ID', options=('0', '1', '2', '8', '9', '10', '15', '17', '22', '26', '29'…"
      ]
     },
     "metadata": {},
     "output_type": "display_data"
    },
    {
     "data": {
      "application/vnd.jupyter.widget-view+json": {
       "model_id": "a767b83f99ef4fd8aa04d053b255601d",
       "version_major": 2,
       "version_minor": 0
      },
      "text/plain": [
       "HBox(children=(Button(description='Compute', style=ButtonStyle()), Button(description='Clear', style=ButtonSty…"
      ]
     },
     "metadata": {},
     "output_type": "display_data"
    }
   ],
   "source": [
    "e=Explanation_w()\n",
    "e.interactiveGetExplanation(xPmNB)"
   ]
  },
  {
   "cell_type": "code",
   "execution_count": 15,
   "metadata": {
    "slideshow": {
     "slide_type": "slide"
    }
   },
   "outputs": [
    {
     "data": {
      "image/png": "[encoded data removed]",
      "text/plain": [
       "<Figure size 748.8x514.8 with 1 Axes>"
      ]
     },
     "metadata": {},
     "output_type": "display_data"
    },
    {
     "name": "stdout",
     "output_type": "stream",
     "text": [
      "\n",
      "Local rules:\n",
      "Rule_1  ->  {d=1}\n",
      "Rule_2  ->  {e=3}\n",
      "Union of rule bodies:\n",
      "Rule_U  ->  {d=1, e=3}\n"
     ]
    }
   ],
   "source": [
    "%matplotlib inline\n",
    "#Demo purposes\n",
    "if e.getExpl()==None:\n",
    "    expNB=deepcopy(e.def_Explanation(xPmNB))\n",
    "else:\n",
    "    expNB=deepcopy(e.getExpl())"
   ]
  },
  {
   "cell_type": "markdown",
   "metadata": {
    "slideshow": {
     "slide_type": "slide"
    }
   },
   "source": [
    "User-defined rules"
   ]
  },
  {
   "cell_type": "code",
   "execution_count": 16,
   "metadata": {
    "scrolled": true,
    "slideshow": {
     "slide_type": "-"
    }
   },
   "outputs": [
    {
     "data": {
      "application/vnd.jupyter.widget-view+json": {
       "model_id": "835b6de509e04b6bb20aee229c7ee0f7",
       "version_major": 2,
       "version_minor": 0
      },
      "text/plain": [
       "SelectMultiple(description='Feature', options=('a', 'b', 'c', 'd', 'e', 'f'), value=())"
      ]
     },
     "metadata": {},
     "output_type": "display_data"
    },
    {
     "data": {
      "application/vnd.jupyter.widget-view+json": {
       "model_id": "bd4b2efefb4a4612a866f56a6120fe98",
       "version_major": 2,
       "version_minor": 0
      },
      "text/plain": [
       "HBox(children=(Button(description='Compute', style=ButtonStyle()), Button(description='Clear', style=ButtonSty…"
      ]
     },
     "metadata": {},
     "output_type": "display_data"
    }
   ],
   "source": [
    "expNB.insertInteractiveRule()"
   ]
  }
 ],
 "metadata": {
  "celltoolbar": "Slideshow",
  "hide_input": true,
  "kernelspec": {
   "display_name": "Python 3",
   "language": "python",
   "name": "python3"
  },
  "language_info": {
   "codemirror_mode": {
    "name": "ipython",
    "version": 3
   },
   "file_extension": ".py",
   "mimetype": "text/x-python",
   "name": "python",
   "nbconvert_exporter": "python",
   "pygments_lexer": "ipython3",
   "version": "3.6.5"
  },
  "varInspector": {
   "cols": {
    "lenName": 16,
    "lenType": 16,
    "lenVar": 40
   },
   "kernels_config": {
    "python": {
     "delete_cmd_postfix": "",
     "delete_cmd_prefix": "del ",
     "library": "var_list.py",
     "varRefreshCmd": "print(var_dic_list())"
    },
    "r": {
     "delete_cmd_postfix": ") ",
     "delete_cmd_prefix": "rm(",
     "library": "var_list.r",
     "varRefreshCmd": "cat(var_dic_list()) "
    }
   },
   "types_to_exclude": [
    "module",
    "function",
    "builtin_function_or_method",
    "instance",
    "_Feature"
   ],
   "window_display": false
  },
  "widgets": {
   "application/vnd.jupyter.widget-state+json": {
    "state": {
     "005b76ac6d9d432d97818fc25143652d": {
      "model_module": "@jupyter-widgets/base",
      "model_module_version": "1.0.0",
      "model_name": "LayoutModel",
      "state": {}
     },
     "006262297e7d4f20ba1279f6c6599be1": {
      "model_module": "@jupyter-widgets/controls",
      "model_module_version": "1.2.0",
      "model_name": "SelectMultipleModel",
      "state": {
       "_options_labels": [
        "hair",
        "feathers",
        "eggs",
        "milk",
        "airborne",
        "aquatic",
        "predator",
        "toothed",
        "backbone",
        "breathes",
        "venomous",
        "fins",
        "legs",
        "tail",
        "domestic",
        "catsize"
       ],
       "description": "Feature",
       "index": [
        1,
        2
       ],
       "layout": "IPY_MODEL_3f520c7af09647028545ca57068ce6ce",
       "rows": 5,
       "style": "IPY_MODEL_57395e8e366b4978bed153a917587308"
      }
     },
     "04741718bb964d6ead139cf3c2695a5e": {
      "model_module": "@jupyter-widgets/controls",
      "model_module_version": "1.2.0",
      "model_name": "DescriptionStyleModel",
      "state": {
       "description_width": ""
      }
     },
     "04969d0c273d4716a4ce06087b61113b": {
      "model_module": "@jupyter-widgets/controls",
      "model_module_version": "1.2.0",
      "model_name": "ButtonModel",
      "state": {
       "description": "Clear",
       "layout": "IPY_MODEL_dfc43b03ad7b4387a1ea33a1699a003b",
       "style": "IPY_MODEL_5b5b46217d1e48beb06480c4cac7e233"
      }
     },
     "07b80b2a80b64400a7dd0e543a6dbbc3": {
      "model_module": "@jupyter-widgets/controls",
      "model_module_version": "1.2.0",
      "model_name": "SelectMultipleModel",
      "state": {
       "_options_labels": [
        "a",
        "b",
        "c",
        "d",
        "e",
        "f"
       ],
       "description": "Feature",
       "index": [
        2,
        3
       ],
       "layout": "IPY_MODEL_854b916190b14c5e9909230bf3214e9f",
       "rows": 5,
       "style": "IPY_MODEL_a881ea2208d44288bf819aa717ade353"
      }
     },
     "09a9ebdc055b4b17a95764d7facce084": {
      "model_module": "@jupyter-widgets/base",
      "model_module_version": "1.0.0",
      "model_name": "LayoutModel",
      "state": {}
     },
     "09c0aeb4bf2c43e889f58cb474d021fb": {
      "model_module": "@jupyter-widgets/controls",
      "model_module_version": "1.2.0",
      "model_name": "ButtonStyleModel",
      "state": {}
     },
     "0a65d721269c4224a5a9acf18debca2a": {
      "model_module": "@jupyter-widgets/controls",
      "model_module_version": "1.2.0",
      "model_name": "ButtonStyleModel",
      "state": {}
     },
     "0c71c505eb63454a8d3456bdb39224c9": {
      "model_module": "@jupyter-widgets/base",
      "model_module_version": "1.0.0",
      "model_name": "LayoutModel",
      "state": {}
     },
     "0eeb4ce2948c412dae84956a710ef036": {
      "model_module": "@jupyter-widgets/controls",
      "model_module_version": "1.2.0",
      "model_name": "ButtonModel",
      "state": {
       "description": "Compute",
       "layout": "IPY_MODEL_c096c6002ed14b1aa1886df0db52dc2d",
       "style": "IPY_MODEL_09c0aeb4bf2c43e889f58cb474d021fb"
      }
     },
     "104f768b893f4b66bb799bbd2b7fb481": {
      "model_module": "@jupyter-widgets/base",
      "model_module_version": "1.0.0",
      "model_name": "LayoutModel",
      "state": {}
     },
     "10609eeab62247e9afb46236a33809cd": {
      "model_module": "@jupyter-widgets/base",
      "model_module_version": "1.0.0",
      "model_name": "LayoutModel",
      "state": {}
     },
     "14e9199265dd4e7eb10003582b46f08f": {
      "model_module": "@jupyter-widgets/controls",
      "model_module_version": "1.2.0",
      "model_name": "DescriptionStyleModel",
      "state": {
       "description_width": ""
      }
     },
     "1743f8f39f0d4e358c02360ec3e3352d": {
      "model_module": "@jupyter-widgets/base",
      "model_module_version": "1.0.0",
      "model_name": "LayoutModel",
      "state": {}
     },
     "1a7d543d7d5245c0b4460213b1318555": {
      "model_module": "@jupyter-widgets/controls",
      "model_module_version": "1.2.0",
      "model_name": "ButtonModel",
      "state": {
       "description": "Clear",
       "layout": "IPY_MODEL_f59abb99c3604208aa0485dc5e7fd68f",
       "style": "IPY_MODEL_cbaa452163c746f39a094295fbcefe31"
      }
     },
     "1c633375177d43d7beb0df262c1429e7": {
      "model_module": "@jupyter-widgets/controls",
      "model_module_version": "1.2.0",
      "model_name": "ButtonModel",
      "state": {
       "description": "Compute",
       "layout": "IPY_MODEL_be4ebde9d81141919975c9730d7bb586",
       "style": "IPY_MODEL_f3a9db964d7f403d9b79e37f2398d99a"
      }
     },
     "1f3aa6b693e345d48169290b7862f5c8": {
      "model_module": "@jupyter-widgets/controls",
      "model_module_version": "1.2.0",
      "model_name": "SelectMultipleModel",
      "state": {
       "_options_labels": [
        "hair",
        "feathers",
        "eggs",
        "milk",
        "airborne",
        "aquatic",
        "predator",
        "toothed",
        "backbone",
        "breathes",
        "venomous",
        "fins",
        "legs",
        "tail",
        "domestic",
        "catsize"
       ],
       "description": "Feature",
       "index": [
        1,
        2
       ],
       "layout": "IPY_MODEL_769c7c51570f40cf8389939c392061c8",
       "rows": 5,
       "style": "IPY_MODEL_23e4a82706264f06b0ce2580b8647486"
      }
     },
     "1f9126bfdc29407bbf0901e1bf59e2a8": {
      "model_module": "@jupyter-widgets/controls",
      "model_module_version": "1.2.0",
      "model_name": "ButtonStyleModel",
      "state": {}
     },
     "23bed4ec9e4a49d3b64280d0c810a7d8": {
      "model_module": "@jupyter-widgets/base",
      "model_module_version": "1.0.0",
      "model_name": "LayoutModel",
      "state": {}
     },
     "23e4a82706264f06b0ce2580b8647486": {
      "model_module": "@jupyter-widgets/controls",
      "model_module_version": "1.2.0",
      "model_name": "DescriptionStyleModel",
      "state": {
       "description_width": ""
      }
     },
     "24bafa28d7324c469179a4ab96c58375": {
      "model_module": "@jupyter-widgets/controls",
      "model_module_version": "1.2.0",
      "model_name": "SelectMultipleModel",
      "state": {
       "_options_labels": [
        "hair",
        "feathers",
        "eggs",
        "milk",
        "airborne",
        "aquatic",
        "predator",
        "toothed",
        "backbone",
        "breathes",
        "venomous",
        "fins",
        "legs",
        "tail",
        "domestic",
        "catsize"
       ],
       "description": "Feature",
       "index": [],
       "layout": "IPY_MODEL_70afb165a94c4e42bfa54e32bba8ee97",
       "rows": 5,
       "style": "IPY_MODEL_4097241cc6fa4a88afb45aa04d8b7eec"
      }
     },
     "24c2ace2615c48ee9de335e51ab8861b": {
      "model_module": "@jupyter-widgets/base",
      "model_module_version": "1.0.0",
      "model_name": "LayoutModel",
      "state": {}
     },
     "25a07b33e05d47d3a118af1b204693a6": {
      "model_module": "@jupyter-widgets/base",
      "model_module_version": "1.0.0",
      "model_name": "LayoutModel",
      "state": {}
     },
     "25c50e2a07c843e2be395dd422242ce9": {
      "model_module": "@jupyter-widgets/controls",
      "model_module_version": "1.2.0",
      "model_name": "ButtonModel",
      "state": {
       "description": "Compute",
       "layout": "IPY_MODEL_3c6837b8dccf465e84aad67cbb60034b",
       "style": "IPY_MODEL_3e31e764cc4648ebab99fe917fb6afb6"
      }
     },
     "27222477bb47422e88a21deb5290f115": {
      "model_module": "@jupyter-widgets/base",
      "model_module_version": "1.0.0",
      "model_name": "LayoutModel",
      "state": {}
     },
     "27458fb12d3d4cb39a10d18949ff6aca": {
      "model_module": "@jupyter-widgets/controls",
      "model_module_version": "1.2.0",
      "model_name": "HBoxModel",
      "state": {
       "children": [
        "IPY_MODEL_c4e24506b59f4fe188523b3dcd2c1acf",
        "IPY_MODEL_dea59eba6c894eb9bfc5be54f662ab48"
       ],
       "layout": "IPY_MODEL_cad8ae44bcee4dbf9417cc654f935142"
      }
     },
     "28e1b0921eeb4f9097991ca5fa88b18f": {
      "model_module": "@jupyter-widgets/controls",
      "model_module_version": "1.2.0",
      "model_name": "HBoxModel",
      "state": {
       "children": [
        "IPY_MODEL_f4cd33e732054bcca681531dbc6db776",
        "IPY_MODEL_ed018d819afb45d6835fcb858468b432"
       ],
       "layout": "IPY_MODEL_3bd4c94f922f4f7eb6d73fe43bb317bf"
      }
     },
     "290099008c2e4554955c5f7ac32236f9": {
      "model_module": "@jupyter-widgets/base",
      "model_module_version": "1.0.0",
      "model_name": "LayoutModel",
      "state": {}
     },
     "29909bd94df541b69273753267e31d9e": {
      "model_module": "@jupyter-widgets/controls",
      "model_module_version": "1.2.0",
      "model_name": "SelectMultipleModel",
      "state": {
       "_options_labels": [
        "hair",
        "feathers",
        "eggs",
        "milk",
        "airborne",
        "aquatic",
        "predator",
        "toothed",
        "backbone",
        "breathes",
        "venomous",
        "fins",
        "legs",
        "tail",
        "domestic",
        "catsize"
       ],
       "description": "Feature",
       "index": [
        0,
        1
       ],
       "layout": "IPY_MODEL_de154a9453344f0180d69cfa31006860",
       "rows": 5,
       "style": "IPY_MODEL_2fa66c758b4f497f8ccd31c7dfbcc1ec"
      }
     },
     "29f4c8bed13e45aab9855d6663687a07": {
      "model_module": "@jupyter-widgets/controls",
      "model_module_version": "1.2.0",
      "model_name": "ButtonStyleModel",
      "state": {}
     },
     "2a5b7ef5f2f94938b3cf4c83fa96bbc9": {
      "model_module": "@jupyter-widgets/controls",
      "model_module_version": "1.2.0",
      "model_name": "ButtonModel",
      "state": {
       "description": "Clear",
       "layout": "IPY_MODEL_89aa27487f354df8ae0a940b79449afd",
       "style": "IPY_MODEL_d4d4cbdfa139462ebbe762f5b92c69d0"
      }
     },
     "2b00a8ccaa3c4405b2e55a9ee8b8b280": {
      "model_module": "@jupyter-widgets/controls",
      "model_module_version": "1.2.0",
      "model_name": "ButtonModel",
      "state": {
       "description": "Clear",
       "layout": "IPY_MODEL_ca63b4308f194777915588ad87bd9fac",
       "style": "IPY_MODEL_0a65d721269c4224a5a9acf18debca2a"
      }
     },
     "2ca151c563854133b6b036fc8e0ed4c4": {
      "model_module": "@jupyter-widgets/base",
      "model_module_version": "1.0.0",
      "model_name": "LayoutModel",
      "state": {}
     },
     "2e12900f326c4a9eba61ec7f0f0ba8b6": {
      "model_module": "@jupyter-widgets/base",
      "model_module_version": "1.0.0",
      "model_name": "LayoutModel",
      "state": {}
     },
     "2f4f2d7d2bde4fd59bd5e2a6395d7e3c": {
      "model_module": "@jupyter-widgets/base",
      "model_module_version": "1.0.0",
      "model_name": "LayoutModel",
      "state": {}
     },
     "2fa66c758b4f497f8ccd31c7dfbcc1ec": {
      "model_module": "@jupyter-widgets/controls",
      "model_module_version": "1.2.0",
      "model_name": "DescriptionStyleModel",
      "state": {
       "description_width": ""
      }
     },
     "30f23039f73e4c7ca695aee6be582e2c": {
      "model_module": "@jupyter-widgets/controls",
      "model_module_version": "1.2.0",
      "model_name": "ButtonStyleModel",
      "state": {}
     },
     "324a11a5a2934139a66cc0c994c07449": {
      "model_module": "@jupyter-widgets/controls",
      "model_module_version": "1.2.0",
      "model_name": "ButtonModel",
      "state": {
       "description": "Compute",
       "layout": "IPY_MODEL_b4f5bc26d04f4886a77e8cf2fa59409f",
       "style": "IPY_MODEL_776f5ddc998c449ba1759698f677af45"
      }
     },
     "3276a06948c34dc38fa82a3540be7004": {
      "model_module": "@jupyter-widgets/base",
      "model_module_version": "1.0.0",
      "model_name": "LayoutModel",
      "state": {}
     },
     "34fd37b6708c4b49978f9d71c24f3d22": {
      "model_module": "@jupyter-widgets/controls",
      "model_module_version": "1.2.0",
      "model_name": "HBoxModel",
      "state": {
       "children": [
        "IPY_MODEL_0eeb4ce2948c412dae84956a710ef036",
        "IPY_MODEL_51fdd2daca604c48b8fd9585f39979fa"
       ],
       "layout": "IPY_MODEL_725dcfc56ef1434e8cd1ced7397146c5"
      }
     },
     "356fbf59d9b346e68b54341fd2a811b8": {
      "model_module": "@jupyter-widgets/controls",
      "model_module_version": "1.2.0",
      "model_name": "ButtonStyleModel",
      "state": {}
     },
     "37aed31da89d45ce9f87ec7b9b416b48": {
      "model_module": "@jupyter-widgets/controls",
      "model_module_version": "1.2.0",
      "model_name": "HBoxModel",
      "state": {
       "children": [
        "IPY_MODEL_fbef610955af4caeae923b1dc57966d1",
        "IPY_MODEL_2a5b7ef5f2f94938b3cf4c83fa96bbc9"
       ],
       "layout": "IPY_MODEL_892daaf8f7d44404a403c4a0789fdaa8"
      }
     },
     "38a96906c7b5400e97fd939ef1b1cdab": {
      "model_module": "@jupyter-widgets/controls",
      "model_module_version": "1.2.0",
      "model_name": "SelectMultipleModel",
      "state": {
       "_options_labels": [
        "a",
        "b",
        "c",
        "d",
        "e",
        "f"
       ],
       "description": "Feature",
       "index": [
        1,
        2
       ],
       "layout": "IPY_MODEL_d91cc367d15a41a0aabe868ae1d725ff",
       "rows": 5,
       "style": "IPY_MODEL_9cf930aa0ddb4aaaae9f3e4a42f1a659"
      }
     },
     "3968995c09c142ecbc4af9cfeabb7ef1": {
      "model_module": "@jupyter-widgets/base",
      "model_module_version": "1.0.0",
      "model_name": "LayoutModel",
      "state": {}
     },
     "3a629b2a70bd4d31b4b8e1fe2499d3e7": {
      "model_module": "@jupyter-widgets/base",
      "model_module_version": "1.0.0",
      "model_name": "LayoutModel",
      "state": {}
     },
     "3bd4c94f922f4f7eb6d73fe43bb317bf": {
      "model_module": "@jupyter-widgets/base",
      "model_module_version": "1.0.0",
      "model_name": "LayoutModel",
      "state": {}
     },
     "3c63f8b2af4c4f6093114b64590b6f52": {
      "model_module": "@jupyter-widgets/controls",
      "model_module_version": "1.2.0",
      "model_name": "ButtonModel",
      "state": {
       "description": "Compute",
       "layout": "IPY_MODEL_91adf090b1674cbf83df2204098eae28",
       "style": "IPY_MODEL_c506ac0da2034c8788366fc888aa7dbb"
      }
     },
     "3c6837b8dccf465e84aad67cbb60034b": {
      "model_module": "@jupyter-widgets/base",
      "model_module_version": "1.0.0",
      "model_name": "LayoutModel",
      "state": {}
     },
     "3c9ec95147b34c2fb48865a0d83738a8": {
      "model_module": "@jupyter-widgets/controls",
      "model_module_version": "1.2.0",
      "model_name": "ButtonModel",
      "state": {
       "description": "Clear",
       "layout": "IPY_MODEL_e49b571dde0c4a43bb9ebe86a2203bfd",
       "style": "IPY_MODEL_b39de891c2314612b39a792519096892"
      }
     },
     "3e31e764cc4648ebab99fe917fb6afb6": {
      "model_module": "@jupyter-widgets/controls",
      "model_module_version": "1.2.0",
      "model_name": "ButtonStyleModel",
      "state": {}
     },
     "3f520c7af09647028545ca57068ce6ce": {
      "model_module": "@jupyter-widgets/base",
      "model_module_version": "1.0.0",
      "model_name": "LayoutModel",
      "state": {}
     },
     "4097241cc6fa4a88afb45aa04d8b7eec": {
      "model_module": "@jupyter-widgets/controls",
      "model_module_version": "1.2.0",
      "model_name": "DescriptionStyleModel",
      "state": {
       "description_width": ""
      }
     },
     "41a54565cd284509b4ac89f13f9f0e17": {
      "model_module": "@jupyter-widgets/controls",
      "model_module_version": "1.2.0",
      "model_name": "HBoxModel",
      "state": {
       "children": [
        "IPY_MODEL_490d7cd8c2b0424d83971697919594bb",
        "IPY_MODEL_2b00a8ccaa3c4405b2e55a9ee8b8b280"
       ],
       "layout": "IPY_MODEL_8ce14ac1a49643828478210ced018eb4"
      }
     },
     "490d7cd8c2b0424d83971697919594bb": {
      "model_module": "@jupyter-widgets/controls",
      "model_module_version": "1.2.0",
      "model_name": "ButtonModel",
      "state": {
       "description": "Compute",
       "layout": "IPY_MODEL_b52c31507ea944358e7fa575682faa93",
       "style": "IPY_MODEL_b5272c58045746a4b49e7d63d25f538d"
      }
     },
     "4914976263864f6088bc38979e2c17ba": {
      "model_module": "@jupyter-widgets/controls",
      "model_module_version": "1.2.0",
      "model_name": "SelectMultipleModel",
      "state": {
       "_options_labels": [
        "a",
        "b",
        "c",
        "d",
        "e",
        "f"
       ],
       "description": "Feature",
       "index": [],
       "layout": "IPY_MODEL_25a07b33e05d47d3a118af1b204693a6",
       "rows": 5,
       "style": "IPY_MODEL_bf8bca862b6544969e9bc3483877ed0e"
      }
     },
     "493a830544ee4c59bacf9d91c3be61ce": {
      "model_module": "@jupyter-widgets/controls",
      "model_module_version": "1.2.0",
      "model_name": "DescriptionStyleModel",
      "state": {
       "description_width": ""
      }
     },
     "4cdb27825c5840d6bafc830406ad75b7": {
      "model_module": "@jupyter-widgets/controls",
      "model_module_version": "1.2.0",
      "model_name": "ButtonStyleModel",
      "state": {}
     },
     "4f077572744f4ac0b37ff979b6e39213": {
      "model_module": "@jupyter-widgets/base",
      "model_module_version": "1.0.0",
      "model_name": "LayoutModel",
      "state": {}
     },
     "51358f71ab574836a0c2e9714d2d5aac": {
      "model_module": "@jupyter-widgets/controls",
      "model_module_version": "1.2.0",
      "model_name": "ButtonModel",
      "state": {
       "description": "Compute",
       "layout": "IPY_MODEL_3276a06948c34dc38fa82a3540be7004",
       "style": "IPY_MODEL_4cdb27825c5840d6bafc830406ad75b7"
      }
     },
     "51fdd2daca604c48b8fd9585f39979fa": {
      "model_module": "@jupyter-widgets/controls",
      "model_module_version": "1.2.0",
      "model_name": "ButtonModel",
      "state": {
       "description": "Clear",
       "layout": "IPY_MODEL_58338f6141c941f78c2be080961066e1",
       "style": "IPY_MODEL_e2f8cf5b47e34e9b85b5a0a044281730"
      }
     },
     "5217c3e7ed1943428db97144088f6dca": {
      "model_module": "@jupyter-widgets/controls",
      "model_module_version": "1.2.0",
      "model_name": "ButtonModel",
      "state": {
       "description": "Clear",
       "layout": "IPY_MODEL_6c36d69e836548548f274dca9a016365",
       "style": "IPY_MODEL_782f819c794b4af1a237602175c1f21c"
      }
     },
     "55647787330f49df9c02900d0fd2b62a": {
      "model_module": "@jupyter-widgets/controls",
      "model_module_version": "1.2.0",
      "model_name": "ButtonStyleModel",
      "state": {}
     },
     "57395e8e366b4978bed153a917587308": {
      "model_module": "@jupyter-widgets/controls",
      "model_module_version": "1.2.0",
      "model_name": "DescriptionStyleModel",
      "state": {
       "description_width": ""
      }
     },
     "58338f6141c941f78c2be080961066e1": {
      "model_module": "@jupyter-widgets/base",
      "model_module_version": "1.0.0",
      "model_name": "LayoutModel",
      "state": {}
     },
     "5a40e96834144b0291560b2f105412bb": {
      "model_module": "@jupyter-widgets/controls",
      "model_module_version": "1.2.0",
      "model_name": "ButtonStyleModel",
      "state": {}
     },
     "5b5b46217d1e48beb06480c4cac7e233": {
      "model_module": "@jupyter-widgets/controls",
      "model_module_version": "1.2.0",
      "model_name": "ButtonStyleModel",
      "state": {}
     },
     "5b81180a4234476c9493614868ba77d5": {
      "model_module": "@jupyter-widgets/controls",
      "model_module_version": "1.2.0",
      "model_name": "HBoxModel",
      "state": {
       "children": [
        "IPY_MODEL_f3982c91d5b346f0b588ac4741b6bc5e",
        "IPY_MODEL_ab3bb3113c2440adaec82ef73644aeb0"
       ],
       "layout": "IPY_MODEL_96a39cc985354ae4a4c84551b71e906c"
      }
     },
     "5fbb2cbb3c244662bb7fba5ced2a1148": {
      "model_module": "@jupyter-widgets/controls",
      "model_module_version": "1.2.0",
      "model_name": "SelectMultipleModel",
      "state": {
       "_options_labels": [
        "a",
        "b",
        "c",
        "d",
        "e",
        "f"
       ],
       "description": "Feature",
       "index": [],
       "layout": "IPY_MODEL_2e12900f326c4a9eba61ec7f0f0ba8b6",
       "rows": 5,
       "style": "IPY_MODEL_14e9199265dd4e7eb10003582b46f08f"
      }
     },
     "62dbb70842d541adbffda314a953ff07": {
      "model_module": "@jupyter-widgets/base",
      "model_module_version": "1.0.0",
      "model_name": "LayoutModel",
      "state": {}
     },
     "6b80a2628202437c9fd20fcc84de22db": {
      "model_module": "@jupyter-widgets/controls",
      "model_module_version": "1.2.0",
      "model_name": "HBoxModel",
      "state": {
       "children": [
        "IPY_MODEL_97e7ca81a4584145bacedc6fefa5bb14",
        "IPY_MODEL_950958df151b4cdca07a1d0a96795b4b"
       ],
       "layout": "IPY_MODEL_104f768b893f4b66bb799bbd2b7fb481"
      }
     },
     "6c36d69e836548548f274dca9a016365": {
      "model_module": "@jupyter-widgets/base",
      "model_module_version": "1.0.0",
      "model_name": "LayoutModel",
      "state": {}
     },
     "6c46d58ff5c148baa29dd2585dd4c262": {
      "model_module": "@jupyter-widgets/controls",
      "model_module_version": "1.2.0",
      "model_name": "DescriptionStyleModel",
      "state": {
       "description_width": ""
      }
     },
     "6d2bd16f68394fb6b3465f9a12c3d0a6": {
      "model_module": "@jupyter-widgets/base",
      "model_module_version": "1.0.0",
      "model_name": "LayoutModel",
      "state": {}
     },
     "6d9a5a88122b4c45988902e168d39871": {
      "model_module": "@jupyter-widgets/controls",
      "model_module_version": "1.2.0",
      "model_name": "ButtonStyleModel",
      "state": {}
     },
     "70afb165a94c4e42bfa54e32bba8ee97": {
      "model_module": "@jupyter-widgets/base",
      "model_module_version": "1.0.0",
      "model_name": "LayoutModel",
      "state": {}
     },
     "71212dbe304f4df5b9e0ce7ed8ccf172": {
      "model_module": "@jupyter-widgets/controls",
      "model_module_version": "1.2.0",
      "model_name": "DescriptionStyleModel",
      "state": {
       "description_width": ""
      }
     },
     "725dcfc56ef1434e8cd1ced7397146c5": {
      "model_module": "@jupyter-widgets/base",
      "model_module_version": "1.0.0",
      "model_name": "LayoutModel",
      "state": {}
     },
     "769c7c51570f40cf8389939c392061c8": {
      "model_module": "@jupyter-widgets/base",
      "model_module_version": "1.0.0",
      "model_name": "LayoutModel",
      "state": {}
     },
     "776f5ddc998c449ba1759698f677af45": {
      "model_module": "@jupyter-widgets/controls",
      "model_module_version": "1.2.0",
      "model_name": "ButtonStyleModel",
      "state": {}
     },
     "782f819c794b4af1a237602175c1f21c": {
      "model_module": "@jupyter-widgets/controls",
      "model_module_version": "1.2.0",
      "model_name": "ButtonStyleModel",
      "state": {}
     },
     "81586a71fedd4535a5f6d16f8c3c4eb5": {
      "model_module": "@jupyter-widgets/controls",
      "model_module_version": "1.2.0",
      "model_name": "SelectMultipleModel",
      "state": {
       "_options_labels": [
        "a",
        "b",
        "c",
        "d",
        "e",
        "f"
       ],
       "description": "Feature",
       "index": [
        2,
        3
       ],
       "layout": "IPY_MODEL_62dbb70842d541adbffda314a953ff07",
       "rows": 5,
       "style": "IPY_MODEL_04741718bb964d6ead139cf3c2695a5e"
      }
     },
     "823223eb423f4fa19979b67873826d01": {
      "model_module": "@jupyter-widgets/controls",
      "model_module_version": "1.2.0",
      "model_name": "ButtonStyleModel",
      "state": {}
     },
     "854b916190b14c5e9909230bf3214e9f": {
      "model_module": "@jupyter-widgets/base",
      "model_module_version": "1.0.0",
      "model_name": "LayoutModel",
      "state": {}
     },
     "870160e2e0ff4b5ca92260118501c613": {
      "model_module": "@jupyter-widgets/controls",
      "model_module_version": "1.2.0",
      "model_name": "HBoxModel",
      "state": {
       "children": [
        "IPY_MODEL_3c63f8b2af4c4f6093114b64590b6f52",
        "IPY_MODEL_b49b85c68ed44122b7ba4a8ab91b9fbf"
       ],
       "layout": "IPY_MODEL_f2cab4d29de84b08ad02de4d4e5eac4e"
      }
     },
     "892daaf8f7d44404a403c4a0789fdaa8": {
      "model_module": "@jupyter-widgets/base",
      "model_module_version": "1.0.0",
      "model_name": "LayoutModel",
      "state": {}
     },
     "89aa27487f354df8ae0a940b79449afd": {
      "model_module": "@jupyter-widgets/base",
      "model_module_version": "1.0.0",
      "model_name": "LayoutModel",
      "state": {}
     },
     "8ac31e3e5252432393da790d422109de": {
      "model_module": "@jupyter-widgets/controls",
      "model_module_version": "1.2.0",
      "model_name": "DescriptionStyleModel",
      "state": {
       "description_width": ""
      }
     },
     "8ce14ac1a49643828478210ced018eb4": {
      "model_module": "@jupyter-widgets/base",
      "model_module_version": "1.0.0",
      "model_name": "LayoutModel",
      "state": {}
     },
     "8df03eccf4f940cbb1fa92982af83318": {
      "model_module": "@jupyter-widgets/controls",
      "model_module_version": "1.2.0",
      "model_name": "ButtonStyleModel",
      "state": {}
     },
     "8fe41c34afb54d898be42fca5e768569": {
      "model_module": "@jupyter-widgets/base",
      "model_module_version": "1.0.0",
      "model_name": "LayoutModel",
      "state": {}
     },
     "9022bf63da7d4de7a7e366618d175ce2": {
      "model_module": "@jupyter-widgets/controls",
      "model_module_version": "1.2.0",
      "model_name": "DescriptionStyleModel",
      "state": {
       "description_width": ""
      }
     },
     "908727adfdc946a682476b2ca3829613": {
      "model_module": "@jupyter-widgets/controls",
      "model_module_version": "1.2.0",
      "model_name": "HBoxModel",
      "state": {
       "children": [
        "IPY_MODEL_cb1f3e95be89400d95a54b12dae5c805",
        "IPY_MODEL_3c9ec95147b34c2fb48865a0d83738a8"
       ],
       "layout": "IPY_MODEL_4f077572744f4ac0b37ff979b6e39213"
      }
     },
     "91adf090b1674cbf83df2204098eae28": {
      "model_module": "@jupyter-widgets/base",
      "model_module_version": "1.0.0",
      "model_name": "LayoutModel",
      "state": {}
     },
     "924b88de065b4a89b6df3eeaca50c9dc": {
      "model_module": "@jupyter-widgets/base",
      "model_module_version": "1.0.0",
      "model_name": "LayoutModel",
      "state": {}
     },
     "930961d22a4b466cb461d1f7ee717dc0": {
      "model_module": "@jupyter-widgets/controls",
      "model_module_version": "1.2.0",
      "model_name": "ButtonStyleModel",
      "state": {}
     },
     "936175bfcfea408f9867054fa05bcfbc": {
      "model_module": "@jupyter-widgets/controls",
      "model_module_version": "1.2.0",
      "model_name": "SelectMultipleModel",
      "state": {
       "_options_labels": [
        "hair",
        "feathers",
        "eggs",
        "milk",
        "airborne",
        "aquatic",
        "predator",
        "toothed",
        "backbone",
        "breathes",
        "venomous",
        "fins",
        "legs",
        "tail",
        "domestic",
        "catsize"
       ],
       "description": "Feature",
       "index": [],
       "layout": "IPY_MODEL_a05f845e0d534a7aa7f1bb7798d0a5d9",
       "rows": 5,
       "style": "IPY_MODEL_71212dbe304f4df5b9e0ce7ed8ccf172"
      }
     },
     "9364afc25e104d868a77390a603399d5": {
      "model_module": "@jupyter-widgets/base",
      "model_module_version": "1.0.0",
      "model_name": "LayoutModel",
      "state": {}
     },
     "9381453e0fc84a55826708f9eb2bd8ba": {
      "model_module": "@jupyter-widgets/controls",
      "model_module_version": "1.2.0",
      "model_name": "HBoxModel",
      "state": {
       "children": [
        "IPY_MODEL_51358f71ab574836a0c2e9714d2d5aac",
        "IPY_MODEL_5217c3e7ed1943428db97144088f6dca"
       ],
       "layout": "IPY_MODEL_a3aa805461f64e229dbc1d5f30023cf6"
      }
     },
     "9470847ab38c464e992b7cbb1710424f": {
      "model_module": "@jupyter-widgets/controls",
      "model_module_version": "1.2.0",
      "model_name": "SelectMultipleModel",
      "state": {
       "_options_labels": [
        "a",
        "b",
        "c",
        "d",
        "e",
        "f"
       ],
       "description": "Feature",
       "index": [
        1,
        2
       ],
       "layout": "IPY_MODEL_b520a983db464dc88f8ddb106f093ace",
       "rows": 5,
       "style": "IPY_MODEL_8ac31e3e5252432393da790d422109de"
      }
     },
     "9478ac2da4b344978fb8bc14a3e9b3a0": {
      "model_module": "@jupyter-widgets/base",
      "model_module_version": "1.0.0",
      "model_name": "LayoutModel",
      "state": {}
     },
     "950958df151b4cdca07a1d0a96795b4b": {
      "model_module": "@jupyter-widgets/controls",
      "model_module_version": "1.2.0",
      "model_name": "ButtonModel",
      "state": {
       "description": "Clear",
       "layout": "IPY_MODEL_ac06e87a54214aaa9c5ff947b12abada",
       "style": "IPY_MODEL_30f23039f73e4c7ca695aee6be582e2c"
      }
     },
     "96a39cc985354ae4a4c84551b71e906c": {
      "model_module": "@jupyter-widgets/base",
      "model_module_version": "1.0.0",
      "model_name": "LayoutModel",
      "state": {}
     },
     "977a973d28fd4af6ab70b4fcae63a4f8": {
      "model_module": "@jupyter-widgets/controls",
      "model_module_version": "1.2.0",
      "model_name": "ButtonStyleModel",
      "state": {}
     },
     "97e7ca81a4584145bacedc6fefa5bb14": {
      "model_module": "@jupyter-widgets/controls",
      "model_module_version": "1.2.0",
      "model_name": "ButtonModel",
      "state": {
       "description": "Compute",
       "layout": "IPY_MODEL_6d2bd16f68394fb6b3465f9a12c3d0a6",
       "style": "IPY_MODEL_55647787330f49df9c02900d0fd2b62a"
      }
     },
     "993eb9824e754425b295ddc1a7c02289": {
      "model_module": "@jupyter-widgets/controls",
      "model_module_version": "1.2.0",
      "model_name": "ButtonStyleModel",
      "state": {}
     },
     "9a29f8a0de674c6da7a601fe5a0e2bf3": {
      "model_module": "@jupyter-widgets/controls",
      "model_module_version": "1.2.0",
      "model_name": "ButtonStyleModel",
      "state": {}
     },
     "9beda7bb66f1430fbe316d5e3a62b846": {
      "model_module": "@jupyter-widgets/controls",
      "model_module_version": "1.2.0",
      "model_name": "SelectMultipleModel",
      "state": {
       "_options_labels": [
        "a",
        "b",
        "c",
        "d",
        "e",
        "f"
       ],
       "description": "Feature",
       "index": [
        3,
        4
       ],
       "layout": "IPY_MODEL_10609eeab62247e9afb46236a33809cd",
       "rows": 5,
       "style": "IPY_MODEL_9022bf63da7d4de7a7e366618d175ce2"
      }
     },
     "9cf930aa0ddb4aaaae9f3e4a42f1a659": {
      "model_module": "@jupyter-widgets/controls",
      "model_module_version": "1.2.0",
      "model_name": "DescriptionStyleModel",
      "state": {
       "description_width": ""
      }
     },
     "9d0bc3c720f24bb389a794b32bf49bb9": {
      "model_module": "@jupyter-widgets/controls",
      "model_module_version": "1.2.0",
      "model_name": "HBoxModel",
      "state": {
       "children": [
        "IPY_MODEL_a7137247663340f1a6fc1601b866f56e",
        "IPY_MODEL_e6aa8e7424784dbf9730ba3bf7fc85b9"
       ],
       "layout": "IPY_MODEL_0c71c505eb63454a8d3456bdb39224c9"
      }
     },
     "a05f845e0d534a7aa7f1bb7798d0a5d9": {
      "model_module": "@jupyter-widgets/base",
      "model_module_version": "1.0.0",
      "model_name": "LayoutModel",
      "state": {}
     },
     "a24135615a0c4466ac345d433c08ba8c": {
      "model_module": "@jupyter-widgets/base",
      "model_module_version": "1.0.0",
      "model_name": "LayoutModel",
      "state": {}
     },
     "a3aa805461f64e229dbc1d5f30023cf6": {
      "model_module": "@jupyter-widgets/base",
      "model_module_version": "1.0.0",
      "model_name": "LayoutModel",
      "state": {}
     },
     "a7137247663340f1a6fc1601b866f56e": {
      "model_module": "@jupyter-widgets/controls",
      "model_module_version": "1.2.0",
      "model_name": "ButtonModel",
      "state": {
       "description": "Compute",
       "layout": "IPY_MODEL_afa12e2845ad43f38504c802599c0d8c",
       "style": "IPY_MODEL_356fbf59d9b346e68b54341fd2a811b8"
      }
     },
     "a83283f32af84dff890bcee61dd395af": {
      "model_module": "@jupyter-widgets/controls",
      "model_module_version": "1.2.0",
      "model_name": "ButtonModel",
      "state": {
       "description": "Compute",
       "layout": "IPY_MODEL_8fe41c34afb54d898be42fca5e768569",
       "style": "IPY_MODEL_823223eb423f4fa19979b67873826d01"
      }
     },
     "a881ea2208d44288bf819aa717ade353": {
      "model_module": "@jupyter-widgets/controls",
      "model_module_version": "1.2.0",
      "model_name": "DescriptionStyleModel",
      "state": {
       "description_width": ""
      }
     },
     "ab3bb3113c2440adaec82ef73644aeb0": {
      "model_module": "@jupyter-widgets/controls",
      "model_module_version": "1.2.0",
      "model_name": "ButtonModel",
      "state": {
       "description": "Clear",
       "layout": "IPY_MODEL_27222477bb47422e88a21deb5290f115",
       "style": "IPY_MODEL_930961d22a4b466cb461d1f7ee717dc0"
      }
     },
     "ac06e87a54214aaa9c5ff947b12abada": {
      "model_module": "@jupyter-widgets/base",
      "model_module_version": "1.0.0",
      "model_name": "LayoutModel",
      "state": {}
     },
     "adf70db129d84eed88149f3aa92fb30a": {
      "model_module": "@jupyter-widgets/base",
      "model_module_version": "1.0.0",
      "model_name": "LayoutModel",
      "state": {}
     },
     "afa12e2845ad43f38504c802599c0d8c": {
      "model_module": "@jupyter-widgets/base",
      "model_module_version": "1.0.0",
      "model_name": "LayoutModel",
      "state": {}
     },
     "b0ea7e1bbc4e4961b70675278eb43bf5": {
      "model_module": "@jupyter-widgets/base",
      "model_module_version": "1.0.0",
      "model_name": "LayoutModel",
      "state": {}
     },
     "b39de891c2314612b39a792519096892": {
      "model_module": "@jupyter-widgets/controls",
      "model_module_version": "1.2.0",
      "model_name": "ButtonStyleModel",
      "state": {}
     },
     "b49b85c68ed44122b7ba4a8ab91b9fbf": {
      "model_module": "@jupyter-widgets/controls",
      "model_module_version": "1.2.0",
      "model_name": "ButtonModel",
      "state": {
       "description": "Clear",
       "layout": "IPY_MODEL_924b88de065b4a89b6df3eeaca50c9dc",
       "style": "IPY_MODEL_ed198a3e02a64a25b7014b57887baf2c"
      }
     },
     "b4f5bc26d04f4886a77e8cf2fa59409f": {
      "model_module": "@jupyter-widgets/base",
      "model_module_version": "1.0.0",
      "model_name": "LayoutModel",
      "state": {}
     },
     "b520a983db464dc88f8ddb106f093ace": {
      "model_module": "@jupyter-widgets/base",
      "model_module_version": "1.0.0",
      "model_name": "LayoutModel",
      "state": {}
     },
     "b5272c58045746a4b49e7d63d25f538d": {
      "model_module": "@jupyter-widgets/controls",
      "model_module_version": "1.2.0",
      "model_name": "ButtonStyleModel",
      "state": {}
     },
     "b52c31507ea944358e7fa575682faa93": {
      "model_module": "@jupyter-widgets/base",
      "model_module_version": "1.0.0",
      "model_name": "LayoutModel",
      "state": {}
     },
     "b5b7ce0f2e904886877f193b23a34536": {
      "model_module": "@jupyter-widgets/controls",
      "model_module_version": "1.2.0",
      "model_name": "HBoxModel",
      "state": {
       "children": [
        "IPY_MODEL_25c50e2a07c843e2be395dd422242ce9",
        "IPY_MODEL_ee04332909644055a30ad7da03942e76"
       ],
       "layout": "IPY_MODEL_b0ea7e1bbc4e4961b70675278eb43bf5"
      }
     },
     "baf65dd6582c4d35b22c2444540f9232": {
      "model_module": "@jupyter-widgets/controls",
      "model_module_version": "1.2.0",
      "model_name": "SelectMultipleModel",
      "state": {
       "_options_labels": [
        "a",
        "b",
        "c",
        "d",
        "e",
        "f"
       ],
       "description": "Feature",
       "index": [
        2,
        3
       ],
       "layout": "IPY_MODEL_2ca151c563854133b6b036fc8e0ed4c4",
       "rows": 5,
       "style": "IPY_MODEL_f2c8704c912a47368dc6b20beb88da62"
      }
     },
     "be4ebde9d81141919975c9730d7bb586": {
      "model_module": "@jupyter-widgets/base",
      "model_module_version": "1.0.0",
      "model_name": "LayoutModel",
      "state": {}
     },
     "bf8bca862b6544969e9bc3483877ed0e": {
      "model_module": "@jupyter-widgets/controls",
      "model_module_version": "1.2.0",
      "model_name": "DescriptionStyleModel",
      "state": {
       "description_width": ""
      }
     },
     "c096c6002ed14b1aa1886df0db52dc2d": {
      "model_module": "@jupyter-widgets/base",
      "model_module_version": "1.0.0",
      "model_name": "LayoutModel",
      "state": {}
     },
     "c3a7320bbac84253ad807cb85c717167": {
      "model_module": "@jupyter-widgets/controls",
      "model_module_version": "1.2.0",
      "model_name": "HBoxModel",
      "state": {
       "children": [
        "IPY_MODEL_324a11a5a2934139a66cc0c994c07449",
        "IPY_MODEL_c4b7df04777e4a9e8c5deac2a80d7b7b"
       ],
       "layout": "IPY_MODEL_db234f14e1364728a75ed20917d479c1"
      }
     },
     "c4b7df04777e4a9e8c5deac2a80d7b7b": {
      "model_module": "@jupyter-widgets/controls",
      "model_module_version": "1.2.0",
      "model_name": "ButtonModel",
      "state": {
       "description": "Clear",
       "layout": "IPY_MODEL_3a629b2a70bd4d31b4b8e1fe2499d3e7",
       "style": "IPY_MODEL_9a29f8a0de674c6da7a601fe5a0e2bf3"
      }
     },
     "c4e24506b59f4fe188523b3dcd2c1acf": {
      "model_module": "@jupyter-widgets/controls",
      "model_module_version": "1.2.0",
      "model_name": "ButtonModel",
      "state": {
       "description": "Compute",
       "layout": "IPY_MODEL_290099008c2e4554955c5f7ac32236f9",
       "style": "IPY_MODEL_29f4c8bed13e45aab9855d6663687a07"
      }
     },
     "c506ac0da2034c8788366fc888aa7dbb": {
      "model_module": "@jupyter-widgets/controls",
      "model_module_version": "1.2.0",
      "model_name": "ButtonStyleModel",
      "state": {}
     },
     "c6c57e51ccd144aebb3008db85c26f2b": {
      "model_module": "@jupyter-widgets/base",
      "model_module_version": "1.0.0",
      "model_name": "LayoutModel",
      "state": {}
     },
     "ca220b3de5f94f3ea240052a3480c6c3": {
      "model_module": "@jupyter-widgets/controls",
      "model_module_version": "1.2.0",
      "model_name": "SelectMultipleModel",
      "state": {
       "_options_labels": [
        "a",
        "b",
        "c",
        "d",
        "e",
        "f"
       ],
       "description": "Feature",
       "index": [],
       "layout": "IPY_MODEL_f0bcde06e9ca42ec970eb290dce3fd11",
       "rows": 5,
       "style": "IPY_MODEL_6c46d58ff5c148baa29dd2585dd4c262"
      }
     },
     "ca63b4308f194777915588ad87bd9fac": {
      "model_module": "@jupyter-widgets/base",
      "model_module_version": "1.0.0",
      "model_name": "LayoutModel",
      "state": {}
     },
     "cad8ae44bcee4dbf9417cc654f935142": {
      "model_module": "@jupyter-widgets/base",
      "model_module_version": "1.0.0",
      "model_name": "LayoutModel",
      "state": {}
     },
     "cb1f3e95be89400d95a54b12dae5c805": {
      "model_module": "@jupyter-widgets/controls",
      "model_module_version": "1.2.0",
      "model_name": "ButtonModel",
      "state": {
       "description": "Compute",
       "layout": "IPY_MODEL_24c2ace2615c48ee9de335e51ab8861b",
       "style": "IPY_MODEL_6d9a5a88122b4c45988902e168d39871"
      }
     },
     "cbaa452163c746f39a094295fbcefe31": {
      "model_module": "@jupyter-widgets/controls",
      "model_module_version": "1.2.0",
      "model_name": "ButtonStyleModel",
      "state": {}
     },
     "cbc0bd87e5c64be2aa5d59075855f308": {
      "model_module": "@jupyter-widgets/controls",
      "model_module_version": "1.2.0",
      "model_name": "ButtonStyleModel",
      "state": {}
     },
     "d0db2e2fdfaf4892becfe3f4d8a47ce5": {
      "model_module": "@jupyter-widgets/controls",
      "model_module_version": "1.2.0",
      "model_name": "SelectMultipleModel",
      "state": {
       "_options_labels": [
        "a",
        "b",
        "c",
        "d",
        "e",
        "f"
       ],
       "description": "Feature",
       "index": [
        2,
        3
       ],
       "layout": "IPY_MODEL_3968995c09c142ecbc4af9cfeabb7ef1",
       "rows": 5,
       "style": "IPY_MODEL_493a830544ee4c59bacf9d91c3be61ce"
      }
     },
     "d3db4f25fdce41c1be3054ff3c75480e": {
      "model_module": "@jupyter-widgets/base",
      "model_module_version": "1.0.0",
      "model_name": "LayoutModel",
      "state": {}
     },
     "d4d4cbdfa139462ebbe762f5b92c69d0": {
      "model_module": "@jupyter-widgets/controls",
      "model_module_version": "1.2.0",
      "model_name": "ButtonStyleModel",
      "state": {}
     },
     "d65e798ad4264bbf8e066ef91a9a4ef8": {
      "model_module": "@jupyter-widgets/controls",
      "model_module_version": "1.2.0",
      "model_name": "ButtonStyleModel",
      "state": {}
     },
     "d91cc367d15a41a0aabe868ae1d725ff": {
      "model_module": "@jupyter-widgets/base",
      "model_module_version": "1.0.0",
      "model_name": "LayoutModel",
      "state": {}
     },
     "daafbe4d57034f18a7f4e0e47e67116a": {
      "model_module": "@jupyter-widgets/controls",
      "model_module_version": "1.2.0",
      "model_name": "DescriptionStyleModel",
      "state": {
       "description_width": ""
      }
     },
     "db234f14e1364728a75ed20917d479c1": {
      "model_module": "@jupyter-widgets/base",
      "model_module_version": "1.0.0",
      "model_name": "LayoutModel",
      "state": {}
     },
     "de154a9453344f0180d69cfa31006860": {
      "model_module": "@jupyter-widgets/base",
      "model_module_version": "1.0.0",
      "model_name": "LayoutModel",
      "state": {}
     },
     "dea59eba6c894eb9bfc5be54f662ab48": {
      "model_module": "@jupyter-widgets/controls",
      "model_module_version": "1.2.0",
      "model_name": "ButtonModel",
      "state": {
       "description": "Clear",
       "layout": "IPY_MODEL_adf70db129d84eed88149f3aa92fb30a",
       "style": "IPY_MODEL_cbc0bd87e5c64be2aa5d59075855f308"
      }
     },
     "dfc43b03ad7b4387a1ea33a1699a003b": {
      "model_module": "@jupyter-widgets/base",
      "model_module_version": "1.0.0",
      "model_name": "LayoutModel",
      "state": {}
     },
     "e2f8cf5b47e34e9b85b5a0a044281730": {
      "model_module": "@jupyter-widgets/controls",
      "model_module_version": "1.2.0",
      "model_name": "ButtonStyleModel",
      "state": {}
     },
     "e3544009aa824952997ce872dc4da983": {
      "model_module": "@jupyter-widgets/controls",
      "model_module_version": "1.2.0",
      "model_name": "HBoxModel",
      "state": {
       "children": [
        "IPY_MODEL_fcbbb507b5664946b7c3d0fd5b5ee04d",
        "IPY_MODEL_f51c2675ced6460a9f73b1ab9eaa666b"
       ],
       "layout": "IPY_MODEL_9478ac2da4b344978fb8bc14a3e9b3a0"
      }
     },
     "e3654d61cbf8445fadf422657ecc6adf": {
      "model_module": "@jupyter-widgets/base",
      "model_module_version": "1.0.0",
      "model_name": "LayoutModel",
      "state": {}
     },
     "e49b571dde0c4a43bb9ebe86a2203bfd": {
      "model_module": "@jupyter-widgets/base",
      "model_module_version": "1.0.0",
      "model_name": "LayoutModel",
      "state": {}
     },
     "e6aa8e7424784dbf9730ba3bf7fc85b9": {
      "model_module": "@jupyter-widgets/controls",
      "model_module_version": "1.2.0",
      "model_name": "ButtonModel",
      "state": {
       "description": "Clear",
       "layout": "IPY_MODEL_f467fa805bcb4182adc767f847f9b833",
       "style": "IPY_MODEL_993eb9824e754425b295ddc1a7c02289"
      }
     },
     "e91a5181b6814e82bbaaad17383dddd8": {
      "model_module": "@jupyter-widgets/controls",
      "model_module_version": "1.2.0",
      "model_name": "HBoxModel",
      "state": {
       "children": [
        "IPY_MODEL_1c633375177d43d7beb0df262c1429e7",
        "IPY_MODEL_1a7d543d7d5245c0b4460213b1318555"
       ],
       "layout": "IPY_MODEL_a24135615a0c4466ac345d433c08ba8c"
      }
     },
     "e93309b68ead4ab086543437e4df5909": {
      "model_module": "@jupyter-widgets/controls",
      "model_module_version": "1.2.0",
      "model_name": "SelectMultipleModel",
      "state": {
       "_options_labels": [
        "a",
        "b",
        "c",
        "d",
        "e",
        "f"
       ],
       "description": "Feature",
       "index": [
        0,
        1
       ],
       "layout": "IPY_MODEL_d3db4f25fdce41c1be3054ff3c75480e",
       "rows": 5,
       "style": "IPY_MODEL_daafbe4d57034f18a7f4e0e47e67116a"
      }
     },
     "ed018d819afb45d6835fcb858468b432": {
      "model_module": "@jupyter-widgets/controls",
      "model_module_version": "1.2.0",
      "model_name": "ButtonModel",
      "state": {
       "description": "Clear",
       "layout": "IPY_MODEL_09a9ebdc055b4b17a95764d7facce084",
       "style": "IPY_MODEL_977a973d28fd4af6ab70b4fcae63a4f8"
      }
     },
     "ed198a3e02a64a25b7014b57887baf2c": {
      "model_module": "@jupyter-widgets/controls",
      "model_module_version": "1.2.0",
      "model_name": "ButtonStyleModel",
      "state": {}
     },
     "ee04332909644055a30ad7da03942e76": {
      "model_module": "@jupyter-widgets/controls",
      "model_module_version": "1.2.0",
      "model_name": "ButtonModel",
      "state": {
       "description": "Clear",
       "layout": "IPY_MODEL_1743f8f39f0d4e358c02360ec3e3352d",
       "style": "IPY_MODEL_ffcdb664ab604e22a01dd8cadbf8d457"
      }
     },
     "f0bcde06e9ca42ec970eb290dce3fd11": {
      "model_module": "@jupyter-widgets/base",
      "model_module_version": "1.0.0",
      "model_name": "LayoutModel",
      "state": {}
     },
     "f2c8704c912a47368dc6b20beb88da62": {
      "model_module": "@jupyter-widgets/controls",
      "model_module_version": "1.2.0",
      "model_name": "DescriptionStyleModel",
      "state": {
       "description_width": ""
      }
     },
     "f2cab4d29de84b08ad02de4d4e5eac4e": {
      "model_module": "@jupyter-widgets/base",
      "model_module_version": "1.0.0",
      "model_name": "LayoutModel",
      "state": {}
     },
     "f32182c15fbb4038838278bb6b5f3301": {
      "model_module": "@jupyter-widgets/controls",
      "model_module_version": "1.2.0",
      "model_name": "ButtonStyleModel",
      "state": {}
     },
     "f3982c91d5b346f0b588ac4741b6bc5e": {
      "model_module": "@jupyter-widgets/controls",
      "model_module_version": "1.2.0",
      "model_name": "ButtonModel",
      "state": {
       "description": "Compute",
       "layout": "IPY_MODEL_23bed4ec9e4a49d3b64280d0c810a7d8",
       "style": "IPY_MODEL_8df03eccf4f940cbb1fa92982af83318"
      }
     },
     "f3a9db964d7f403d9b79e37f2398d99a": {
      "model_module": "@jupyter-widgets/controls",
      "model_module_version": "1.2.0",
      "model_name": "ButtonStyleModel",
      "state": {}
     },
     "f467fa805bcb4182adc767f847f9b833": {
      "model_module": "@jupyter-widgets/base",
      "model_module_version": "1.0.0",
      "model_name": "LayoutModel",
      "state": {}
     },
     "f4cd33e732054bcca681531dbc6db776": {
      "model_module": "@jupyter-widgets/controls",
      "model_module_version": "1.2.0",
      "model_name": "ButtonModel",
      "state": {
       "description": "Compute",
       "layout": "IPY_MODEL_c6c57e51ccd144aebb3008db85c26f2b",
       "style": "IPY_MODEL_d65e798ad4264bbf8e066ef91a9a4ef8"
      }
     },
     "f51c2675ced6460a9f73b1ab9eaa666b": {
      "model_module": "@jupyter-widgets/controls",
      "model_module_version": "1.2.0",
      "model_name": "ButtonModel",
      "state": {
       "description": "Clear",
       "layout": "IPY_MODEL_005b76ac6d9d432d97818fc25143652d",
       "style": "IPY_MODEL_1f9126bfdc29407bbf0901e1bf59e2a8"
      }
     },
     "f59abb99c3604208aa0485dc5e7fd68f": {
      "model_module": "@jupyter-widgets/base",
      "model_module_version": "1.0.0",
      "model_name": "LayoutModel",
      "state": {}
     },
     "f992e797bbd8441483daf7d6b430b8fd": {
      "model_module": "@jupyter-widgets/controls",
      "model_module_version": "1.2.0",
      "model_name": "HBoxModel",
      "state": {
       "children": [
        "IPY_MODEL_a83283f32af84dff890bcee61dd395af",
        "IPY_MODEL_04969d0c273d4716a4ce06087b61113b"
       ],
       "layout": "IPY_MODEL_9364afc25e104d868a77390a603399d5"
      }
     },
     "fbef610955af4caeae923b1dc57966d1": {
      "model_module": "@jupyter-widgets/controls",
      "model_module_version": "1.2.0",
      "model_name": "ButtonModel",
      "state": {
       "description": "Compute",
       "layout": "IPY_MODEL_e3654d61cbf8445fadf422657ecc6adf",
       "style": "IPY_MODEL_5a40e96834144b0291560b2f105412bb"
      }
     },
     "fcbbb507b5664946b7c3d0fd5b5ee04d": {
      "model_module": "@jupyter-widgets/controls",
      "model_module_version": "1.2.0",
      "model_name": "ButtonModel",
      "state": {
       "description": "Compute",
       "layout": "IPY_MODEL_2f4f2d7d2bde4fd59bd5e2a6395d7e3c",
       "style": "IPY_MODEL_f32182c15fbb4038838278bb6b5f3301"
      }
     },
     "ffcdb664ab604e22a01dd8cadbf8d457": {
      "model_module": "@jupyter-widgets/controls",
      "model_module_version": "1.2.0",
      "model_name": "ButtonStyleModel",
      "state": {}
     }
    },
    "version_major": 2,
    "version_minor": 0
   }
  }
 },
 "nbformat": 4,
 "nbformat_minor": 2
}
